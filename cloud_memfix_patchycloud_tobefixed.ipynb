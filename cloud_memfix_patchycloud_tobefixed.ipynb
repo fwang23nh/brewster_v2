{
 "cells": [
  {
   "cell_type": "markdown",
   "id": "c05dd197",
   "metadata": {},
   "source": [
    "## Known Issue\n",
    "The code currently crashes when running the patchy cloud configuration (one patch with a clear atmosphere and one with clouds)."
   ]
  },
  {
   "cell_type": "code",
   "execution_count": 1,
   "id": "c4dc583e",
   "metadata": {},
   "outputs": [],
   "source": [
    "import os \n",
    "import test_module\n",
    "from collections import namedtuple\n",
    "import numpy as np\n",
    "import retrieval_run\n",
    "import settings\n",
    "import cloud_dic\n",
    "import utils\n",
    "import test_module\n",
    "import brewtools"
   ]
  },
  {
   "cell_type": "code",
   "execution_count": 2,
   "id": "0accb389-8148-497d-8dce-33c8a9c5fc66",
   "metadata": {},
   "outputs": [],
   "source": [
    "# instrument\n",
    "\n",
    "fwhm=555\n",
    "wavelength_range=[0.95,2.85]\n",
    "ndata=1\n",
    "Rfile='./examples/example_data/G570D_R_file.txt'\n",
    "\n",
    "\n",
    "\n",
    "#retrieval_params\n",
    "\n",
    "##gas\n",
    "chemeq=0\n",
    "# gaslist = ['h2o','co','tio','vo','crh','feh','na','k']\n",
    "gaslist = ['h2o','ch4']\n",
    "gastype_list=['U','U']\n",
    "ptype=7  \n",
    "\n",
    "\n",
    "cloudpath='/Users/fw23aao/Downloads/cloud_pickles/'\n",
    "\n",
    "## clouds\n",
    "\n",
    "do_clouds=1\n",
    "\n",
    "\n",
    "npatches=2\n",
    "# List of all cloud names in the atmosphere.\n",
    "# Format: \n",
    "#   - For general types, just a descriptive name. like power law cloud slab, powerlaw cloud deck,\n",
    "# grey cloud deck, grey cloud slab\n",
    "#   - For Mie scattering clouds, specify species after `--`, e.g., 'Mie scattering cloud deck--Al2O3'\n",
    "cloud_name = ['clear',     # A clear atmosphere case (no cloud)\n",
    "    'MgSiO3.mieff',   # A MgSiO3 Mie scattering cloud slab\n",
    "                              \n",
    "]\n",
    "\n",
    "cloud_type=[\"None\",\"slab\"]\n",
    "\n",
    "\n",
    "# Specify which cloud belongs to which patch.\n",
    "# Each sublist corresponds to an entry in `cloudname`.\n",
    "# Use [1] for patch 1, [2] for patch 2, or [1,2] if the cloud exists in both.\n",
    "\n",
    "cloudpatch_index = [\n",
    "    [1],      # 'clear' appears only in patch 1\n",
    "    [2]       # 'Mie scattering cloud deck--Al2O3' appears in patch 2\n",
    "]\n",
    "\n",
    "# List of particle distributions associated with each cloud in `cloudname`.\n",
    "# Use 'None' for non-Mie clouds or clouds without particle size distributions.\n",
    "# For Mie clouds, specify the distribution model 'hansan' or 'log_normal'.)\n",
    "particle_dis = [\n",
    "    'None',   # No particle distribution for clear \n",
    "    'hansen' # Mie cloud uses 'hansen' particle size distribution\n",
    "        \n",
    "]\n",
    "\n",
    "\n",
    "\n",
    "# ModelConfig:\n",
    "do_fudge=1\n",
    "samplemode='mcmc'\n",
    "\n",
    "# instrument_instance = utils_dev.Instrument(fwhm,wavelength_range,ndata,Rfile)\n",
    "# re_params = utils_dev.Retrieval_params(samplemode,chemeq,gaslist,gastype_list,fwhm,do_fudge,ptype,do_clouds,npatches,cloudname,cloudpacth_index,particle_dis)\n",
    "# model_config_instance = utils_dev.ModelConfig(samplemode,do_fudge)\n",
    "# io_config_instance = utils_dev.IOConfig()\n",
    "\n",
    "instrument_instance = utils.Instrument(fwhm,wavelength_range,ndata,None, Rfile)\n",
    "re_params = utils.Retrieval_params(samplemode,chemeq,gaslist,gastype_list,fwhm,do_fudge,ptype,do_clouds,npatches,cloud_name,cloud_type,cloudpatch_index,particle_dis, instrument_instance)\n",
    "model_config_instance = utils.ModelConfig(samplemode,do_fudge,cloudpath=cloudpath)\n",
    "io_config_instance = utils.IOConfig()\n",
    "\n",
    "\n",
    "\n",
    "\n",
    "model_config_instance.dist= 5.84\n",
    "model_config_instance.xlist ='data/gaslistRox.dat'\n",
    "model_config_instance.xpath ='../../Linelists/'\n",
    "model_config_instance.do_bff=0\n",
    "model_config_instance.malk=1\n",
    "model_config_instance.ch4=0\n",
    "model_config_instance.update_dictionary()"
   ]
  },
  {
   "cell_type": "code",
   "execution_count": 3,
   "id": "0a14f29f",
   "metadata": {},
   "outputs": [],
   "source": [
    "obspec = np.asfortranarray(np.loadtxt(\"./examples/example_data/G570D_2MHcalib.dat\",dtype='d',unpack='true')) # G570D_2MassJcalib.dat\n",
    "args_instance = utils.ArgsGen(re_params,model_config_instance,instrument_instance,obspec)\n",
    "settings.init(args_instance)"
   ]
  },
  {
   "cell_type": "code",
   "execution_count": 4,
   "id": "082f08a3",
   "metadata": {},
   "outputs": [
    {
     "data": {
      "text/plain": [
       "((1,), ['Mie scattering cloud slab--MgSiO3.mieff'])"
      ]
     },
     "execution_count": 4,
     "metadata": {},
     "output_type": "execute_result"
    }
   ],
   "source": [
    "np.shape(args_instance.cloudname_set),args_instance.cloudname_set"
   ]
  },
  {
   "cell_type": "code",
   "execution_count": 5,
   "id": "19e7585c",
   "metadata": {},
   "outputs": [
    {
     "data": {
      "text/plain": [
       "((1,), array(['MgSiO3.mieff'], dtype=object))"
      ]
     },
     "execution_count": 5,
     "metadata": {},
     "output_type": "execute_result"
    }
   ],
   "source": [
    "np.shape(args_instance.cloud_opaname),args_instance.cloud_opaname"
   ]
  },
  {
   "cell_type": "code",
   "execution_count": 6,
   "id": "13125998",
   "metadata": {},
   "outputs": [
    {
     "data": {
      "text/plain": [
       "((2, 1),\n",
       " array([[0],\n",
       "        [1]]))"
      ]
     },
     "execution_count": 6,
     "metadata": {},
     "output_type": "execute_result"
    }
   ],
   "source": [
    "np.shape(args_instance.cloudmap),args_instance.cloudmap"
   ]
  },
  {
   "cell_type": "code",
   "execution_count": 7,
   "id": "c8feb1ba",
   "metadata": {},
   "outputs": [
    {
     "data": {
      "text/plain": [
       "(array([0.00000000e+00, 0.00000000e+00, 0.00000000e+00, 0.00000000e+00,\n",
       "        0.00000000e+00, 0.00000000e+00, 0.00000000e+00, 0.00000000e+00,\n",
       "        0.00000000e+00, 0.00000000e+00, 0.00000000e+00, 0.00000000e+00,\n",
       "        0.00000000e+00, 1.00000000e-12, 2.00000000e-12, 5.00000000e-12,\n",
       "        1.30000000e-11, 3.70000000e-11, 1.06000000e-10, 3.04000000e-10,\n",
       "        8.69000000e-10, 2.48700000e-09, 7.11600000e-09, 2.03620000e-08,\n",
       "        5.82650000e-08, 1.66731000e-07, 4.77153000e-07, 1.36568700e-06,\n",
       "        3.90962600e-06, 1.11962190e-05, 3.20822300e-05, 9.20219970e-05,\n",
       "        2.64393598e-04, 7.61805277e-04, 2.20551943e-03, 6.43642918e-03,\n",
       "        1.90325899e-02, 5.74695347e-02, 1.78767069e-01, 5.74958564e-01,\n",
       "        2.18326626e+00, 3.93518932e+00, 3.00092616e+00, 1.59371580e+00,\n",
       "        1.52774559e+00, 1.85614986e+00, 1.44999595e+00, 1.45669619e+00,\n",
       "        1.39099133e+00, 1.35703222e+00, 1.32754488e+00, 1.31539205e+00,\n",
       "        1.30581757e+00, 1.29863460e+00, 1.29186699e+00, 1.28554749e+00,\n",
       "        1.27961285e+00, 1.27411302e+00, 1.26905743e+00, 1.26444235e+00]),\n",
       " (60,))"
      ]
     },
     "execution_count": 7,
     "metadata": {},
     "output_type": "execute_result"
    }
   ],
   "source": [
    "args_instance.cloudata[0,0,0],np.shape(args_instance.cloudata[0,0,0])"
   ]
  },
  {
   "cell_type": "code",
   "execution_count": 8,
   "id": "1b66324f",
   "metadata": {},
   "outputs": [
    {
     "data": {
      "text/plain": [
       "{'gas': {'h2o': {'gastype': 'U',\n",
       "   'params': {'log_abund': {'initialization': None,\n",
       "     'distribution': ['normal', -4.0, 0.5],\n",
       "     'range': [-12, 0],\n",
       "     'prior': None}}},\n",
       "  'ch4': {'gastype': 'U',\n",
       "   'params': {'log_abund': {'initialization': None,\n",
       "     'distribution': ['normal', -4.0, 0.5],\n",
       "     'range': [-12, 0],\n",
       "     'prior': None}}}},\n",
       " 'refinement_params': {'params': {'logg': {'initialization': None,\n",
       "    'distribution': ['normal', 4.5, 0.1],\n",
       "    'range': [0, 6],\n",
       "    'prior': None},\n",
       "   'r2d2': {'initialization': None,\n",
       "    'distribution': ['normal', 0, 1],\n",
       "    'range': [0, 1],\n",
       "    'prior': None},\n",
       "   'dlambda': {'initialization': None,\n",
       "    'distribution': ['normal', 0, 0.001],\n",
       "    'range': [-0.01, 0.01],\n",
       "    'prior': None},\n",
       "   'tolerance_parameter_1': {'initialization': None,\n",
       "    'distribution': ['customized', 0],\n",
       "    'range': None,\n",
       "    'prior': None}}},\n",
       " 'pt': {'ptype': 7,\n",
       "  'params': {'Tint': {'initialization': None,\n",
       "    'distribution': ['normal', 1200, 200],\n",
       "    'range': [0, 5000],\n",
       "    'prior': None},\n",
       "   'alpha': {'initialization': None,\n",
       "    'distribution': ['uniform', 1, 2],\n",
       "    'range': [1, 2],\n",
       "    'prior': None},\n",
       "   'lndelta': {'initialization': None,\n",
       "    'distribution': ['normal', 0.5, 0.5],\n",
       "    'range': [-20, 0],\n",
       "    'prior': None},\n",
       "   'T1': {'initialization': None,\n",
       "    'distribution': ['normal', 1200, 200],\n",
       "    'range': [0, 5000],\n",
       "    'prior': None},\n",
       "   'T2': {'initialization': None,\n",
       "    'distribution': ['normal', 1200, 200],\n",
       "    'range': [0, 5000],\n",
       "    'prior': None},\n",
       "   'T3': {'initialization': None,\n",
       "    'distribution': ['normal', 1200, 200],\n",
       "    'range': [0, 5000],\n",
       "    'prior': None}}},\n",
       " 'cloud': {'fcld': {'initialization': None,\n",
       "   'distribution': ['uniform', 0, 1],\n",
       "   'range': [0, 1],\n",
       "   'prior': None},\n",
       "  'patch 1': {'clear': {'params': {}}},\n",
       "  'patch 2': {'Mie scattering cloud slab--MgSiO3.mieff': {'cloudtype': 1,\n",
       "    'particle_dis': 'hansen',\n",
       "    'params': {'tau_mcs_MgSiO3': {'initialization': None,\n",
       "      'distribution': ['normal', 10, 1],\n",
       "      'range': [0, 100],\n",
       "      'prior': None},\n",
       "     'logp_mcs_MgSiO3': {'initialization': None,\n",
       "      'distribution': ['normal', -0.2, 0.5],\n",
       "      'range': [-4, 2.4],\n",
       "      'prior': None},\n",
       "     'dp_mcs_MgSiO3': {'initialization': None,\n",
       "      'distribution': ['customized',\n",
       "       <function utils.dp_customized_distribution(x)>],\n",
       "      'range': None,\n",
       "      'prior': None},\n",
       "     'hansen_a_mcs_MgSiO3': {'initialization': None,\n",
       "      'distribution': ['normal', -1.4, 0.1],\n",
       "      'range': [-3, 3],\n",
       "      'prior': None},\n",
       "     'hansen_b_mcs_MgSiO3': {'initialization': None,\n",
       "      'distribution': ['customized',\n",
       "       <function utils.hansen_b_customized_distribution(x)>],\n",
       "      'range': [0, 1],\n",
       "      'prior': None}}}}}}"
      ]
     },
     "execution_count": 8,
     "metadata": {},
     "output_type": "execute_result"
    }
   ],
   "source": [
    "re_params.dictionary"
   ]
  },
  {
   "cell_type": "code",
   "execution_count": 9,
   "id": "a790bfd2",
   "metadata": {},
   "outputs": [],
   "source": [
    "args_instance=settings.runargs\n",
    "all_params,all_params_values =utils.get_all_parametres(re_params.dictionary)\n",
    "\n",
    "if re_params.samplemode=='mcmc':\n",
    "    \n",
    "    model_config_instance.ndim=len(all_params)\n",
    "    model_config_instance.nwalkers=len(all_params)*16\n",
    "\n",
    "    r2d2 = (71492e3)**2. / (model_config_instance.dist * 3.086e+16)**2.\n",
    "    re_params.dictionary['refinement_params']['params']['r2d2']['distribution']=['normal',r2d2,0.1*r2d2]\n",
    "\n",
    "\n",
    "    def tolerance_parameter_customized_distribution(x):\n",
    "        return np.log10((np.random.rand(x)* (max(args_instance.obspec[2,:]**2)*(0.1 - 0.01))) + (0.01*min(args_instance.obspec[2,10::3]**2))) \n",
    "\n",
    "    for i in range(len(all_params)):\n",
    "        if all_params[i].startswith('tolerance_parameter'):\n",
    "            re_params.dictionary['refinement_params']['params'][all_params[i]]['distribution']=['customized',tolerance_parameter_customized_distribution]\n",
    "\n",
    "    if model_config_instance.fresh == 0:\n",
    "        p0=utils.MC_P0_gen(re_params.dictionary,model_config_instance,args_instance)"
   ]
  },
  {
   "cell_type": "code",
   "execution_count": 15,
   "id": "ceff6597",
   "metadata": {},
   "outputs": [
    {
     "data": {
      "text/plain": [
       "params(h2o=-3.795003512192137, ch4=-4.293096654246741, logg=4.499420004846375, r2d2=1.3262515291109674e-19, dlambda=0.0005477085070369851, tolerance_parameter_1=-32.078067278774405, Tint=1501.550669601302, alpha=1.0781603492624172, lndelta=0.4167266231292976, T1=1124.1139023941903, T2=1080.264423381838, T3=1603.309147266379, fcld=0.27693157170368, tau_mcs_MgSiO3=9.342478558582275, logp_mcs_MgSiO3=-0.25581699250057055, dp_mcs_MgSiO3=0.05950364237214564, hansen_a_mcs_MgSiO3=-1.2978502552344984, hansen_b_mcs_MgSiO3=0.24661525703853193)"
      ]
     },
     "execution_count": 15,
     "metadata": {},
     "output_type": "execute_result"
    }
   ],
   "source": [
    "params_master = namedtuple('params',all_params)\n",
    "params_instance = params_master(*p0[0,:])\n",
    "params_instance"
   ]
  },
  {
   "cell_type": "code",
   "execution_count": null,
   "id": "0dcde969",
   "metadata": {},
   "outputs": [],
   "source": [
    "gnostics = 0\n",
    "shiftspec, photspec, tauspec,cfunc = test_module.modelspec(params_instance,re_params,args_instance,gnostics)"
   ]
  },
  {
   "cell_type": "code",
   "execution_count": null,
   "id": "fed4b053",
   "metadata": {},
   "outputs": [],
   "source": []
  },
  {
   "cell_type": "code",
   "execution_count": null,
   "id": "8405096f",
   "metadata": {},
   "outputs": [],
   "source": []
  },
  {
   "cell_type": "code",
   "execution_count": null,
   "id": "4fbf4fd6",
   "metadata": {},
   "outputs": [],
   "source": []
  },
  {
   "cell_type": "code",
   "execution_count": null,
   "id": "4ad2ad77",
   "metadata": {},
   "outputs": [],
   "source": []
  },
  {
   "cell_type": "code",
   "execution_count": 21,
   "id": "7398bedd",
   "metadata": {},
   "outputs": [
    {
     "name": "stdout",
     "output_type": "stream",
     "text": [
      "[[2.85014708e+00 2.84986213e+00 2.84957721e+00 ... 9.50665605e-01\n",
      "  9.50570588e-01 9.50475581e-01]\n",
      " [5.86735031e-15 1.71329998e-15 6.43070984e-15 ... 5.43242930e-14\n",
      "  5.47658755e-14 5.43344577e-14]]\n"
     ]
    }
   ],
   "source": [
    "print(shiftspec)"
   ]
  },
  {
   "cell_type": "code",
   "execution_count": 22,
   "id": "d16de039",
   "metadata": {},
   "outputs": [
    {
     "data": {
      "text/plain": [
       "[<matplotlib.lines.Line2D at 0x35c065b90>]"
      ]
     },
     "execution_count": 22,
     "metadata": {},
     "output_type": "execute_result"
    },
    {
     "data": {
      "image/png": "[encoded data removed]",
      "text/plain": [
       "<Figure size 640x480 with 1 Axes>"
      ]
     },
     "metadata": {},
     "output_type": "display_data"
    }
   ],
   "source": [
    "import matplotlib.pyplot as plt\n",
    "\n",
    "plt.plot(shiftspec[0,:],shiftspec[1,:])"
   ]
  },
  {
   "cell_type": "code",
   "execution_count": 19,
   "id": "12688357",
   "metadata": {
    "scrolled": false
   },
   "outputs": [
    {
     "data": {
      "text/plain": [
       "Text(0.5, 0, 'Wavelength / $\\\\mu m$')"
      ]
     },
     "execution_count": 19,
     "metadata": {},
     "output_type": "execute_result"
    },
    {
     "data": {
      "image/png": "[encoded data removed]",
      "text/plain": [
       "<Figure size 640x480 with 2 Axes>"
      ]
     },
     "metadata": {},
     "output_type": "display_data"
    }
   ],
   "source": [
    "# This one plots a contribution function \n",
    "# get diagnostics along with the spectrum\n",
    "\n",
    "from astropy.convolution import Gaussian1DKernel\n",
    "from astropy.convolution import convolve, convolve_fft\n",
    "import matplotlib.colors as colors\n",
    "\n",
    "gnostics = 1\n",
    "shiftspec, clphotspec, ophotspec,cfunc = test_module.modelspec(params_instance,args_instance.re_params,args_instance,gnostics)\n",
    "\n",
    "nwave = args_instance.inwavenum.size\n",
    "cfunc = np.reshape(cfunc[0,:,:],[cfunc.shape[1],cfunc.shape[2]])\n",
    "fwhm = 0.0\n",
    "wlen = shiftspec.shape[1]\n",
    "wint =  shiftspec[0,0] - shiftspec[0,wlen-1]\n",
    "# convolve with instrumental profile\n",
    "# start by setting up kernel\n",
    "# First step is finding the array index length of the FWHM\n",
    "disp = wint / wlen\n",
    "gwidth = int((((fwhm / disp) // 2) * 2) +1)\n",
    "# needs to be odd\n",
    "# now get the kernel and convolve\n",
    "gauss = Gaussian1DKernel(gwidth)\n",
    "\n",
    "for ilayer in range (0,args_instance.press.size):\n",
    "    cfunc[:,ilayer] = convolve(cfunc[:,ilayer],gauss,boundary='extend')\n",
    "\n",
    "tau1_cl_Press = convolve(clphotspec[0],gauss,boundary='extend')[::-1]\n",
    "tau1_oth_Press = convolve(ophotspec[0],gauss,boundary='extend')[::-1]\n",
    "    \n",
    "wavenew = shiftspec[0,::-1]\n",
    "press = args_instance.press.reshape(64,)\n",
    "normfunc = np.zeros_like(cfunc)\n",
    "for iwave in range(0,nwave):\n",
    "    totcont = np.sum(cfunc[iwave,:])\n",
    "    normfunc[iwave,:] = cfunc[iwave,:] / totcont\n",
    "\n",
    "    \n",
    "plt.rc('font', family='serif')\n",
    "plt.rc('text', usetex=False)\n",
    "fig=plt.figure(dpi=100)\n",
    "# plt.axis([1.0,2.5,1000,1e-1])\n",
    "\n",
    "ax = fig.add_subplot(1,1,1)\n",
    "\n",
    "ax.set_yscale('log')\n",
    "ax.invert_yaxis()\n",
    "# ax.set_xscale('log')\n",
    "#major_ticks = np.arange(1.0,15.,1.0)\n",
    "#minor_ticks = np.arange(1.0,15.,0.5)\n",
    "#ax.set_xticks(major_ticks)                                                       \n",
    "#ax.set_xticks(minor_ticks, minor=True)                                           \n",
    "\n",
    "plt.pcolormesh(wavenew,args_instance.press,(normfunc[::-1,:].transpose()),cmap='Greys',norm=colors.SymLogNorm(linthresh=0.001,linscale=0.00001,\n",
    "                                              vmin=0., vmax=np.amax(normfunc)))\n",
    "\n",
    "t1, = plt.plot(wavenew,(tau1_cl_Press),'m-',label=r'$\\tau_{cloud} = 1.0$')\n",
    "t2, = plt.plot(wavenew,(tau1_oth_Press),'c-', label =r'$\\tau_{gas} = 1.0$')\n",
    "\n",
    "plt.legend(handles=[t1,t2])\n",
    "\n",
    "cbar = plt.colorbar(orientation='vertical',norm=colors.Normalize(clip=False),ticks=[1e-3,1e-2,0.1])\n",
    "cbar.ax.set_yticklabels(['<0.1%', '1%', '10%'])\n",
    "cbar.set_label('% of total', rotation=270)\n",
    "plt.ylabel('Pressure / bar)')\n",
    "plt.xlabel('Wavelength / $\\mu m$')\n",
    "\n",
    "# plt.savefig(\"/Users/fw23aao/spidernail/browndwarf_retrieval/LSR1835/LSR1835_figs/paper_figs/v2_figs/contributionF_max.pdf\",format='pdf', dpi=100)\n",
    "#plt.savefig(runname+'_contribution.png',format='png', dpi=120)"
   ]
  },
  {
   "cell_type": "code",
   "execution_count": 11,
   "id": "3733ea0b",
   "metadata": {},
   "outputs": [],
   "source": [
    "import cloud_dic_new\n",
    "\n",
    "\n",
    "cloudparams=cloud_dic_new.cloud_unpack(re_params,params_instance)\n",
    "cloudprof,cloudrad,cloudsig = cloud_dic_new.atlas(re_params,cloudparams,args_instance.press)"
   ]
  },
  {
   "cell_type": "code",
   "execution_count": null,
   "id": "c98cdf19",
   "metadata": {},
   "outputs": [],
   "source": [
    "for key, value in vars(args_instance).items():\n",
    "    print(f\"{key}: {value}\")\n"
   ]
  },
  {
   "cell_type": "code",
   "execution_count": null,
   "id": "137c900c",
   "metadata": {},
   "outputs": [],
   "source": []
  }
 ],
 "metadata": {
  "kernelspec": {
   "display_name": "Python 3 (ipykernel)",
   "language": "python",
   "name": "python3"
  },
  "language_info": {
   "codemirror_mode": {
    "name": "ipython",
    "version": 3
   },
   "file_extension": ".py",
   "mimetype": "text/x-python",
   "name": "python",
   "nbconvert_exporter": "python",
   "pygments_lexer": "ipython3",
   "version": "3.11.5"
  }
 },
 "nbformat": 4,
 "nbformat_minor": 5
}
