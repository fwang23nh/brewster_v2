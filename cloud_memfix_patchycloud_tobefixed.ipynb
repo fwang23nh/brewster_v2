{
 "cells": [
  {
   "cell_type": "markdown",
   "id": "c05dd197",
   "metadata": {},
   "source": [
    "## Known Issue\n",
    "The code currently crashes when running the patchy cloud configuration (one patch with a clear atmosphere and one with clouds)."
   ]
  },
  {
   "cell_type": "code",
   "execution_count": null,
   "id": "c4dc583e",
   "metadata": {},
   "outputs": [],
   "source": [
    "import os \n",
    "import test_module\n",
    "from collections import namedtuple\n",
    "import numpy as np\n",
    "import retrieval_run\n",
    "import settings\n",
    "import cloud_dic\n",
    "import utils\n",
    "import test_module\n",
    "import brewtools"
   ]
  },
  {
   "cell_type": "code",
   "execution_count": null,
   "id": "0accb389-8148-497d-8dce-33c8a9c5fc66",
   "metadata": {},
   "outputs": [],
   "source": [
    "# instrument\n",
    "\n",
    "fwhm=555\n",
    "wavelength_range=[0.95,2.85]\n",
    "ndata=1\n",
    "Rfile='./examples/example_data/G570D_R_file.txt'\n",
    "\n",
    "\n",
    "\n",
    "#retrieval_params\n",
    "\n",
    "##gas\n",
    "chemeq=0\n",
    "# gaslist = ['h2o','co','tio','vo','crh','feh','na','k']\n",
    "gaslist = ['h2o','ch4']\n",
    "gastype_list=['U','U']\n",
    "ptype=7  \n",
    "\n",
    "\n",
    "cloudpath='../MieCode/'\n",
    "\n",
    "## clouds\n",
    "\n",
    "do_clouds=1\n",
    "\n",
    "\n",
    "npatches=2\n",
    "# List of all cloud names in the atmosphere.\n",
    "# Format: \n",
    "#   - For general types, just a descriptive name. like power law cloud slab, powerlaw cloud deck,\n",
    "# grey cloud deck, grey cloud slab\n",
    "#   - For Mie scattering clouds, specify species after `--`, e.g., 'Mie scattering cloud deck--Al2O3'\n",
    "cloud_name = ['clear',     # A clear atmosphere case (no cloud)\n",
    "    'MgSiO3.mieff',   # A MgSiO3 Mie scattering cloud slab\n",
    "                              \n",
    "]\n",
    "\n",
    "cloud_type=[\"None\",\"slab\"]\n",
    "\n",
    "\n",
    "# Specify which cloud belongs to which patch.\n",
    "# Each sublist corresponds to an entry in `cloudname`.\n",
    "# Use [1] for patch 1, [2] for patch 2, or [1,2] if the cloud exists in both.\n",
    "\n",
    "cloudpatch_index = [\n",
    "    [1],      # 'clear' appears only in patch 1\n",
    "    [2]       # 'Mie scattering cloud deck--Al2O3' appears in patch 2\n",
    "]\n",
    "\n",
    "# List of particle distributions associated with each cloud in `cloudname`.\n",
    "# Use 'None' for non-Mie clouds or clouds without particle size distributions.\n",
    "# For Mie clouds, specify the distribution model 'hansan' or 'log_normal'.)\n",
    "particle_dis = [\n",
    "    'None',   # No particle distribution for clear \n",
    "    'hansen' # Mie cloud uses 'hansen' particle size distribution\n",
    "        \n",
    "]\n",
    "\n",
    "\n",
    "\n",
    "# ModelConfig:\n",
    "do_fudge=1\n",
    "samplemode='mcmc'\n",
    "\n",
    "# instrument_instance = utils_dev.Instrument(fwhm,wavelength_range,ndata,Rfile)\n",
    "# re_params = utils_dev.Retrieval_params(samplemode,chemeq,gaslist,gastype_list,fwhm,do_fudge,ptype,do_clouds,npatches,cloudname,cloudpacth_index,particle_dis)\n",
    "# model_config_instance = utils_dev.ModelConfig(samplemode,do_fudge)\n",
    "# io_config_instance = utils_dev.IOConfig()\n",
    "\n",
    "instrument_instance = utils.Instrument(fwhm,wavelength_range,ndata,None, Rfile)\n",
    "re_params = utils.Retrieval_params(samplemode,chemeq,gaslist,gastype_list,fwhm,do_fudge,ptype,do_clouds,npatches,cloud_name,cloud_type,cloudpatch_index,particle_dis, instrument_instance)\n",
    "model_config_instance = utils.ModelConfig(samplemode,do_fudge,cloudpath=cloudpath)\n",
    "io_config_instance = utils.IOConfig()\n",
    "\n",
    "\n",
    "\n",
    "\n",
    "model_config_instance.dist= 5.84\n",
    "model_config_instance.xlist ='data/gaslistRox.dat'\n",
    "model_config_instance.xpath ='/Volumes/DudleyDisk/LineLists/'\n",
    "model_config_instance.do_bff=0\n",
    "model_config_instance.malk=1\n",
    "model_config_instance.ch4=0\n",
    "model_config_instance.update_dictionary()"
   ]
  },
  {
   "cell_type": "code",
   "execution_count": null,
   "id": "0a14f29f",
   "metadata": {},
   "outputs": [],
   "source": [
    "obspec = np.asfortranarray(np.loadtxt(\"./examples/example_data/G570D_2MHcalib.dat\",dtype='d',unpack='true')) # G570D_2MassJcalib.dat\n",
    "args_instance = utils.ArgsGen(re_params,model_config_instance,instrument_instance,obspec)\n",
    "settings.init(args_instance)"
   ]
  },
  {
   "cell_type": "code",
   "execution_count": null,
   "id": "082f08a3",
   "metadata": {},
   "outputs": [],
   "source": [
    "np.shape(args_instance.cloudname_set),args_instance.cloudname_set"
   ]
  },
  {
   "cell_type": "code",
   "execution_count": null,
   "id": "19e7585c",
   "metadata": {},
   "outputs": [],
   "source": [
    "np.shape(args_instance.cloud_opaname),args_instance.cloud_opaname"
   ]
  },
  {
   "cell_type": "code",
   "execution_count": null,
   "id": "13125998",
   "metadata": {},
   "outputs": [],
   "source": [
    "np.shape(args_instance.cloudmap),args_instance.cloudmap"
   ]
  },
  {
   "cell_type": "code",
   "execution_count": null,
   "id": "c8feb1ba",
   "metadata": {},
   "outputs": [],
   "source": [
    "args_instance.cloudata[0,0,0],np.shape(args_instance.cloudata[0,0,0])"
   ]
  },
  {
   "cell_type": "code",
   "execution_count": null,
   "id": "1b66324f",
   "metadata": {},
   "outputs": [],
   "source": [
    "re_params.dictionary"
   ]
  },
  {
   "cell_type": "code",
   "execution_count": null,
   "id": "a790bfd2",
   "metadata": {},
   "outputs": [],
   "source": [
    "args_instance=settings.runargs\n",
    "all_params,all_params_values =utils.get_all_parametres(re_params.dictionary)\n",
    "\n",
    "if re_params.samplemode=='mcmc':\n",
    "    \n",
    "    model_config_instance.ndim=len(all_params)\n",
    "    model_config_instance.nwalkers=len(all_params)*16\n",
    "\n",
    "    r2d2 = (71492e3)**2. / (model_config_instance.dist * 3.086e+16)**2.\n",
    "    re_params.dictionary['refinement_params']['params']['r2d2']['distribution']=['normal',r2d2,0.1*r2d2]\n",
    "\n",
    "\n",
    "    def tolerance_parameter_customized_distribution(x):\n",
    "        return np.log10((np.random.rand(x)* (max(args_instance.obspec[2,:]**2)*(0.1 - 0.01))) + (0.01*min(args_instance.obspec[2,10::3]**2))) \n",
    "\n",
    "    for i in range(len(all_params)):\n",
    "        if all_params[i].startswith('tolerance_parameter'):\n",
    "            re_params.dictionary['refinement_params']['params'][all_params[i]]['distribution']=['customized',tolerance_parameter_customized_distribution]\n",
    "\n",
    "    if model_config_instance.fresh == 0:\n",
    "        p0=utils.MC_P0_gen(re_params.dictionary,model_config_instance,args_instance)"
   ]
  },
  {
   "cell_type": "code",
   "execution_count": null,
   "id": "ceff6597",
   "metadata": {},
   "outputs": [],
   "source": [
    "params_master = namedtuple('params',all_params)\n",
    "params_instance = params_master(*p0[0,:])\n",
    "params_instance"
   ]
  },
  {
   "cell_type": "code",
   "execution_count": null,
   "id": "0dcde969",
   "metadata": {},
   "outputs": [],
   "source": [
    "gnostics = 0\n",
    "shiftspec, photspec, tauspec,cfunc = test_module.modelspec(params_instance,re_params,args_instance,gnostics)"
   ]
  },
  {
   "cell_type": "code",
   "execution_count": null,
   "id": "fed4b053",
   "metadata": {},
   "outputs": [],
   "source": []
  },
  {
   "cell_type": "code",
   "execution_count": null,
   "id": "8405096f",
   "metadata": {},
   "outputs": [],
   "source": []
  },
  {
   "cell_type": "code",
   "execution_count": null,
   "id": "4fbf4fd6",
   "metadata": {},
   "outputs": [],
   "source": []
  },
  {
   "cell_type": "code",
   "execution_count": null,
   "id": "4ad2ad77",
   "metadata": {},
   "outputs": [],
   "source": []
  },
  {
   "cell_type": "code",
   "execution_count": null,
   "id": "7398bedd",
   "metadata": {},
   "outputs": [],
   "source": [
    "print(shiftspec)"
   ]
  },
  {
   "cell_type": "code",
   "execution_count": null,
   "id": "d16de039",
   "metadata": {},
   "outputs": [],
   "source": [
    "import matplotlib.pyplot as plt\n",
    "\n",
    "plt.plot(shiftspec[0,:],shiftspec[1,:])"
   ]
  },
  {
   "cell_type": "code",
   "execution_count": null,
   "id": "12688357",
   "metadata": {},
   "outputs": [],
   "source": [
    "# This one plots a contribution function \n",
    "# get diagnostics along with the spectrum\n",
    "\n",
    "from astropy.convolution import Gaussian1DKernel\n",
    "from astropy.convolution import convolve, convolve_fft\n",
    "import matplotlib.colors as colors\n",
    "! rm log.txt\n",
    "gnostics = 1\n",
    "shiftspec, clphotspec, ophotspec,cfunc = test_module.modelspec(params_instance,args_instance.re_params,args_instance,gnostics)\n",
    "\n",
    "nwave = args_instance.inwavenum.size\n",
    "cfunc = np.reshape(cfunc[0,:,:],[cfunc.shape[1],cfunc.shape[2]])\n",
    "fwhm = 0.0\n",
    "wlen = shiftspec.shape[1]\n",
    "wint =  shiftspec[0,0] - shiftspec[0,wlen-1]\n",
    "# convolve with instrumental profile\n",
    "# start by setting up kernel\n",
    "# First step is finding the array index length of the FWHM\n",
    "disp = wint / wlen\n",
    "gwidth = int((((fwhm / disp) // 2) * 2) +1)\n",
    "# needs to be odd\n",
    "# now get the kernel and convolve\n",
    "gauss = Gaussian1DKernel(gwidth)\n",
    "\n",
    "for ilayer in range (0,args_instance.press.size):\n",
    "    cfunc[:,ilayer] = convolve(cfunc[:,ilayer],gauss,boundary='extend')\n",
    "\n",
    "tau1_cl_Press = convolve(clphotspec[0],gauss,boundary='extend')[::-1]\n",
    "tau1_oth_Press = convolve(ophotspec[0],gauss,boundary='extend')[::-1]\n",
    "    \n",
    "wavenew = shiftspec[0,::-1]\n",
    "press = args_instance.press.reshape(64,)\n",
    "normfunc = np.zeros_like(cfunc)\n",
    "for iwave in range(0,nwave):\n",
    "    totcont = np.sum(cfunc[iwave,:])\n",
    "    normfunc[iwave,:] = cfunc[iwave,:] / totcont\n",
    "\n",
    "    \n",
    "plt.rc('font', family='serif')\n",
    "plt.rc('text', usetex=False)\n",
    "fig=plt.figure(dpi=100)\n",
    "# plt.axis([1.0,2.5,1000,1e-1])\n",
    "\n",
    "ax = fig.add_subplot(1,1,1)\n",
    "\n",
    "ax.set_yscale('log')\n",
    "ax.invert_yaxis()\n",
    "# ax.set_xscale('log')\n",
    "#major_ticks = np.arange(1.0,15.,1.0)\n",
    "#minor_ticks = np.arange(1.0,15.,0.5)\n",
    "#ax.set_xticks(major_ticks)                                                       \n",
    "#ax.set_xticks(minor_ticks, minor=True)                                           \n",
    "\n",
    "plt.pcolormesh(wavenew,args_instance.press,(normfunc[::-1,:].transpose()),cmap='Greys',norm=colors.SymLogNorm(linthresh=0.001,linscale=0.00001,\n",
    "                                              vmin=0., vmax=np.amax(normfunc)))\n",
    "\n",
    "t1, = plt.plot(wavenew,(tau1_cl_Press),'m-',label=r'$\\tau_{cloud} = 1.0$')\n",
    "t2, = plt.plot(wavenew,(tau1_oth_Press),'c-', label =r'$\\tau_{gas} = 1.0$')\n",
    "\n",
    "plt.legend(handles=[t1,t2])\n",
    "\n",
    "cbar = plt.colorbar(orientation='vertical',norm=colors.Normalize(clip=False),ticks=[1e-3,1e-2,0.1])\n",
    "cbar.ax.set_yticklabels(['<0.1%', '1%', '10%'])\n",
    "cbar.set_label('% of total', rotation=270)\n",
    "plt.ylabel('Pressure / bar)')\n",
    "plt.xlabel('Wavelength / $\\mu m$')\n",
    "\n",
    "# plt.savefig(\"/Users/fw23aao/spidernail/browndwarf_retrieval/LSR1835/LSR1835_figs/paper_figs/v2_figs/contributionF_max.pdf\",format='pdf', dpi=100)\n",
    "#plt.savefig(runname+'_contribution.png',format='png', dpi=120)"
   ]
  },
  {
   "cell_type": "code",
   "execution_count": null,
   "id": "3733ea0b",
   "metadata": {},
   "outputs": [],
   "source": [
    "import cloud_dic_new\n",
    "\n",
    "\n",
    "cloudparams=cloud_dic_new.cloud_unpack(re_params,params_instance)\n",
    "cloudprof,cloudrad,cloudsig = cloud_dic_new.atlas(re_params,cloudparams,args_instance.press)"
   ]
  },
  {
   "cell_type": "code",
   "execution_count": null,
   "id": "c98cdf19",
   "metadata": {},
   "outputs": [],
   "source": [
    "for key, value in vars(args_instance).items():\n",
    "    print(f\"{key}: {value}\")\n"
   ]
  },
  {
   "cell_type": "code",
   "execution_count": null,
   "id": "137c900c",
   "metadata": {},
   "outputs": [],
   "source": []
  }
 ],
 "metadata": {
  "kernelspec": {
   "display_name": "Python 3 (ipykernel)",
   "language": "python",
   "name": "python3"
  },
  "language_info": {
   "codemirror_mode": {
    "name": "ipython",
    "version": 3
   },
   "file_extension": ".py",
   "mimetype": "text/x-python",
   "name": "python",
   "nbconvert_exporter": "python",
   "pygments_lexer": "ipython3",
   "version": "3.11.8"
  }
 },
 "nbformat": 4,
 "nbformat_minor": 5
}
