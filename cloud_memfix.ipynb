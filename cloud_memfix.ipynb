{
 "cells": [
  {
   "cell_type": "code",
   "execution_count": null,
   "id": "c4dc583e",
   "metadata": {},
   "outputs": [],
   "source": [
    "import os \n",
    "import test_module\n",
    "from collections import namedtuple\n",
    "import numpy as np\n",
    "import retrieval_run\n",
    "import settings\n",
    "import cloud_dic\n",
    "import utils\n",
    "import test_module\n",
    "import brewtools"
   ]
  },
  {
   "cell_type": "code",
   "execution_count": null,
   "id": "77fb9e1c",
   "metadata": {},
   "outputs": [],
   "source": [
    "#instrument\n",
    "\n",
    "fwhm=-1\n",
    "wavelength_range=[1,2.8]\n",
    "ndata=3\n",
    "Rfile='nonuniformR.dat'\n",
    "\n",
    "\n",
    "\n",
    "#retrieval_params\n",
    "\n",
    "##gas\n",
    "chemeq=0\n",
    "# gaslist = ['h2o','co','tio','vo','crh','feh','na','k']\n",
    "gaslist = ['h2o','ch4']\n",
    "gastype_list=['U','U']\n",
    "ptype=77  \n",
    "\n",
    "## clouds\n",
    "\n",
    "do_clouds=1\n",
    "npatches=1\n",
    "\n",
    "cloudpath='../MieCode/'\n",
    "\n",
    "\n",
    "cloud_name=['MgSiO3.mieff','Fe.mieff']\n",
    "cloud_type=['slab','deck']\n",
    "\n",
    "cloudpacth_index=[[1],[1]]\n",
    "particle_dis=['hansan','hansan']\n",
    "\n",
    "\n",
    "\n",
    "# cloud_name=['powerlaw', 'grey', 'ZnS_WS15.mieff']\n",
    "# cloud_type=[\"Deck\",\"slab\",\"deck\"]\n",
    "\n",
    "# cloudpacth_index=[[1],[1],[1]]\n",
    "# particle_dis=['hansan', 'hansan', 'hansan']\n",
    "\n",
    "\n",
    "# ModelConfig:\n",
    "do_fudge=1\n",
    "samplemode='mcmc'\n",
    "\n",
    "# instrument_instance = utils_dev.Instrument(fwhm,wavelength_range,ndata,Rfile)\n",
    "# re_params = utils_dev.Retrieval_params(samplemode,chemeq,gaslist,gastype_list,fwhm,do_fudge,ptype,do_clouds,npatches,cloudname,cloudpacth_index,particle_dis)\n",
    "# model_config_instance = utils_dev.ModelConfig(samplemode,do_fudge)\n",
    "# io_config_instance = utils_dev.IOConfig()\n",
    "\n",
    "\n",
    "instrument_instance = utils.Instrument(fwhm,wavelength_range,ndata,Rfile)\n",
    "re_params = utils.Retrieval_params(samplemode,chemeq,gaslist,gastype_list,fwhm,do_fudge,ptype,do_clouds,npatches,cloud_name,cloud_type,cloudpacth_index,particle_dis)\n",
    "model_config_instance = utils.ModelConfig(samplemode,do_fudge,cloudpath=cloudpath)\n",
    "io_config_instance = utils.IOConfig()\n",
    "\n",
    "\n",
    "\n",
    "\n",
    "\n",
    "model_config_instance.dist= 5.84\n",
    "model_config_instance.xlist ='data/gaslistRox.dat'\n",
    "model_config_instance.xpath ='/Volumes/DudleyDisk/LineLists/'\n",
    "model_config_instance.do_bff=0\n",
    "model_config_instance.malk=1\n",
    "model_config_instance.ch4=0\n",
    "model_config_instance.update_dictionary()\n"
   ]
  },
  {
   "cell_type": "code",
   "execution_count": null,
   "id": "0a14f29f",
   "metadata": {},
   "outputs": [],
   "source": [
    "obspec = np.asfortranarray(np.loadtxt(\"./examples/example_data/G570D_2MHcalib.dat\",dtype='d',unpack='true')) # G570D_2MassJcalib.dat\n",
    "args_instance = utils.ArgsGen(re_params,model_config_instance,instrument_instance,obspec)\n",
    "settings.init(args_instance)"
   ]
  },
  {
   "cell_type": "code",
   "execution_count": null,
   "id": "a87ff0e9",
   "metadata": {},
   "outputs": [],
   "source": [
    "# args_instance.gasnames"
   ]
  },
  {
   "cell_type": "code",
   "execution_count": null,
   "id": "082f08a3",
   "metadata": {},
   "outputs": [],
   "source": [
    "args_instance.cloudflag"
   ]
  },
  {
   "cell_type": "code",
   "execution_count": null,
   "id": "19e7585c",
   "metadata": {},
   "outputs": [],
   "source": [
    "np.shape(args_instance.cloudata),np.shape(args_instance.miewave),np.shape(args_instance.mierad)"
   ]
  },
  {
   "cell_type": "code",
   "execution_count": null,
   "id": "c8feb1ba",
   "metadata": {},
   "outputs": [],
   "source": [
    "args_instance.cloudata[0,0,0],np.shape(args_instance.cloudata[0,0,0])"
   ]
  },
  {
   "cell_type": "code",
   "execution_count": null,
   "id": "a790bfd2",
   "metadata": {},
   "outputs": [],
   "source": [
    "args_instance=settings.runargs\n",
    "all_params,all_params_values =utils.get_all_parametres(re_params.dictionary)\n",
    "\n",
    "if re_params.samplemode=='mcmc':\n",
    "    \n",
    "    model_config_instance.ndim=len(all_params)\n",
    "    model_config_instance.nwalkers=len(all_params)*16\n",
    "\n",
    "    r2d2 = (71492e3)**2. / (model_config_instance.dist * 3.086e+16)**2.\n",
    "    re_params.dictionary['refinement_params']['params']['r2d2']['distribution']=['normal',r2d2,0.1*r2d2]\n",
    "\n",
    "\n",
    "    def tolerance_parameter_customized_distribution(x):\n",
    "        return np.log10((np.random.rand(x)* (max(args_instance.obspec[2,:]**2)*(0.1 - 0.01))) + (0.01*min(args_instance.obspec[2,10::3]**2))) \n",
    "\n",
    "    for i in range(len(all_params)):\n",
    "        if all_params[i].startswith('tolerance_parameter'):\n",
    "            re_params.dictionary['refinement_params']['params'][all_params[i]]['distribution']=['customized',tolerance_parameter_customized_distribution]\n",
    "\n",
    "    if model_config_instance.fresh == 0:\n",
    "        p0=utils.MC_P0_gen(re_params.dictionary,model_config_instance,args_instance)"
   ]
  },
  {
   "cell_type": "code",
   "execution_count": null,
   "id": "ceff6597",
   "metadata": {},
   "outputs": [],
   "source": [
    "p0"
   ]
  },
  {
   "cell_type": "code",
   "execution_count": null,
   "id": "cba058da",
   "metadata": {},
   "outputs": [],
   "source": [
    "print(args_instance.cloudflag.flags['F_CONTIGUOUS'])\n",
    "print(args_instance.cloudata.flags['F_CONTIGUOUS']) \n",
    "print(args_instance.miewave.flags['F_CONTIGUOUS']) \n",
    "print(args_instance.mierad.flags['F_CONTIGUOUS'])\n"
   ]
  },
  {
   "cell_type": "code",
   "execution_count": null,
   "id": "0dcde969",
   "metadata": {},
   "outputs": [],
   "source": [
    "gnostics = 0\n",
    "\n",
    "shiftspec, photspec, tauspec,cfunc = test_module.modelspec(p0[0,:],re_params,args_instance,gnostics)\n"
   ]
  },
  {
   "cell_type": "code",
   "execution_count": null,
   "id": "0ea425d8",
   "metadata": {},
   "outputs": [],
   "source": [
    "outspec,tmpclphotspec,tmpophotspec,cf = forwardmodel.marv(temp,logg,R2D2,gasnames,gasmass,logVMR,pcover,\n",
    "do_clouds,cloudflag,cloudata,miewave,mierad,cloudrad,cloudsig,cloudprof,inlinetemps,press,inwavenum,linelist,\\\n",
    "cia,ciatemps,use_disort,clphot,ophot,make_cf,do_bff,bff)\n",
    "\n",
    "    "
   ]
  },
  {
   "cell_type": "code",
   "execution_count": null,
   "id": "04d43c3e",
   "metadata": {},
   "outputs": [],
   "source": [
    "forwardmodel.marv(temp,logg,R2D2,gasnum,logVMR,pcover,do_clouds,cloudnum,cloudrad,cloudsig,cloudprof,\n",
    "                  inlinetemps,press,inwavenum,linelist,cia,ciatemps,use_disort,clphot,ophot,make_cf,do_bff,bff)"
   ]
  },
  {
   "cell_type": "code",
   "execution_count": null,
   "id": "e9298170",
   "metadata": {},
   "outputs": [],
   "source": [
    "subroutine marv(temp,logg,R2D2,ingasname,molmass,logVMR,pcover,&\n",
    "     do_clouds,incloudname,clouddata,miewave,mierad, &\n",
    "     cloudrad,cloudsig,cloudprof,&\n",
    "     inlinetemps,inpress,inwavenum,inlinelist,cia,ciatemps,&\n",
    "     use_disort,make_cl_pspec,make_oth_pspec,make_cf,do_bff,bff,outspec,&\n",
    "     cl_phot_press,oth_phot_press,cfunc)"
   ]
  },
  {
   "cell_type": "code",
   "execution_count": null,
   "id": "b42bd1aa",
   "metadata": {},
   "outputs": [],
   "source": []
  },
  {
   "cell_type": "code",
   "execution_count": null,
   "id": "9125ef0c",
   "metadata": {},
   "outputs": [],
   "source": []
  },
  {
   "cell_type": "code",
   "execution_count": null,
   "id": "85c636b1",
   "metadata": {},
   "outputs": [],
   "source": []
  },
  {
   "cell_type": "code",
   "execution_count": null,
   "id": "7eda1c91",
   "metadata": {},
   "outputs": [],
   "source": [
    "miewave,mierad,qscat,qext,cos_qscat = brewtools.pickle_load('../MieCode/MgSiO3.mieff.pic')"
   ]
  },
  {
   "cell_type": "code",
   "execution_count": null,
   "id": "40ea0245-e459-498f-b908-ccea2671f127",
   "metadata": {},
   "outputs": [],
   "source": [
    "print(mierad.shape)"
   ]
  },
  {
   "cell_type": "raw",
   "id": "8ed37eb9-8517-4e59-a68c-445e728112f0",
   "metadata": {},
   "source": []
  }
 ],
 "metadata": {
  "kernelspec": {
   "display_name": "Python 3 (ipykernel)",
   "language": "python",
   "name": "python3"
  },
  "language_info": {
   "codemirror_mode": {
    "name": "ipython",
    "version": 3
   },
   "file_extension": ".py",
   "mimetype": "text/x-python",
   "name": "python",
   "nbconvert_exporter": "python",
   "pygments_lexer": "ipython3",
   "version": "3.11.13"
  }
 },
 "nbformat": 4,
 "nbformat_minor": 5
}
