{
 "cells": [
  {
   "cell_type": "code",
   "execution_count": 1,
   "id": "c4dc583e",
   "metadata": {},
   "outputs": [],
   "source": [
    "import os \n",
    "import test_module\n",
    "from collections import namedtuple\n",
    "import numpy as np\n",
    "import retrieval_run\n",
    "import settings\n",
    "import cloud_dic\n",
    "import utils\n",
    "import test_module\n",
    "import brewtools"
   ]
  },
  {
   "cell_type": "code",
   "execution_count": 2,
   "id": "77fb9e1c",
   "metadata": {},
   "outputs": [],
   "source": [
    "#instrument\n",
    "\n",
    "fwhm=-1\n",
    "wavelength_range=[1,2.8]\n",
    "ndata=3\n",
    "Rfile='nonuniformR.dat'\n",
    "\n",
    "\n",
    "\n",
    "#retrieval_params\n",
    "\n",
    "##gas\n",
    "chemeq=0\n",
    "# gaslist = ['h2o','co','tio','vo','crh','feh','na','k']\n",
    "gaslist = ['h2o','ch4']\n",
    "gastype_list=['U','U']\n",
    "ptype=77  \n",
    "\n",
    "\n",
    "cloudpath='../MieCode/'\n",
    "\n",
    "## clouds\n",
    "\n",
    "do_clouds=1\n",
    "\n",
    "#npatches=1\n",
    "\n",
    "\n",
    "#cloud_name=['MgSiO3.mieff','Fe.mieff']\n",
    "#cloud_type=['slab','deck']\n",
    "\n",
    "#cloudpacth_index=[[1],[1]]\n",
    "#particle_dis=['hansan','hansan']\n",
    "\n",
    "\n",
    "npatches=2\n",
    "cloud_name=['powerlaw', 'grey', 'ZnS_WS15.mieff', 'tholin_WS15.mieff']\n",
    "cloud_type=[\"Deck\",\"slab\",\"deck\",\"deck\"]\n",
    "particle_dis=['None', 'None', 'hansen',\"log_normal\"]\n",
    "\n",
    "cloudpatch_index=[[1,2],[1],[1,2],[1]]\n",
    "\n",
    "\n",
    "# ModelConfig:\n",
    "do_fudge=1\n",
    "samplemode='mcmc'\n",
    "\n",
    "# instrument_instance = utils_dev.Instrument(fwhm,wavelength_range,ndata,Rfile)\n",
    "# re_params = utils_dev.Retrieval_params(samplemode,chemeq,gaslist,gastype_list,fwhm,do_fudge,ptype,do_clouds,npatches,cloudname,cloudpacth_index,particle_dis)\n",
    "# model_config_instance = utils_dev.ModelConfig(samplemode,do_fudge)\n",
    "# io_config_instance = utils_dev.IOConfig()\n",
    "\n",
    "\n",
    "instrument_instance = utils.Instrument(fwhm,wavelength_range,ndata,Rfile)\n",
    "re_params = utils.Retrieval_params(samplemode,chemeq,gaslist,gastype_list,fwhm,do_fudge,ptype,do_clouds,npatches,cloud_name,cloud_type,cloudpatch_index,particle_dis)\n",
    "model_config_instance = utils.ModelConfig(samplemode,do_fudge,cloudpath=cloudpath)\n",
    "io_config_instance = utils.IOConfig()\n",
    "\n",
    "\n",
    "\n",
    "\n",
    "\n",
    "model_config_instance.dist= 5.84\n",
    "model_config_instance.xlist ='data/gaslistRox.dat'\n",
    "model_config_instance.xpath ='/Volumes/DudleyDisk/LineLists/'\n",
    "model_config_instance.do_bff=0\n",
    "model_config_instance.malk=1\n",
    "model_config_instance.ch4=0\n",
    "model_config_instance.update_dictionary()\n"
   ]
  },
  {
   "cell_type": "code",
   "execution_count": 3,
   "id": "0a14f29f",
   "metadata": {},
   "outputs": [],
   "source": [
    "obspec = np.asfortranarray(np.loadtxt(\"./examples/example_data/G570D_2MHcalib.dat\",dtype='d',unpack='true')) # G570D_2MassJcalib.dat\n",
    "args_instance = utils.ArgsGen(re_params,model_config_instance,instrument_instance,obspec)\n",
    "settings.init(args_instance)"
   ]
  },
  {
   "cell_type": "code",
   "execution_count": 4,
   "id": "a87ff0e9",
   "metadata": {},
   "outputs": [
    {
     "data": {
      "text/plain": [
       "<utils.ArgsGen at 0x119f651d0>"
      ]
     },
     "execution_count": 4,
     "metadata": {},
     "output_type": "execute_result"
    }
   ],
   "source": [
    "args_instance"
   ]
  },
  {
   "cell_type": "code",
   "execution_count": 5,
   "id": "082f08a3",
   "metadata": {},
   "outputs": [
    {
     "data": {
      "text/plain": [
       "((4,),\n",
       " ['powerlaw cloud deck',\n",
       "  'grey cloud slab',\n",
       "  'Mie scattering cloud deck--ZnS_WS15.mieff',\n",
       "  'Mie scattering cloud deck--tholin_WS15.mieff'])"
      ]
     },
     "execution_count": 5,
     "metadata": {},
     "output_type": "execute_result"
    }
   ],
   "source": [
    "np.shape(args_instance.cloudname_set),args_instance.cloudname_set"
   ]
  },
  {
   "cell_type": "code",
   "execution_count": 6,
   "id": "19e7585c",
   "metadata": {},
   "outputs": [
    {
     "data": {
      "text/plain": [
       "((4,),\n",
       " array(['powerlaw', 'grey', 'ZnS_WS15.mieff', 'tholin_WS15.mieff'],\n",
       "       dtype=object))"
      ]
     },
     "execution_count": 6,
     "metadata": {},
     "output_type": "execute_result"
    }
   ],
   "source": [
    "np.shape(args_instance.cloud_opaname),args_instance.cloud_opaname"
   ]
  },
  {
   "cell_type": "code",
   "execution_count": 7,
   "id": "c8feb1ba",
   "metadata": {},
   "outputs": [
    {
     "data": {
      "text/plain": [
       "(array([0., 0., 0., 0., 0., 0., 0., 0., 0., 0., 0., 0., 0., 0., 0., 0., 0.,\n",
       "        0., 0., 0., 0., 0., 0., 0., 0., 0., 0., 0., 0., 0., 0., 0., 0., 0.,\n",
       "        0., 0., 0., 0., 0., 0., 0., 0., 0., 0., 0., 0., 0., 0., 0., 0., 0.,\n",
       "        0., 0., 0., 0., 0., 0., 0., 0., 0.]),\n",
       " (60,))"
      ]
     },
     "execution_count": 7,
     "metadata": {},
     "output_type": "execute_result"
    }
   ],
   "source": [
    "args_instance.cloudata[0,0,0],np.shape(args_instance.cloudata[0,0,0])"
   ]
  },
  {
   "cell_type": "code",
   "execution_count": 8,
   "id": "a790bfd2",
   "metadata": {},
   "outputs": [],
   "source": [
    "args_instance=settings.runargs\n",
    "all_params,all_params_values =utils.get_all_parametres(re_params.dictionary)\n",
    "\n",
    "if re_params.samplemode=='mcmc':\n",
    "    \n",
    "    model_config_instance.ndim=len(all_params)\n",
    "    model_config_instance.nwalkers=len(all_params)*16\n",
    "\n",
    "    r2d2 = (71492e3)**2. / (model_config_instance.dist * 3.086e+16)**2.\n",
    "    re_params.dictionary['refinement_params']['params']['r2d2']['distribution']=['normal',r2d2,0.1*r2d2]\n",
    "\n",
    "\n",
    "    def tolerance_parameter_customized_distribution(x):\n",
    "        return np.log10((np.random.rand(x)* (max(args_instance.obspec[2,:]**2)*(0.1 - 0.01))) + (0.01*min(args_instance.obspec[2,10::3]**2))) \n",
    "\n",
    "    for i in range(len(all_params)):\n",
    "        if all_params[i].startswith('tolerance_parameter'):\n",
    "            re_params.dictionary['refinement_params']['params'][all_params[i]]['distribution']=['customized',tolerance_parameter_customized_distribution]\n",
    "\n",
    "    if model_config_instance.fresh == 0:\n",
    "        p0=utils.MC_P0_gen(re_params.dictionary,model_config_instance,args_instance)"
   ]
  },
  {
   "cell_type": "code",
   "execution_count": 9,
   "id": "ceff6597",
   "metadata": {},
   "outputs": [
    {
     "data": {
      "text/plain": [
       "params(h2o=np.float64(-4.359029315373844), ch4=np.float64(-3.294363058423742), logg=np.float64(4.591321974212665), r2d2=np.float64(1.487393951291268e-19), scale1=np.float64(0.0014628516699727288), scale2=np.float64(0.00013511479811662412), dlambda=np.float64(-0.00022887505021252434), tolerance_parameter_1=np.float64(-32.63086273231214), tolerance_parameter_2=np.float64(-33.13313944751305), tolerance_parameter_3=np.float64(-32.36969351412317), gamma=np.float64(50.64344074777698), Tint=np.float64(916.1661152206497), alpha=np.float64(1.7818702475891741), lndelta=np.float64(0.7526076328999045), T1=np.float64(1099.3694633612495), T2=np.float64(1677.1727069446472), T3=np.float64(1037.122074963759), fcld=np.float64(0.52463053892827), logp_pcd=np.float64(-0.13620804738736936), dp_pcd=np.float64(0.06594903026678686), omega_pcd=np.float64(0.17187737460546626), alpha_pcd=np.float64(-1.1470654468164352), tau_gcs=np.float64(10.401132730527989), logp_gcs=np.float64(-0.21266995613404824), dp_gcs=np.float64(0.07058820444577288), omega_gcs=np.float64(0.6377047562105941), logp_mcd_ZnS_WS15=np.float64(1.1303132832413965), dp_mcd_ZnS_WS15=np.float64(0.01156484748906369), hansen_a_mcd_ZnS_WS15=np.float64(-1.3558717682264423), hansen_b_mcd_ZnS_WS15=np.float64(0.15389746656602019), logp_mcd_tholin_WS15=np.float64(1.042560152940262), dp_mcd_tholin_WS15=np.float64(0.2016988835236395), mu_mcd_tholin_WS15=np.float64(-0.5909100921445345), sigma_mcd_tholin_WS15=np.float64(0.6615377120354071))"
      ]
     },
     "execution_count": 9,
     "metadata": {},
     "output_type": "execute_result"
    }
   ],
   "source": [
    "params_master = namedtuple('params',all_params)\n",
    "params_instance = params_master(*p0[0,:])\n",
    "params_instance"
   ]
  },
  {
   "cell_type": "code",
   "execution_count": 10,
   "id": "cba058da",
   "metadata": {},
   "outputs": [
    {
     "name": "stdout",
     "output_type": "stream",
     "text": [
      "True\n",
      "True\n",
      "True\n",
      "True\n",
      "True\n",
      "True\n"
     ]
    },
    {
     "ename": "NameError",
     "evalue": "name 'cloudprof' is not defined",
     "output_type": "error",
     "traceback": [
      "\u001b[31m---------------------------------------------------------------------------\u001b[39m",
      "\u001b[31mNameError\u001b[39m                                 Traceback (most recent call last)",
      "\u001b[36mCell\u001b[39m\u001b[36m \u001b[39m\u001b[32mIn[10]\u001b[39m\u001b[32m, line 7\u001b[39m\n\u001b[32m      5\u001b[39m \u001b[38;5;28mprint\u001b[39m(args_instance.cloudsize.flags[\u001b[33m'\u001b[39m\u001b[33mF_CONTIGUOUS\u001b[39m\u001b[33m'\u001b[39m])\n\u001b[32m      6\u001b[39m \u001b[38;5;28mprint\u001b[39m(args_instance.cloudmap.flags[\u001b[33m'\u001b[39m\u001b[33mF_CONTIGUOUS\u001b[39m\u001b[33m'\u001b[39m])\n\u001b[32m----> \u001b[39m\u001b[32m7\u001b[39m \u001b[38;5;28mprint\u001b[39m(cloudprof.flags[\u001b[33m'\u001b[39m\u001b[33mF_CONTIGUOUS\u001b[39m\u001b[33m'\u001b[39m])\n\u001b[32m      8\u001b[39m \u001b[38;5;28mprint\u001b[39m(cloudrad.flags[\u001b[33m'\u001b[39m\u001b[33mF_CONTIGUOUS\u001b[39m\u001b[33m'\u001b[39m])\n\u001b[32m      9\u001b[39m \u001b[38;5;28mprint\u001b[39m(cloudsig.flags[\u001b[33m'\u001b[39m\u001b[33mF_CONTIGUOUS\u001b[39m\u001b[33m'\u001b[39m])\n",
      "\u001b[31mNameError\u001b[39m: name 'cloudprof' is not defined"
     ]
    }
   ],
   "source": [
    "print(args_instance.cloud_opaname.flags['F_CONTIGUOUS'])\n",
    "print(args_instance.cloudata.flags['F_CONTIGUOUS']) \n",
    "print(args_instance.miewave.flags['F_CONTIGUOUS']) \n",
    "print(args_instance.mierad.flags['F_CONTIGUOUS'])\n",
    "print(args_instance.cloudsize.flags['F_CONTIGUOUS'])\n",
    "print(args_instance.cloudmap.flags['F_CONTIGUOUS'])\n",
    "print(cloudprof.flags['F_CONTIGUOUS'])\n",
    "print(cloudrad.flags['F_CONTIGUOUS'])\n",
    "print(cloudsig.flags['F_CONTIGUOUS'])"
   ]
  },
  {
   "cell_type": "code",
   "execution_count": null,
   "id": "d2498ca1-af72-4610-a404-db94ae8190ae",
   "metadata": {},
   "outputs": [],
   "source": [
    "print(args_instance.cloudmap)\n",
    "args_instance.cloudsize"
   ]
  },
  {
   "cell_type": "code",
   "execution_count": 11,
   "id": "0dcde969",
   "metadata": {},
   "outputs": [],
   "source": [
    "gnostics = 0\n",
    "shiftspec, photspec, tauspec,cfunc = test_module.modelspec(p0[0,:],re_params,args_instance,gnostics)"
   ]
  },
  {
   "cell_type": "code",
   "execution_count": 12,
   "id": "7398bedd",
   "metadata": {},
   "outputs": [
    {
     "name": "stdout",
     "output_type": "stream",
     "text": [
      "[[2.79952240e+00 2.79924245e+00 2.79896253e+00 ... 1.00005321e+00\n",
      "  9.99953190e-01 9.99853182e-01]\n",
      " [6.71770752e-15 1.79999773e-15 6.11080306e-15 ... 3.37633135e-13\n",
      "  3.40943057e-13 3.36196859e-13]]\n"
     ]
    }
   ],
   "source": [
    "print(shiftspec)"
   ]
  },
  {
   "cell_type": "code",
   "execution_count": null,
   "id": "d16de039",
   "metadata": {},
   "outputs": [],
   "source": []
  },
  {
   "cell_type": "code",
   "execution_count": null,
   "id": "12688357",
   "metadata": {},
   "outputs": [],
   "source": []
  },
  {
   "cell_type": "code",
   "execution_count": null,
   "id": "52ca7f84",
   "metadata": {},
   "outputs": [],
   "source": []
  },
  {
   "cell_type": "code",
   "execution_count": null,
   "id": "c98cdf19",
   "metadata": {},
   "outputs": [],
   "source": []
  },
  {
   "cell_type": "code",
   "execution_count": null,
   "id": "137c900c",
   "metadata": {},
   "outputs": [],
   "source": []
  },
  {
   "cell_type": "code",
   "execution_count": null,
   "id": "6d586a63",
   "metadata": {},
   "outputs": [],
   "source": []
  },
  {
   "cell_type": "code",
   "execution_count": null,
   "id": "bb7e0438",
   "metadata": {},
   "outputs": [],
   "source": []
  },
  {
   "cell_type": "code",
   "execution_count": null,
   "id": "f3fb914a",
   "metadata": {},
   "outputs": [],
   "source": []
  },
  {
   "cell_type": "code",
   "execution_count": null,
   "id": "d0baea45",
   "metadata": {},
   "outputs": [],
   "source": []
  },
  {
   "cell_type": "code",
   "execution_count": null,
   "id": "39b611eb",
   "metadata": {},
   "outputs": [],
   "source": []
  },
  {
   "cell_type": "code",
   "execution_count": null,
   "id": "9a203431",
   "metadata": {},
   "outputs": [],
   "source": []
  },
  {
   "cell_type": "code",
   "execution_count": null,
   "id": "fceefef7",
   "metadata": {},
   "outputs": [],
   "source": []
  },
  {
   "cell_type": "code",
   "execution_count": null,
   "id": "168aae64",
   "metadata": {},
   "outputs": [],
   "source": []
  },
  {
   "cell_type": "code",
   "execution_count": null,
   "id": "4bbc5de5",
   "metadata": {},
   "outputs": [],
   "source": []
  },
  {
   "cell_type": "code",
   "execution_count": 52,
   "id": "65ce9712",
   "metadata": {},
   "outputs": [],
   "source": [
    "\n",
    "pattern_opa = re.compile(r'\\b(powerlaw|grey|Mie)\\b', re.IGNORECASE)\n",
    "\n",
    "cloud_opatype=[]\n",
    "for idx, name in enumerate(cloudname_set, start=1):\n",
    "    match = pattern_opa.search(name)\n",
    "    cloud_opatype.append(match.group(1).lower() if match else 'unknown')"
   ]
  },
  {
   "cell_type": "code",
   "execution_count": 53,
   "id": "c96ab445",
   "metadata": {},
   "outputs": [
    {
     "data": {
      "text/plain": [
       "['powerlaw', 'grey', 'mie']"
      ]
     },
     "execution_count": 53,
     "metadata": {},
     "output_type": "execute_result"
    }
   ],
   "source": [
    "cloud_opatype"
   ]
  },
  {
   "cell_type": "code",
   "execution_count": null,
   "id": "c793bfce",
   "metadata": {},
   "outputs": [],
   "source": [
    "miewave,mierad,qscat,qext,cos_qscat = brewtools.pickle_load('../MieCode/MgSiO3.mieff.pic')"
   ]
  },
  {
   "cell_type": "code",
   "execution_count": null,
   "id": "40ea0245-e459-498f-b908-ccea2671f127",
   "metadata": {},
   "outputs": [],
   "source": [
    "print(mierad.shape)"
   ]
  },
  {
   "cell_type": "raw",
   "id": "8ed37eb9-8517-4e59-a68c-445e728112f0",
   "metadata": {},
   "source": []
  }
 ],
 "metadata": {
  "kernelspec": {
   "display_name": "Python 3 (ipykernel)",
   "language": "python",
   "name": "python3"
  },
  "language_info": {
   "codemirror_mode": {
    "name": "ipython",
    "version": 3
   },
   "file_extension": ".py",
   "mimetype": "text/x-python",
   "name": "python",
   "nbconvert_exporter": "python",
   "pygments_lexer": "ipython3",
   "version": "3.11.8"
  }
 },
 "nbformat": 4,
 "nbformat_minor": 5
}
