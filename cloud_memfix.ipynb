{
 "cells": [
  {
   "cell_type": "code",
   "execution_count": 1,
   "id": "c4dc583e",
   "metadata": {},
   "outputs": [],
   "source": [
    "import os \n",
    "import test_module\n",
    "from collections import namedtuple\n",
    "import numpy as np\n",
    "import retrieval_run\n",
    "import settings\n",
    "import cloud_dic\n",
    "import utils\n",
    "import test_module\n"
   ]
  },
  {
   "cell_type": "code",
   "execution_count": 2,
   "id": "77fb9e1c",
   "metadata": {},
   "outputs": [],
   "source": [
    "#instrument\n",
    "\n",
    "fwhm=-1\n",
    "wavelength_range=[1,2.8]\n",
    "ndata=3\n",
    "Rfile='nonuniformR.dat'\n",
    "\n",
    "\n",
    "\n",
    "#retrieval_params\n",
    "\n",
    "##gas\n",
    "chemeq=0\n",
    "# gaslist = ['h2o','co','tio','vo','crh','feh','na','k']\n",
    "gaslist = ['h2o','co','tio','vo','crh','feh','k','na']\n",
    "gastype_list=['U','U','U','U','U','N','N','N']\n",
    "ptype=77  \n",
    "\n",
    "## clouds\n",
    "\n",
    "do_clouds=1\n",
    "npatches=2\n",
    "# cloudname = ['powerlaw cloud deck', 'grey cloud slab', 'Mie scattering cloud deck--Fe']\n",
    "\n",
    "cloudpath='/Users/fw23aao/Downloads/cloud_pickles/'\n",
    "\n",
    "\n",
    "cloud_name=['clear','powerlaw', 'grey', 'tholin_WS15.mieff']\n",
    "cloud_type=['None',\"deck\",\"slab\",\"deck\"]\n",
    "\n",
    "cloudpacth_index=[[2],[1],[1],[1]]\n",
    "particle_dis=['','', '', 'hansan']\n",
    "\n",
    "\n",
    "\n",
    "# cloud_name=['powerlaw', 'grey', 'ZnS_WS15.mieff']\n",
    "# cloud_type=[\"Deck\",\"slab\",\"deck\"]\n",
    "\n",
    "# cloudpacth_index=[[1],[1],[1]]\n",
    "# particle_dis=['hansan', 'hansan', 'hansan']\n",
    "\n",
    "\n",
    "# ModelConfig:\n",
    "do_fudge=1\n",
    "samplemode='mcmc'\n",
    "\n",
    "# instrument_instance = utils_dev.Instrument(fwhm,wavelength_range,ndata,Rfile)\n",
    "# re_params = utils_dev.Retrieval_params(samplemode,chemeq,gaslist,gastype_list,fwhm,do_fudge,ptype,do_clouds,npatches,cloudname,cloudpacth_index,particle_dis)\n",
    "# model_config_instance = utils_dev.ModelConfig(samplemode,do_fudge)\n",
    "# io_config_instance = utils_dev.IOConfig()\n",
    "\n",
    "\n",
    "instrument_instance = utils.Instrument(fwhm,wavelength_range,ndata,Rfile)\n",
    "re_params = utils.Retrieval_params(samplemode,chemeq,gaslist,gastype_list,fwhm,do_fudge,ptype,do_clouds,npatches,cloud_name,cloud_type,cloudpacth_index,particle_dis)\n",
    "model_config_instance = utils.ModelConfig(samplemode,do_fudge,cloudpath=cloudpath)\n",
    "io_config_instance = utils.IOConfig()\n",
    "\n",
    "\n",
    "\n",
    "\n",
    "\n",
    "model_config_instance.dist= 5.84\n",
    "model_config_instance.xlist ='data/gaslistRox.dat'\n",
    "model_config_instance.do_bff=0\n",
    "model_config_instance.malk=1\n",
    "model_config_instance.ch4=0\n",
    "model_config_instance.update_dictionary()\n"
   ]
  },
  {
   "cell_type": "code",
   "execution_count": 3,
   "id": "0a14f29f",
   "metadata": {},
   "outputs": [],
   "source": [
    "obspec = np.asfortranarray(np.loadtxt(\"./examples/example_data/G570D_2MHcalib.dat\",dtype='d',unpack='true')) # G570D_2MassJcalib.dat\n",
    "args_instance = utils.ArgsGen(re_params,model_config_instance,instrument_instance,obspec)\n",
    "settings.init(args_instance)"
   ]
  },
  {
   "cell_type": "code",
   "execution_count": 4,
   "id": "a87ff0e9",
   "metadata": {},
   "outputs": [],
   "source": [
    "# args_instance.gasnames"
   ]
  },
  {
   "cell_type": "code",
   "execution_count": 5,
   "id": "082f08a3",
   "metadata": {},
   "outputs": [
    {
     "data": {
      "text/plain": [
       "array([['powerlaw cloud deck', 'grey cloud slab',\n",
       "        'Mie scattering cloud deck--tholin_WS15.mieff'],\n",
       "       [0, 0, 0]], dtype=object)"
      ]
     },
     "execution_count": 5,
     "metadata": {},
     "output_type": "execute_result"
    }
   ],
   "source": [
    "args_instance.cloudflag"
   ]
  },
  {
   "cell_type": "code",
   "execution_count": 6,
   "id": "19e7585c",
   "metadata": {},
   "outputs": [
    {
     "data": {
      "text/plain": [
       "((2, 3, 3, 196, 60), (196,), (60,))"
      ]
     },
     "execution_count": 6,
     "metadata": {},
     "output_type": "execute_result"
    }
   ],
   "source": [
    "np.shape(args_instance.cloudata),np.shape(args_instance.miewave),np.shape(args_instance.mierad)"
   ]
  },
  {
   "cell_type": "code",
   "execution_count": 7,
   "id": "c8feb1ba",
   "metadata": {},
   "outputs": [
    {
     "data": {
      "text/plain": [
       "(array([[0.00000000e+00, 0.00000000e+00, 0.00000000e+00, ...,\n",
       "         1.21814097e+00, 1.21324181e+00, 1.20872031e+00],\n",
       "        [0.00000000e+00, 0.00000000e+00, 0.00000000e+00, ...,\n",
       "         1.20300175e+00, 1.19883326e+00, 1.19503705e+00],\n",
       "        [0.00000000e+00, 0.00000000e+00, 0.00000000e+00, ...,\n",
       "         1.18848917e+00, 1.18483886e+00, 1.18153888e+00],\n",
       "        ...,\n",
       "        [6.67740000e-08, 1.49464000e-07, 4.27693000e-07, ...,\n",
       "         0.00000000e+00, 0.00000000e+00, 0.00000000e+00],\n",
       "        [9.46880000e-08, 2.11946000e-07, 6.06497000e-07, ...,\n",
       "         0.00000000e+00, 0.00000000e+00, 0.00000000e+00],\n",
       "        [1.27212000e-07, 2.84749000e-07, 8.14843000e-07, ...,\n",
       "         0.00000000e+00, 0.00000000e+00, 0.00000000e+00]]),\n",
       " (196, 60))"
      ]
     },
     "execution_count": 7,
     "metadata": {},
     "output_type": "execute_result"
    }
   ],
   "source": [
    "args_instance.cloudata[0,2,0],np.shape(args_instance.cloudata[0,2,0])"
   ]
  },
  {
   "cell_type": "code",
   "execution_count": 8,
   "id": "a790bfd2",
   "metadata": {},
   "outputs": [],
   "source": [
    "args_instance=settings.runargs\n",
    "all_params,all_params_values =utils.get_all_parametres(re_params.dictionary)\n",
    "\n",
    "if re_params.samplemode=='mcmc':\n",
    "    \n",
    "    model_config_instance.ndim=len(all_params)\n",
    "    model_config_instance.nwalkers=len(all_params)*16\n",
    "\n",
    "    r2d2 = (71492e3)**2. / (model_config_instance.dist * 3.086e+16)**2.\n",
    "    re_params.dictionary['refinement_params']['params']['r2d2']['distribution']=['normal',r2d2,0.1*r2d2]\n",
    "\n",
    "\n",
    "    def tolerance_parameter_customized_distribution(x):\n",
    "        return np.log10((np.random.rand(x)* (max(args_instance.obspec[2,:]**2)*(0.1 - 0.01))) + (0.01*min(args_instance.obspec[2,10::3]**2))) \n",
    "\n",
    "    for i in range(len(all_params)):\n",
    "        if all_params[i].startswith('tolerance_parameter'):\n",
    "            re_params.dictionary['refinement_params']['params'][all_params[i]]['distribution']=['customized',tolerance_parameter_customized_distribution]\n",
    "\n",
    "    if model_config_instance.fresh == 0:\n",
    "        p0=utils.MC_P0_gen(re_params.dictionary,model_config_instance,args_instance)"
   ]
  },
  {
   "cell_type": "code",
   "execution_count": 9,
   "id": "ceff6597",
   "metadata": {},
   "outputs": [
    {
     "data": {
      "text/plain": [
       "array([[-5.05715246e+00, -3.46433278e+00, -4.01640737e+00, ...,\n",
       "         3.51973886e-02, -1.31676455e+00,  1.53648786e-01],\n",
       "       [-3.56483635e+00, -4.01521298e+00, -5.03232549e+00, ...,\n",
       "         3.35105088e-03, -1.43115411e+00,  1.31450405e-01],\n",
       "       [-3.59704536e+00, -3.46621183e+00, -3.90818396e+00, ...,\n",
       "         6.72138918e-02, -1.42866104e+00,  3.11438667e-01],\n",
       "       ...,\n",
       "       [-3.75769824e+00, -2.98583467e+00, -4.17630393e+00, ...,\n",
       "         1.41741649e-01, -1.43052201e+00,  2.06855101e-01],\n",
       "       [-4.36400763e+00, -3.69816713e+00, -4.23191957e+00, ...,\n",
       "         1.83703299e-01, -1.46568740e+00,  2.32551843e-01],\n",
       "       [-3.61202532e+00, -4.30093457e+00, -3.91172790e+00, ...,\n",
       "         2.09210812e-01, -1.37895238e+00,  1.39622980e-01]])"
      ]
     },
     "execution_count": 9,
     "metadata": {},
     "output_type": "execute_result"
    }
   ],
   "source": [
    "p0"
   ]
  },
  {
   "cell_type": "code",
   "execution_count": 10,
   "id": "cba058da",
   "metadata": {},
   "outputs": [
    {
     "name": "stdout",
     "output_type": "stream",
     "text": [
      "True\n",
      "True\n",
      "True\n",
      "True\n"
     ]
    }
   ],
   "source": [
    "print(args_instance.cloudflag.flags['F_CONTIGUOUS'])\n",
    "print(args_instance.cloudata.flags['F_CONTIGUOUS']) \n",
    "print(args_instance.miewave.flags['F_CONTIGUOUS']) \n",
    "print(args_instance.mierad.flags['F_CONTIGUOUS'])\n"
   ]
  },
  {
   "cell_type": "code",
   "execution_count": null,
   "id": "0dcde969",
   "metadata": {},
   "outputs": [],
   "source": [
    "gnostics = 0\n",
    "\n",
    "shiftspec, photspec, tauspec,cfunc = test_module.modelspec(p0[0,:],re_params,args_instance,gnostics)\n"
   ]
  },
  {
   "cell_type": "code",
   "execution_count": null,
   "id": "0ea425d8",
   "metadata": {},
   "outputs": [],
   "source": [
    "outspec,tmpclphotspec,tmpophotspec,cf = forwardmodel.marv(temp,logg,R2D2,gasnames,gasmass,logVMR,pcover,\n",
    "do_clouds,cloudflag,cloudata,miewave,mierad,cloudrad,cloudsig,cloudprof,inlinetemps,press,inwavenum,linelist,\\\n",
    "cia,ciatemps,use_disort,clphot,ophot,make_cf,do_bff,bff)\n",
    "\n",
    "    "
   ]
  },
  {
   "cell_type": "code",
   "execution_count": null,
   "id": "04d43c3e",
   "metadata": {},
   "outputs": [],
   "source": [
    "forwardmodel.marv(temp,logg,R2D2,gasnum,logVMR,pcover,do_clouds,cloudnum,cloudrad,cloudsig,cloudprof,\n",
    "                  inlinetemps,press,inwavenum,linelist,cia,ciatemps,use_disort,clphot,ophot,make_cf,do_bff,bff)"
   ]
  },
  {
   "cell_type": "code",
   "execution_count": null,
   "id": "e9298170",
   "metadata": {},
   "outputs": [],
   "source": [
    "subroutine marv(temp,logg,R2D2,ingasname,molmass,logVMR,pcover,&\n",
    "     do_clouds,incloudname,clouddata,miewave,mierad, &\n",
    "     cloudrad,cloudsig,cloudprof,&\n",
    "     inlinetemps,inpress,inwavenum,inlinelist,cia,ciatemps,&\n",
    "     use_disort,make_cl_pspec,make_oth_pspec,make_cf,do_bff,bff,outspec,&\n",
    "     cl_phot_press,oth_phot_press,cfunc)"
   ]
  },
  {
   "cell_type": "code",
   "execution_count": null,
   "id": "b42bd1aa",
   "metadata": {},
   "outputs": [],
   "source": []
  },
  {
   "cell_type": "code",
   "execution_count": null,
   "id": "9125ef0c",
   "metadata": {},
   "outputs": [],
   "source": []
  },
  {
   "cell_type": "code",
   "execution_count": null,
   "id": "85c636b1",
   "metadata": {},
   "outputs": [],
   "source": []
  },
  {
   "cell_type": "code",
   "execution_count": null,
   "id": "7eda1c91",
   "metadata": {},
   "outputs": [],
   "source": []
  }
 ],
 "metadata": {
  "kernelspec": {
   "display_name": "Python 3 (ipykernel)",
   "language": "python",
   "name": "python3"
  },
  "language_info": {
   "codemirror_mode": {
    "name": "ipython",
    "version": 3
   },
   "file_extension": ".py",
   "mimetype": "text/x-python",
   "name": "python",
   "nbconvert_exporter": "python",
   "pygments_lexer": "ipython3",
   "version": "3.11.5"
  }
 },
 "nbformat": 4,
 "nbformat_minor": 5
}
