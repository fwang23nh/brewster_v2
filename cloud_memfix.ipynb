{
 "cells": [
  {
   "cell_type": "code",
   "execution_count": 1,
   "id": "c4dc583e",
   "metadata": {},
   "outputs": [],
   "source": [
    "import os \n",
    "import test_module\n",
    "from collections import namedtuple\n",
    "import numpy as np\n",
    "import retrieval_run\n",
    "import settings\n",
    "import cloud_dic\n",
    "import utils\n",
    "import test_module\n"
   ]
  },
  {
   "cell_type": "code",
   "execution_count": 2,
   "id": "77fb9e1c",
   "metadata": {},
   "outputs": [],
   "source": [
    "#instrument\n",
    "\n",
    "fwhm=-1\n",
    "wavelength_range=[1,2.8]\n",
    "ndata=3\n",
    "Rfile='nonuniformR.dat'\n",
    "\n",
    "\n",
    "\n",
    "#retrieval_params\n",
    "\n",
    "##gas\n",
    "chemeq=0\n",
    "# gaslist = ['h2o','co','tio','vo','crh','feh','na','k']\n",
    "gaslist = ['h2o','co','tio','vo','crh','feh','k','na']\n",
    "gastype_list=['U','U','U','U','U','N','N','N']\n",
    "ptype=77  \n",
    "\n",
    "## clouds\n",
    "\n",
    "do_clouds=1\n",
    "cloudpath='/Users/fw23aao/Downloads/cloud_pickles/'\n",
    "\n",
    "# npatches=1\n",
    "# cloud_name=['clear','powerlaw', 'grey', 'tholin_WS15.mieff']\n",
    "# cloud_type=['None',\"deck\",\"slab\",\"deck\"]\n",
    "# cloudpatch_index=[[1],[1],[1],[1]]\n",
    "# particle_dis=['','', '', 'hansen']\n",
    "\n",
    "\n",
    "npatches=2\n",
    "cloud_name=['powerlaw', 'grey', 'ZnS_WS15.mieff', 'tholin_WS15.mieff']\n",
    "cloud_type=[\"Deck\",\"slab\",\"deck\",\"deck\"]\n",
    "\n",
    "cloudpatch_index=[[1,2],[1],[1,2],[1]]\n",
    "particle_dis=['None', 'None', 'hansen',\"log_normal\"]\n",
    "\n",
    "\n",
    "# ModelConfig:\n",
    "do_fudge=1\n",
    "samplemode='mcmc'\n",
    "\n",
    "# instrument_instance = utils_dev.Instrument(fwhm,wavelength_range,ndata,Rfile)\n",
    "# re_params = utils_dev.Retrieval_params(samplemode,chemeq,gaslist,gastype_list,fwhm,do_fudge,ptype,do_clouds,npatches,cloudname,cloudpacth_index,particle_dis)\n",
    "# model_config_instance = utils_dev.ModelConfig(samplemode,do_fudge)\n",
    "# io_config_instance = utils_dev.IOConfig()\n",
    "\n",
    "\n",
    "instrument_instance = utils.Instrument(fwhm,wavelength_range,ndata,Rfile)\n",
    "re_params = utils.Retrieval_params(samplemode,chemeq,gaslist,gastype_list,fwhm,do_fudge,ptype,do_clouds,npatches,cloud_name,cloud_type,cloudpatch_index,particle_dis)\n",
    "model_config_instance = utils.ModelConfig(samplemode,do_fudge,cloudpath=cloudpath)\n",
    "io_config_instance = utils.IOConfig()\n",
    "\n",
    "\n",
    "\n",
    "\n",
    "\n",
    "model_config_instance.dist= 5.84\n",
    "model_config_instance.xlist ='data/gaslistRox.dat'\n",
    "model_config_instance.do_bff=0\n",
    "model_config_instance.malk=1\n",
    "model_config_instance.ch4=0\n",
    "model_config_instance.update_dictionary()\n"
   ]
  },
  {
   "cell_type": "code",
   "execution_count": 3,
   "id": "0a14f29f",
   "metadata": {},
   "outputs": [],
   "source": [
    "obspec = np.asfortranarray(np.loadtxt(\"./examples/example_data/G570D_2MHcalib.dat\",dtype='d',unpack='true')) # G570D_2MassJcalib.dat\n",
    "args_instance = utils.ArgsGen(re_params,model_config_instance,instrument_instance,obspec)\n",
    "settings.init(args_instance)"
   ]
  },
  {
   "cell_type": "code",
   "execution_count": 4,
   "id": "348ce256",
   "metadata": {},
   "outputs": [
    {
     "data": {
      "text/plain": [
       "<utils.ArgsGen at 0x10d74e610>"
      ]
     },
     "execution_count": 4,
     "metadata": {},
     "output_type": "execute_result"
    }
   ],
   "source": [
    "args_instance"
   ]
  },
  {
   "cell_type": "code",
   "execution_count": 5,
   "id": "082f08a3",
   "metadata": {},
   "outputs": [
    {
     "data": {
      "text/plain": [
       "((4,),\n",
       " ['powerlaw cloud deck',\n",
       "  'grey cloud slab',\n",
       "  'Mie scattering cloud deck--ZnS_WS15.mieff',\n",
       "  'Mie scattering cloud deck--tholin_WS15.mieff'])"
      ]
     },
     "execution_count": 5,
     "metadata": {},
     "output_type": "execute_result"
    }
   ],
   "source": [
    "np.shape(args_instance.cloudname_set),args_instance.cloudname_set"
   ]
  },
  {
   "cell_type": "code",
   "execution_count": 6,
   "id": "b772fa2b",
   "metadata": {},
   "outputs": [
    {
     "data": {
      "text/plain": [
       "((4,),\n",
       " array(['powerlaw', 'grey', 'ZnS_WS15.mieff', 'tholin_WS15.mieff'],\n",
       "       dtype=object))"
      ]
     },
     "execution_count": 6,
     "metadata": {},
     "output_type": "execute_result"
    }
   ],
   "source": [
    "np.shape(args_instance.cloud_opaname),args_instance.cloud_opaname"
   ]
  },
  {
   "cell_type": "code",
   "execution_count": 7,
   "id": "606a4ea5",
   "metadata": {},
   "outputs": [
    {
     "data": {
      "text/plain": [
       "((2, 4),\n",
       " array([[ True,  True,  True,  True],\n",
       "        [ True, False,  True, False]]))"
      ]
     },
     "execution_count": 7,
     "metadata": {},
     "output_type": "execute_result"
    }
   ],
   "source": [
    "np.shape(args_instance.cloudmap),args_instance.cloudmap"
   ]
  },
  {
   "cell_type": "code",
   "execution_count": 8,
   "id": "72dd360f",
   "metadata": {},
   "outputs": [
    {
     "data": {
      "text/plain": [
       "((4,), array([0, 0, 1, 2]))"
      ]
     },
     "execution_count": 8,
     "metadata": {},
     "output_type": "execute_result"
    }
   ],
   "source": [
    "np.shape(args_instance.cloudsize),args_instance.cloudsize"
   ]
  },
  {
   "cell_type": "code",
   "execution_count": 9,
   "id": "fbe4425b",
   "metadata": {},
   "outputs": [
    {
     "data": {
      "text/plain": [
       "(4, 3, 196, 60)"
      ]
     },
     "execution_count": 9,
     "metadata": {},
     "output_type": "execute_result"
    }
   ],
   "source": [
    "np.shape(args_instance.cloudata)"
   ]
  },
  {
   "cell_type": "code",
   "execution_count": 10,
   "id": "a790bfd2",
   "metadata": {},
   "outputs": [],
   "source": [
    "args_instance=settings.runargs\n",
    "all_params,all_params_values =utils.get_all_parametres(re_params.dictionary)\n",
    "\n",
    "if re_params.samplemode=='mcmc':\n",
    "    \n",
    "    model_config_instance.ndim=len(all_params)\n",
    "    model_config_instance.nwalkers=len(all_params)*16\n",
    "\n",
    "    r2d2 = (71492e3)**2. / (model_config_instance.dist * 3.086e+16)**2.\n",
    "    re_params.dictionary['refinement_params']['params']['r2d2']['distribution']=['normal',r2d2,0.1*r2d2]\n",
    "\n",
    "\n",
    "    def tolerance_parameter_customized_distribution(x):\n",
    "        return np.log10((np.random.rand(x)* (max(args_instance.obspec[2,:]**2)*(0.1 - 0.01))) + (0.01*min(args_instance.obspec[2,10::3]**2))) \n",
    "\n",
    "    for i in range(len(all_params)):\n",
    "        if all_params[i].startswith('tolerance_parameter'):\n",
    "            re_params.dictionary['refinement_params']['params'][all_params[i]]['distribution']=['customized',tolerance_parameter_customized_distribution]\n",
    "\n",
    "    if model_config_instance.fresh == 0:\n",
    "        p0=utils.MC_P0_gen(re_params.dictionary,model_config_instance,args_instance)"
   ]
  },
  {
   "cell_type": "code",
   "execution_count": 11,
   "id": "31de372a",
   "metadata": {},
   "outputs": [
    {
     "data": {
      "text/plain": [
       "params(h2o=-4.8312926120582365, co=-4.177137910079509, tio=-3.5825150406691435, vo=-4.048362738466376, crh=-4.18244235136604, feh=-4.4810246179787185, p_ref_feh=-0.8122990618924251, alpha_feh=0.5265587804124237, K_Na=-3.2448592078253724, p_ref_K_Na=-0.833509431096836, alpha_K_Na=0.8597993234103277, logg=4.537650853746592, r2d2=1.6919355130992372e-19, scale1=0.0002625009066124352, scale2=-0.0003215949833731092, dlambda=4.0187665398335044e-05, tolerance_parameter_1=-32.30534046815328, tolerance_parameter_2=-32.21385771957188, tolerance_parameter_3=-32.52640164304063, gamma=50.269916605468275, Tint=1196.5880573655731, alpha=1.320531178463671, lndelta=0.46253740176717856, T1=1029.711765911393, T2=1286.461211819721, T3=1435.1894593577908, fcld=0.6501387485218293, logp_pcd=-0.1040586607350866, dp_pcd=0.023546543945320072, omega_pcd=0.8034856296999977, alpha_pcd=2.7967368294342503, tau_gcs=7.560310999439254, logp_gcs=-0.05698227886747903, dp_gcs=0.03139352937498745, omega_gcs=0.6764199870600079, logp_mcd_ZnS_WS15=1.1106606761065192, dp_mcd_ZnS_WS15=0.08601376076958267, hansen_a_mcd_ZnS_WS15=-1.2722804109583585, hansen_b_mcd_ZnS_WS15=0.22166489380119445, logp_mcd_tholin_WS15=0.9621270652260585, dp_mcd_tholin_WS15=0.016926933690259466, mu_mcd_tholin_WS15=-1.4053758535957839, sigma_mcd_tholin_WS15=-1.0184433299414344)"
      ]
     },
     "execution_count": 11,
     "metadata": {},
     "output_type": "execute_result"
    }
   ],
   "source": [
    "params_master = namedtuple('params',all_params)\n",
    "params_instance = params_master(*p0[0,:])\n",
    "params_instance"
   ]
  },
  {
   "cell_type": "code",
   "execution_count": 12,
   "id": "d54aa21d",
   "metadata": {},
   "outputs": [],
   "source": [
    "import cloud_dic_new\n",
    "\n",
    "\n",
    "cloudparams=cloud_dic_new.cloud_unpack(re_params,params_instance)\n",
    "cloudprof,cloudrad,cloudsig = cloud_dic_new.atlas(re_params,cloudparams,args_instance.press)"
   ]
  },
  {
   "cell_type": "code",
   "execution_count": 13,
   "id": "f64924db",
   "metadata": {},
   "outputs": [
    {
     "data": {
      "text/plain": [
       "((5, 4),\n",
       " array([[ 0.        ,  7.560311  ,  0.        ,  0.        ],\n",
       "        [-0.10405866, -0.05698228,  1.11066068,  0.96212707],\n",
       "        [ 0.02354654,  0.03139353,  0.08601376,  0.01692693],\n",
       "        [ 0.80348563,  0.67641999, -1.27228041, -1.40537585],\n",
       "        [ 2.79673683,  0.        ,  0.22166489, -1.01844333]]))"
      ]
     },
     "execution_count": 13,
     "metadata": {},
     "output_type": "execute_result"
    }
   ],
   "source": [
    "np.shape(cloudparams),cloudparams"
   ]
  },
  {
   "cell_type": "code",
   "execution_count": 14,
   "id": "402f0630",
   "metadata": {},
   "outputs": [
    {
     "data": {
      "text/plain": [
       "(64, 4)"
      ]
     },
     "execution_count": 14,
     "metadata": {},
     "output_type": "execute_result"
    }
   ],
   "source": [
    "np.shape(cloudprof)"
   ]
  },
  {
   "cell_type": "code",
   "execution_count": 15,
   "id": "58020410",
   "metadata": {},
   "outputs": [
    {
     "data": {
      "text/plain": [
       "(64, 4)"
      ]
     },
     "execution_count": 15,
     "metadata": {},
     "output_type": "execute_result"
    }
   ],
   "source": [
    "np.shape(cloudrad)"
   ]
  },
  {
   "cell_type": "code",
   "execution_count": 16,
   "id": "81281210",
   "metadata": {},
   "outputs": [
    {
     "data": {
      "text/plain": [
       "(64, 4)"
      ]
     },
     "execution_count": 16,
     "metadata": {},
     "output_type": "execute_result"
    }
   ],
   "source": [
    "np.shape(cloudsig)"
   ]
  },
  {
   "cell_type": "code",
   "execution_count": 17,
   "id": "8b120ddb",
   "metadata": {},
   "outputs": [],
   "source": [
    "cloudprof = np.asfortranarray(cloudprof,dtype = 'float64')\n",
    "cloudrad = np.asfortranarray(cloudrad,dtype = 'float64')\n",
    "cloudsig = np.asfortranarray(cloudsig,dtype = 'float64')"
   ]
  },
  {
   "cell_type": "code",
   "execution_count": 18,
   "id": "0143d68d",
   "metadata": {},
   "outputs": [
    {
     "name": "stdout",
     "output_type": "stream",
     "text": [
      "True\n",
      "True\n",
      "True\n",
      "True\n",
      "True\n",
      "True\n",
      "True\n",
      "True\n",
      "True\n"
     ]
    }
   ],
   "source": [
    "print(args_instance.cloud_opaname.flags['F_CONTIGUOUS'])\n",
    "print(args_instance.cloudata.flags['F_CONTIGUOUS']) \n",
    "print(args_instance.miewave.flags['F_CONTIGUOUS']) \n",
    "print(args_instance.mierad.flags['F_CONTIGUOUS'])\n",
    "print(args_instance.cloudsize.flags['F_CONTIGUOUS'])\n",
    "print(args_instance.cloudmap.flags['F_CONTIGUOUS'])\n",
    "print(cloudprof.flags['F_CONTIGUOUS'])\n",
    "print(cloudrad.flags['F_CONTIGUOUS'])\n",
    "print(cloudsig.flags['F_CONTIGUOUS'])"
   ]
  },
  {
   "cell_type": "code",
   "execution_count": 19,
   "id": "0dcde969",
   "metadata": {},
   "outputs": [],
   "source": [
    "# gnostics = 0\n",
    "# shiftspec, photspec, tauspec,cfunc = test_module.modelspec(p0[0,:],re_params,args_instance,gnostics)"
   ]
  },
  {
   "cell_type": "code",
   "execution_count": null,
   "id": "7398bedd",
   "metadata": {},
   "outputs": [],
   "source": []
  },
  {
   "cell_type": "code",
   "execution_count": null,
   "id": "d16de039",
   "metadata": {},
   "outputs": [],
   "source": []
  },
  {
   "cell_type": "code",
   "execution_count": null,
   "id": "12688357",
   "metadata": {},
   "outputs": [],
   "source": []
  },
  {
   "cell_type": "code",
   "execution_count": null,
   "id": "52ca7f84",
   "metadata": {},
   "outputs": [],
   "source": []
  },
  {
   "cell_type": "code",
   "execution_count": null,
   "id": "c98cdf19",
   "metadata": {},
   "outputs": [],
   "source": []
  },
  {
   "cell_type": "code",
   "execution_count": null,
   "id": "137c900c",
   "metadata": {},
   "outputs": [],
   "source": []
  },
  {
   "cell_type": "code",
   "execution_count": null,
   "id": "6d586a63",
   "metadata": {},
   "outputs": [],
   "source": []
  },
  {
   "cell_type": "code",
   "execution_count": null,
   "id": "bb7e0438",
   "metadata": {},
   "outputs": [],
   "source": []
  },
  {
   "cell_type": "code",
   "execution_count": null,
   "id": "f3fb914a",
   "metadata": {},
   "outputs": [],
   "source": []
  },
  {
   "cell_type": "code",
   "execution_count": null,
   "id": "d0baea45",
   "metadata": {},
   "outputs": [],
   "source": []
  },
  {
   "cell_type": "code",
   "execution_count": null,
   "id": "39b611eb",
   "metadata": {},
   "outputs": [],
   "source": []
  },
  {
   "cell_type": "code",
   "execution_count": null,
   "id": "9a203431",
   "metadata": {},
   "outputs": [],
   "source": []
  },
  {
   "cell_type": "code",
   "execution_count": null,
   "id": "fceefef7",
   "metadata": {},
   "outputs": [],
   "source": []
  },
  {
   "cell_type": "code",
   "execution_count": null,
   "id": "168aae64",
   "metadata": {},
   "outputs": [],
   "source": []
  },
  {
   "cell_type": "code",
   "execution_count": null,
   "id": "4bbc5de5",
   "metadata": {},
   "outputs": [],
   "source": []
  },
  {
   "cell_type": "code",
   "execution_count": 52,
   "id": "65ce9712",
   "metadata": {},
   "outputs": [],
   "source": [
    "\n",
    "pattern_opa = re.compile(r'\\b(powerlaw|grey|Mie)\\b', re.IGNORECASE)\n",
    "\n",
    "cloud_opatype=[]\n",
    "for idx, name in enumerate(cloudname_set, start=1):\n",
    "    match = pattern_opa.search(name)\n",
    "    cloud_opatype.append(match.group(1).lower() if match else 'unknown')"
   ]
  },
  {
   "cell_type": "code",
   "execution_count": 53,
   "id": "c96ab445",
   "metadata": {},
   "outputs": [
    {
     "data": {
      "text/plain": [
       "['powerlaw', 'grey', 'mie']"
      ]
     },
     "execution_count": 53,
     "metadata": {},
     "output_type": "execute_result"
    }
   ],
   "source": [
    "cloud_opatype"
   ]
  },
  {
   "cell_type": "code",
   "execution_count": null,
   "id": "c793bfce",
   "metadata": {},
   "outputs": [],
   "source": []
  }
 ],
 "metadata": {
  "kernelspec": {
   "display_name": "Python 3 (ipykernel)",
   "language": "python",
   "name": "python3"
  },
  "language_info": {
   "codemirror_mode": {
    "name": "ipython",
    "version": 3
   },
   "file_extension": ".py",
   "mimetype": "text/x-python",
   "name": "python",
   "nbconvert_exporter": "python",
   "pygments_lexer": "ipython3",
   "version": "3.11.5"
  }
 },
 "nbformat": 4,
 "nbformat_minor": 5
}
