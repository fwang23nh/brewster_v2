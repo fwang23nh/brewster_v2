{
 "cells": [
  {
   "cell_type": "code",
   "execution_count": null,
   "id": "c4dc583e",
   "metadata": {},
   "outputs": [],
   "source": [
    "import os \n",
    "import test_module\n",
    "from collections import namedtuple\n",
    "import numpy as np\n",
    "import retrieval_run\n",
    "import settings\n",
    "import cloud_dic\n",
    "import utils\n",
    "import test_module\n",
    "import brewtools"
   ]
  },
  {
   "cell_type": "code",
   "execution_count": null,
   "id": "77fb9e1c",
   "metadata": {},
   "outputs": [],
   "source": [
    "#instrument\n",
    "\n",
    "fwhm=-1\n",
    "wavelength_range=[1,2.8]\n",
    "ndata=3\n",
    "Rfile='nonuniformR.dat'\n",
    "\n",
    "\n",
    "\n",
    "#retrieval_params\n",
    "\n",
    "##gas\n",
    "chemeq=0\n",
    "# gaslist = ['h2o','co','tio','vo','crh','feh','na','k']\n",
    "gaslist = ['h2o','ch4']\n",
    "gastype_list=['U','U']\n",
    "ptype=77  \n",
    "\n",
    "\n",
    "cloudpath='../MieCode/'\n",
    "\n",
    "## clouds\n",
    "\n",
    "do_clouds=1\n",
    "\n",
    "#npatches=1\n",
    "\n",
    "\n",
    "#cloud_name=['MgSiO3.mieff','Fe.mieff']\n",
    "#cloud_type=['slab','deck']\n",
    "\n",
    "#cloudpacth_index=[[1],[1]]\n",
    "#particle_dis=['hansan','hansan']\n",
    "\n",
    "\n",
    "npatches=2\n",
    "cloud_name=['powerlaw', 'grey', 'ZnS_WS15.mieff', 'tholin_WS15.mieff']\n",
    "cloud_type=[\"Deck\",\"slab\",\"deck\",\"deck\"]\n",
    "particle_dis=['None', 'None', 'hansen',\"log_normal\"]\n",
    "\n",
    "cloudpatch_index=[[1,2],[1],[1,2],[1]]\n",
    "\n",
    "\n",
    "# ModelConfig:\n",
    "do_fudge=1\n",
    "samplemode='mcmc'\n",
    "\n",
    "# instrument_instance = utils_dev.Instrument(fwhm,wavelength_range,ndata,Rfile)\n",
    "# re_params = utils_dev.Retrieval_params(samplemode,chemeq,gaslist,gastype_list,fwhm,do_fudge,ptype,do_clouds,npatches,cloudname,cloudpacth_index,particle_dis)\n",
    "# model_config_instance = utils_dev.ModelConfig(samplemode,do_fudge)\n",
    "# io_config_instance = utils_dev.IOConfig()\n",
    "\n",
    "\n",
    "instrument_instance = utils.Instrument(fwhm,wavelength_range,ndata,Rfile)\n",
    "re_params = utils.Retrieval_params(samplemode,chemeq,gaslist,gastype_list,fwhm,do_fudge,ptype,do_clouds,npatches,cloud_name,cloud_type,cloudpatch_index,particle_dis)\n",
    "model_config_instance = utils.ModelConfig(samplemode,do_fudge,cloudpath=cloudpath)\n",
    "io_config_instance = utils.IOConfig()\n",
    "\n",
    "\n",
    "\n",
    "\n",
    "\n",
    "model_config_instance.dist= 5.84\n",
    "model_config_instance.xlist ='data/gaslistRox.dat'\n",
    "model_config_instance.xpath ='/Volumes/DudleyDisk/LineLists/'\n",
    "model_config_instance.do_bff=0\n",
    "model_config_instance.malk=1\n",
    "model_config_instance.ch4=0\n",
    "model_config_instance.update_dictionary()\n"
   ]
  },
  {
   "cell_type": "code",
   "execution_count": null,
   "id": "0a14f29f",
   "metadata": {},
   "outputs": [],
   "source": [
    "obspec = np.asfortranarray(np.loadtxt(\"./examples/example_data/G570D_2MHcalib.dat\",dtype='d',unpack='true')) # G570D_2MassJcalib.dat\n",
    "args_instance = utils.ArgsGen(re_params,model_config_instance,instrument_instance,obspec)\n",
    "settings.init(args_instance)"
   ]
  },
  {
   "cell_type": "code",
   "execution_count": null,
   "id": "a87ff0e9",
   "metadata": {},
   "outputs": [],
   "source": [
    "args_instance"
   ]
  },
  {
   "cell_type": "code",
   "execution_count": null,
   "id": "082f08a3",
   "metadata": {},
   "outputs": [],
   "source": [
    "np.shape(args_instance.cloudname_set),args_instance.cloudname_set"
   ]
  },
  {
   "cell_type": "code",
   "execution_count": null,
   "id": "19e7585c",
   "metadata": {},
   "outputs": [],
   "source": [
    "np.shape(args_instance.cloud_opaname),args_instance.cloud_opaname"
   ]
  },
  {
   "cell_type": "code",
   "execution_count": null,
   "id": "c8feb1ba",
   "metadata": {},
   "outputs": [],
   "source": [
    "args_instance.cloudata[0,0,0],np.shape(args_instance.cloudata[0,0,0])"
   ]
  },
  {
   "cell_type": "code",
   "execution_count": null,
   "id": "a790bfd2",
   "metadata": {},
   "outputs": [],
   "source": [
    "args_instance=settings.runargs\n",
    "all_params,all_params_values =utils.get_all_parametres(re_params.dictionary)\n",
    "\n",
    "if re_params.samplemode=='mcmc':\n",
    "    \n",
    "    model_config_instance.ndim=len(all_params)\n",
    "    model_config_instance.nwalkers=len(all_params)*16\n",
    "\n",
    "    r2d2 = (71492e3)**2. / (model_config_instance.dist * 3.086e+16)**2.\n",
    "    re_params.dictionary['refinement_params']['params']['r2d2']['distribution']=['normal',r2d2,0.1*r2d2]\n",
    "\n",
    "\n",
    "    def tolerance_parameter_customized_distribution(x):\n",
    "        return np.log10((np.random.rand(x)* (max(args_instance.obspec[2,:]**2)*(0.1 - 0.01))) + (0.01*min(args_instance.obspec[2,10::3]**2))) \n",
    "\n",
    "    for i in range(len(all_params)):\n",
    "        if all_params[i].startswith('tolerance_parameter'):\n",
    "            re_params.dictionary['refinement_params']['params'][all_params[i]]['distribution']=['customized',tolerance_parameter_customized_distribution]\n",
    "\n",
    "    if model_config_instance.fresh == 0:\n",
    "        p0=utils.MC_P0_gen(re_params.dictionary,model_config_instance,args_instance)"
   ]
  },
  {
   "cell_type": "code",
   "execution_count": null,
   "id": "ceff6597",
   "metadata": {},
   "outputs": [],
   "source": [
    "params_master = namedtuple('params',all_params)\n",
    "params_instance = params_master(*p0[0,:])\n",
    "params_instance"
   ]
  },
  {
   "cell_type": "code",
   "execution_count": null,
   "id": "cba058da",
   "metadata": {},
   "outputs": [],
   "source": [
    "print(args_instance.cloud_opaname.flags['F_CONTIGUOUS'])\n",
    "print(args_instance.cloudata.flags['F_CONTIGUOUS']) \n",
    "print(args_instance.miewave.flags['F_CONTIGUOUS']) \n",
    "print(args_instance.mierad.flags['F_CONTIGUOUS'])\n",
    "print(args_instance.cloudsize.flags['F_CONTIGUOUS'])\n",
    "print(args_instance.cloudmap.flags['F_CONTIGUOUS'])\n",
    "print(cloudprof.flags['F_CONTIGUOUS'])\n",
    "print(cloudrad.flags['F_CONTIGUOUS'])\n",
    "print(cloudsig.flags['F_CONTIGUOUS'])"
   ]
  },
  {
   "cell_type": "code",
   "execution_count": null,
   "id": "d2498ca1-af72-4610-a404-db94ae8190ae",
   "metadata": {},
   "outputs": [],
   "source": [
    "print(args_instance.cloudmap)\n",
    "args_instance.cloudsize"
   ]
  },
  {
   "cell_type": "code",
   "execution_count": null,
   "id": "0dcde969",
   "metadata": {},
   "outputs": [],
   "source": [
    "gnostics = 0\n",
    "shiftspec, photspec, tauspec,cfunc = test_module.modelspec(p0[0,:],re_params,args_instance,gnostics)"
   ]
  },
  {
   "cell_type": "code",
   "execution_count": null,
   "id": "7398bedd",
   "metadata": {},
   "outputs": [],
   "source": [
    "print(shiftspec)"
   ]
  },
  {
   "cell_type": "code",
   "execution_count": null,
   "id": "d16de039",
   "metadata": {},
   "outputs": [],
   "source": []
  },
  {
   "cell_type": "code",
   "execution_count": null,
   "id": "12688357",
   "metadata": {},
   "outputs": [],
   "source": []
  },
  {
   "cell_type": "code",
   "execution_count": null,
   "id": "52ca7f84",
   "metadata": {},
   "outputs": [],
   "source": []
  },
  {
   "cell_type": "code",
   "execution_count": null,
   "id": "c98cdf19",
   "metadata": {},
   "outputs": [],
   "source": []
  },
  {
   "cell_type": "code",
   "execution_count": null,
   "id": "137c900c",
   "metadata": {},
   "outputs": [],
   "source": []
  },
  {
   "cell_type": "code",
   "execution_count": null,
   "id": "6d586a63",
   "metadata": {},
   "outputs": [],
   "source": []
  },
  {
   "cell_type": "code",
   "execution_count": null,
   "id": "bb7e0438",
   "metadata": {},
   "outputs": [],
   "source": []
  },
  {
   "cell_type": "code",
   "execution_count": null,
   "id": "f3fb914a",
   "metadata": {},
   "outputs": [],
   "source": []
  },
  {
   "cell_type": "code",
   "execution_count": null,
   "id": "d0baea45",
   "metadata": {},
   "outputs": [],
   "source": []
  },
  {
   "cell_type": "code",
   "execution_count": null,
   "id": "39b611eb",
   "metadata": {},
   "outputs": [],
   "source": []
  },
  {
   "cell_type": "code",
   "execution_count": null,
   "id": "9a203431",
   "metadata": {},
   "outputs": [],
   "source": []
  },
  {
   "cell_type": "code",
   "execution_count": null,
   "id": "fceefef7",
   "metadata": {},
   "outputs": [],
   "source": []
  },
  {
   "cell_type": "code",
   "execution_count": null,
   "id": "168aae64",
   "metadata": {},
   "outputs": [],
   "source": []
  },
  {
   "cell_type": "code",
   "execution_count": null,
   "id": "4bbc5de5",
   "metadata": {},
   "outputs": [],
   "source": []
  },
  {
   "cell_type": "code",
   "execution_count": null,
   "id": "65ce9712",
   "metadata": {},
   "outputs": [],
   "source": [
    "\n",
    "pattern_opa = re.compile(r'\\b(powerlaw|grey|Mie)\\b', re.IGNORECASE)\n",
    "\n",
    "cloud_opatype=[]\n",
    "for idx, name in enumerate(cloudname_set, start=1):\n",
    "    match = pattern_opa.search(name)\n",
    "    cloud_opatype.append(match.group(1).lower() if match else 'unknown')"
   ]
  },
  {
   "cell_type": "code",
   "execution_count": null,
   "id": "c96ab445",
   "metadata": {},
   "outputs": [],
   "source": [
    "cloud_opatype"
   ]
  },
  {
   "cell_type": "code",
   "execution_count": null,
   "id": "c793bfce",
   "metadata": {},
   "outputs": [],
   "source": [
    "miewave,mierad,qscat,qext,cos_qscat = brewtools.pickle_load('../MieCode/MgSiO3.mieff.pic')"
   ]
  },
  {
   "cell_type": "code",
   "execution_count": null,
   "id": "40ea0245-e459-498f-b908-ccea2671f127",
   "metadata": {},
   "outputs": [],
   "source": [
    "print(mierad.shape)"
   ]
  },
  {
   "cell_type": "raw",
   "id": "8ed37eb9-8517-4e59-a68c-445e728112f0",
   "metadata": {},
   "source": []
  }
 ],
 "metadata": {
  "kernelspec": {
   "display_name": "Python 3 (ipykernel)",
   "language": "python",
   "name": "python3"
  },
  "language_info": {
   "codemirror_mode": {
    "name": "ipython",
    "version": 3
   },
   "file_extension": ".py",
   "mimetype": "text/x-python",
   "name": "python",
   "nbconvert_exporter": "python",
   "pygments_lexer": "ipython3",
   "version": "3.11.8"
  }
 },
 "nbformat": 4,
 "nbformat_minor": 5
}
