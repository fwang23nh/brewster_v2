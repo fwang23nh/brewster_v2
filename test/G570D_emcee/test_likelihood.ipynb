{
 "cells": [
  {
   "cell_type": "code",
   "execution_count": 1,
   "metadata": {},
   "outputs": [],
   "source": [
    "import multiprocessing\n",
    "import time\n",
    "import numpy as np\n",
    "import scipy as sp\n",
    "import emcee\n",
    "import testkit\n",
    "import ciamod\n",
    "import settings\n",
    "import os\n",
    "import gc\n",
    "import sys\n",
    "import pickle\n",
    "from scipy.io.idl import readsav\n",
    "from scipy import interpolate\n",
    "from scipy.interpolate import interp1d\n",
    "from scipy.interpolate import InterpolatedUnivariateSpline\n",
    "\n",
    "import matplotlib\n",
    "import matplotlib.pyplot as plt\n",
    "import matplotlib.image as mgimg\n",
    "import TPmod\n",
    "import forwardmodel\n",
    "from IPython.display import display\n",
    "%matplotlib inline\n"
   ]
  },
  {
   "cell_type": "code",
   "execution_count": 2,
   "metadata": {},
   "outputs": [
    {
     "name": "stdout",
     "output_type": "stream",
     "text": [
      "2\n"
     ]
    }
   ],
   "source": [
    "# First get data and parameters for object\n",
    "\n",
    "# get the observed spectrum\n",
    "obspec = np.asfortranarray(np.loadtxt(\"G570D_2MHcalib.dat\",dtype='d',unpack='true'))\n",
    "\n",
    "# start with the wavelength range\n",
    "w1 = 1.0\n",
    "w2 = 2.5\n",
    "\n",
    "\n",
    "# How many patches & clouds do we want??\n",
    "# Must be at least 1 of each, but can turn off cloud below\n",
    "npatches = 2\n",
    "nclouds = 1\n",
    "\n",
    "# set up array for setting patchy cloud answers\n",
    "do_clouds = np.zeros([npatches],dtype='i')\n",
    "\n",
    "# Which patches are cloudy\n",
    "do_clouds[0] = 0\n",
    "do_clouds[1] = 1\n",
    "# set up cloud detail arrays\n",
    "cloudnum = np.zeros([npatches,nclouds],dtype='i')\n",
    "cloudtype =np.zeros([npatches,nclouds],dtype='i')\n",
    "\n",
    "print(cloudtype.size)\n",
    "# Now fill cloud details. What kind of clouds and shape are they?\n",
    "# Cloud types\n",
    "# 1:  slab cloud\n",
    "# 2: deep thick cloud , we only see the top\n",
    "# 3: slab with fixed thickness log dP = 0.005 (i.e. fits within a single layer)\n",
    "# 4: deep thick cloud with fixed height (i.e. appears in a single layer)\n",
    "# In both cases the cloud properties are density, rg, rsig for real clouds\n",
    "# and dtau, w0, and power law for cloudnum = 89 or 99 for grey\n",
    "cloudnum[:,0] = 5\n",
    "cloudtype[:,0] = 1\n",
    "\n",
    "#cloudnum[:,1] = 2\n",
    "#cloudtype[:,1] = 1\n",
    "\n",
    "#cloudnum[:,2] = 2\n",
    "#cloudtype[:,2] = 2\n",
    "\n",
    "# second patch turn off top cloud\n",
    "#cloudnum[1,0] = 5\n",
    "#cloudtype[1,0] = 0\n",
    "\n",
    "#cloudnum[1,1] = 5\n",
    "#cloudtype[1,1] = 0\n",
    "\n",
    "\n",
    "# gravity??\n",
    "logg = 4.0\n",
    "\n",
    "# distance (parsecs)\n",
    "dist =5.882\n",
    "\n",
    "# scale factor r2d2 from distance 1 Rj radius\n",
    "r2d2 = (71492e3)**2. / (dist * 3.086e+16)**2.\n",
    "\n",
    "# Are we doing H- bound-free, free-free continuum opacities?\n",
    "# (Is the profile going above approx 3000K in the photosphere?)\n",
    "do_bff = 1\n",
    "\n",
    "chemeq = 0\n",
    "\n",
    "# Set the profile type. If we're using a fixed one. Give the file name\n",
    "proftype = 9\n",
    "pfile = \"t1700g1000f3.dat\"\n",
    "\n",
    "\n",
    "# set up pressure grids in bar cos its intuitive\n",
    "logcoarsePress = np.arange(-4.0, 2.5, 0.53)\n",
    "logfinePress = np.arange(-4.0, 2.4, 0.1)\n",
    "# forward model wants pressure in bar\n",
    "#logcoarsePress = np.arange(-4.0, 3.0, 0.5)\n",
    "coarsePress = pow(10,logcoarsePress)\n",
    "press = pow(10,logfinePress)\n",
    "nlayers = press.size\n",
    "\n",
    "# Where are the cross sections?\n",
    "# give the full path\n",
    "xpath = \"../Linelists/\"\n",
    "\n",
    "# now the cross sections\n",
    "\n",
    "# Now list the gases.\n",
    "# If Na is after K, at the end of the list, alkalis will be tied\n",
    "# together at Asplund solar ratio. See Line at al (2015)\n",
    "# Else if K is after Na, they'll be separate\n",
    "\n",
    "gaslist = ['h2o','ch4']\n",
    "ngas = len(gaslist)\n",
    "\n",
    "# some switches for alternative cross sections\n",
    "# Use Mike's Alkalis?\n",
    "malk = 1\n",
    "# Use Mike's CH4?\n",
    "mch4 = 0\n",
    "\n",
    "fwhm = 0\n",
    "# Are we using DISORT for radiative transfer?\n",
    "# (HINT: Not in this century)\n",
    "use_disort = 0 \n",
    "\n",
    "# use the fudge factor?\n",
    "do_fudge = 1\n",
    "\n",
    "\n"
   ]
  },
  {
   "cell_type": "code",
   "execution_count": 3,
   "metadata": {},
   "outputs": [
    {
     "name": "stdout",
     "output_type": "stream",
     "text": [
      "(3, 371)\n",
      "[1.00000000e-04 1.25892541e-04 1.58489319e-04 1.99526231e-04\n",
      " 2.51188643e-04 3.16227766e-04 3.98107171e-04 5.01187234e-04\n",
      " 6.30957344e-04 7.94328235e-04 1.00000000e-03 1.25892541e-03\n",
      " 1.58489319e-03 1.99526231e-03 2.51188643e-03 3.16227766e-03\n",
      " 3.98107171e-03 5.01187234e-03 6.30957344e-03 7.94328235e-03\n",
      " 1.00000000e-02 1.25892541e-02 1.58489319e-02 1.99526231e-02\n",
      " 2.51188643e-02 3.16227766e-02 3.98107171e-02 5.01187234e-02\n",
      " 6.30957344e-02 7.94328235e-02 1.00000000e-01 1.25892541e-01\n",
      " 1.58489319e-01 1.99526231e-01 2.51188643e-01 3.16227766e-01\n",
      " 3.98107171e-01 5.01187234e-01 6.30957344e-01 7.94328235e-01\n",
      " 1.00000000e+00 1.25892541e+00 1.58489319e+00 1.99526231e+00\n",
      " 2.51188643e+00 3.16227766e+00 3.98107171e+00 5.01187234e+00\n",
      " 6.30957344e+00 7.94328235e+00 1.00000000e+01 1.25892541e+01\n",
      " 1.58489319e+01 1.99526231e+01 2.51188643e+01 3.16227766e+01\n",
      " 3.98107171e+01 5.01187234e+01 6.30957344e+01 7.94328235e+01\n",
      " 1.00000000e+02 1.25892541e+02 1.58489319e+02 1.99526231e+02]\n"
     ]
    }
   ],
   "source": [
    "print(obspec.shape)\n",
    "print(press)"
   ]
  },
  {
   "cell_type": "code",
   "execution_count": 4,
   "metadata": {},
   "outputs": [
    {
     "name": "stdout",
     "output_type": "stream",
     "text": [
      "['../Linelists/h2o_ucl2017_xsecs_R10K.pic', '../Linelists/ch4_xsecs_R10K.pic']\n",
      "[1 2]\n"
     ]
    }
   ],
   "source": [
    "# Now we'll get the opacity files into an array\n",
    "totgas = 24\n",
    "gasdata = []\n",
    "with open('gaslistR10K.dat') as fa:\n",
    "     for line_aa in fa.readlines()[1:totgas+1]:\n",
    "        line_aa = line_aa.strip()\n",
    "        gasdata.append(line_aa.split())\n",
    "list1 = []    \n",
    "for i in range(0,ngas):\n",
    "    for j in range(0,totgas):\n",
    "            if (gasdata[j][1].lower() == gaslist[i].lower()):\n",
    "                list1.append(gasdata[j])\n",
    "\n",
    "\n",
    "    \n",
    "if (malk == 1):\n",
    "    for i in range (0,ngas):    \n",
    "        list1[i] = [w.replace('K_xsecs.pic', 'K_Mike_xsecs.pic') for w in list1[i]]\n",
    "        list1[i] = [w.replace('Na_xsecs.pic', 'Na_Mike_xsecs.pic') for w in list1[i]]\n",
    "\n",
    "if (mch4 ==1):\n",
    "    for i in range (0,ngas):    \n",
    "        list1[i] = [w.replace('CH4_xsecs.pic', 'CH4_Mike_xsecs.pic') for w in list1[i]]\n",
    "    \n",
    "\n",
    "lists = [xpath+i[3] for i in list1[0:ngas]]\n",
    "gasnum = np.asfortranarray(np.array([i[0] for i in list1[0:ngas]],dtype='i'))\n",
    "print(lists)\n",
    "print(gasnum)"
   ]
  },
  {
   "cell_type": "code",
   "execution_count": 5,
   "metadata": {},
   "outputs": [],
   "source": [
    "# get the basic framework from water list\n",
    "rawwavenum, inpress, inlinetemps, inlinelist = pickle.load( open(xpath+'/crh_xsecs_R10K.pic', \"rb\" ) )\n",
    "\n",
    "wn1 = 10000./w2\n",
    "wn2 = 10000. / w1\n",
    "inwavenum = np.asfortranarray(rawwavenum[np.where(np.logical_not(np.logical_or(rawwavenum[:] > wn2, rawwavenum[:] < wn1)))],dtype='float64')\n",
    "ntemps = inlinetemps.size\n",
    "npress= press.size\n",
    "nwave = inwavenum.size\n",
    "r1 = np.amin(np.where(np.logical_not(np.logical_or(rawwavenum[:] > wn2, rawwavenum[:] < wn1))))\n",
    "r2 = np.amax(np.where(np.logical_not(np.logical_or(rawwavenum[:] > wn2, rawwavenum[:] < wn1))))\n",
    "\n",
    "# Here we are interpolating the linelist onto our fine pressure scale.\n",
    "# pickles have linelist as 4th entry....\n",
    "linelist = (np.ones([ngas,npress,ntemps,nwave],order='F')).astype('float64', order='F')\n",
    "for gas in range (0,ngas):\n",
    "    inlinelist= pickle.load( open(lists[gas], \"rb\" ) )[3]\n",
    "    for i in range (0,ntemps):\n",
    "        for j in range (r1,r2+1):\n",
    "            pfit = interp1d(np.log10(inpress),np.log10(inlinelist[:,i,j]))\n",
    "            linelist[gas,:,i,(j-r1)] = np.asfortranarray(pfit(np.log10(press)))\n",
    "\n",
    "linelist[np.isnan(linelist)] = -50.0\n"
   ]
  },
  {
   "cell_type": "code",
   "execution_count": 6,
   "metadata": {},
   "outputs": [
    {
     "name": "stdout",
     "output_type": "stream",
     "text": [
      "(2,)\n",
      "(2, 64, 27, 9163)\n"
     ]
    }
   ],
   "source": [
    "print(gasnum.shape)\n",
    "print(linelist.shape)"
   ]
  },
  {
   "cell_type": "code",
   "execution_count": 7,
   "metadata": {},
   "outputs": [],
   "source": [
    "# Get the cia bits\n",
    "tmpcia, ciatemps = ciamod.read_cia(\"CIA_DS_aug_2015.dat\",inwavenum)\n",
    "cia = np.asfortranarray(np.empty((4,ciatemps.size,nwave)),dtype='float32')\n",
    "cia[:,:,:] = tmpcia[:,:,:nwave] \n",
    "ciatemps = np.asfortranarray(ciatemps, dtype='float32')\n"
   ]
  },
  {
   "cell_type": "code",
   "execution_count": 8,
   "metadata": {},
   "outputs": [],
   "source": [
    "# Sort out the BFF opacity stuff and chemical equilibrium tables:\n",
    "metscale,coscale,Tgrid,Pgrid,gasnames,abunds = pickle.load(open(\"chem_eq_tables_P3K.pic\", \"rb\"))\n",
    "nlayers = press.shape[0]\n",
    "nabpress = Pgrid.size\n",
    "nabtemp = Tgrid.size\n",
    "nabgas = abunds.shape[4]\n",
    "nmet = metscale.size\n",
    "nco = coscale.size\n",
    "\n",
    "\n",
    "\n",
    "bff_raw = np.zeros([nabtemp,nlayers,3])\n",
    "gases_myP = np.zeros([nmet,nco,nabtemp,nlayers,ngas+3])\n",
    "gases = np.zeros([nmet,nco,nabtemp,nabpress,ngas+3])\n",
    "\n",
    "if (chemeq == 0):\n",
    "    # Just want the ion fractions for solar metallicity in this case\n",
    "    ab_myP = np.empty([nabtemp,nlayers,nabgas])\n",
    "    i1 = np.where(metscale == 0.0)\n",
    "    i2 = np.where(coscale == 1.0)\n",
    "    for gas in range (0,nabgas):\n",
    "        for i in range (0,nabtemp):\n",
    "            pfit = InterpolatedUnivariateSpline(Pgrid,np.log10(abunds[i1[0],i2[0],i,:,gas]),k=1)\n",
    "            ab_myP[i,:,gas] = pfit(np.log10(press))\n",
    "            \n",
    "            bff_raw = np.zeros([nabtemp,nlayers,3])\n",
    "            bff_raw[:,:,0] = ab_myP[:,:,0]\n",
    "            bff_raw[:,:,1] = ab_myP[:,:,2]\n",
    "            bff_raw[:,:,2] = ab_myP[:,:,4]\n",
    "\n",
    "else:\n",
    "    # In this case we need the rows for the gases we're doing and ion fractions\n",
    "    gases[:,:,:,:,0] = abunds[:,:,:,:,0]\n",
    "    gases[:,:,:,:,1] = abunds[:,:,:,:,2]\n",
    "    gases[:,:,:,:,2] = abunds[:,:,:,:,4]\n",
    "    nmatch = 0 \n",
    "    for i in range(0,ngas):\n",
    "        for j in range(0,nabgas):\n",
    "            if (gasnames[j].lower() == gaslist[i].lower()):\n",
    "                gases[:,:,:,:,i+3] = abunds[:,:,:,:,j]\n",
    "                nmatch = nmatch + 1\n",
    "    if (nmatch != ngas):\n",
    "        print(\"you've requested a gas that isn't in the Vischer table. Please chaeck and try again.\")\n",
    "        exit\n",
    "    \n",
    "    for i in range(0,nmet):\n",
    "        for j in range(0,nco):\n",
    "            for k in range(0,ngas+3):\n",
    "                for l in range(0,nabtemp):\n",
    "                    pfit = InterpolatedUnivariateSpline(Pgrid,np.log10(gases[i,j,l,:,k]),k=1)\n",
    "                    gases_myP[i,j,l,:,k] = pfit(np.log10(press))\n",
    "    \n",
    "\n",
    "\n",
    "ceTgrid = Tgrid\n"
   ]
  },
  {
   "cell_type": "code",
   "execution_count": 9,
   "metadata": {},
   "outputs": [
    {
     "name": "stdout",
     "output_type": "stream",
     "text": [
      "17\n"
     ]
    }
   ],
   "source": [
    "# for proftype = 2 with no clouds, ndim = nprof + ngas-1, + (dlam,beta,logg, r2d2)\n",
    "ndim = 17 #(nprof + (ngas-1) + 9)\n",
    "p0 = np.empty(ndim)\n",
    "print(ndim)\n",
    "theta = p0"
   ]
  },
  {
   "cell_type": "code",
   "execution_count": 10,
   "metadata": {},
   "outputs": [],
   "source": [
    "\n",
    "p0[0] = (0.5*np.random.randn()) - 3.5 # H2O\n",
    "p0[1] = (0.5*np.random.randn()) - 4.0 # CO\n",
    "#p0[2] = (0.5*np.random.randn()) - 4.0 # CO2\n",
    "#p0[3] = (0.5*np.random.randn()) - 4.0 # CH4\n",
    "#p0[4] = (0.5*np.random.randn()) - 8.0 # TiO\n",
    "#p0[5] = (0.5*np.random.randn()) - 8.0 # VO\n",
    "#p0[6] = (0.5*np.random.randn()) - 8.0 # CrH\n",
    "#p0[7] = (1.0*np.random.randn()) - 8.0 # FeH\n",
    "#p0[8] = (0.5*np.random.randn()) - 8.0 # H2S\n",
    "#p0[9] = (0.5*np.random.randn()) - 5.5 # Na+K\n",
    "p0[2] = 0.1*np.random.randn() + 4.9  # gravity\n",
    "p0[3] = r2d2 + (np.random.randn() * (0.1*r2d2))  # scale factor\n",
    "p0[4] = np.random.randn() * 0.001  # dlambda\n",
    "p0[5] = np.log10((np.random.rand() * (max(obspec[2,:]**2)*(0.1 - 0.01))) + (0.01*min(obspec[2,10::3]**2)))\n",
    "# patch\n",
    "p0[6] = np.random.rand()\n",
    "# Slab cloud params\n",
    "p0[7] = np.random.rand()\n",
    "p0[8] = np.random.randn()\n",
    "p0[9] = np.random.rand()\n",
    "p0[10] = 0.1*np.random.randn()\n",
    "p0[11] = np.random.rand()\n",
    "# Slab cloud params\n",
    "#p0[12] = np.random.rand()\n",
    "#p0[13] = np.random.randn()\n",
    "#p0[14] = np.random.rand()\n",
    "#p0[15] = np.random.randn()\n",
    "#p0[16] = 0.1*np.random.rand()\n",
    "#\n",
    "# Deck cloud params\n",
    "#p0[17] = np.random.randn()\n",
    "#p0[18] = np.random.rand()\n",
    "#p0[19] = np.random.randn()\n",
    "#p0[20] = np.abs(0.1 + 0.01*np.random.randn())\n",
    "p0[12] = 0.39 + 0.1*np.random.randn()\n",
    "p0[13] = 0.14 +0.05*np.random.randn()\n",
    "p0[14] = -1.2 + 0.2*np.random.randn()\n",
    "p0[15] = 2.25+ 0.2*np.random.randn()\n",
    "p0[16] = 4200. + (500.*  np.random.randn())\n",
    "\n",
    "#while True:\n",
    "#    Tcheck = TPmod.set_prof(proftype, coarsePress, press, p0[ndim-5:])\n",
    "#    if min(Tcheck) > 1.0:\n",
    "#        break\n",
    "#    else:\n",
    "#        p0[ndim-5] = 0.39 + 0.01*np.random.randn()\n",
    "#        p0[ndim-4] = 0.14 + 0.01*np.random.randn()\n",
    "#        p0[ndim-3] = -1.2 + 0.2*np.random.randn()\n",
    "#        p0[ndim-2] = 2. + 0.2*np.random.randn()\n",
    "#        p0[ndim-1] = 4200. + (200.*np.random.randn())\n",
    "    "
   ]
  },
  {
   "cell_type": "code",
   "execution_count": 11,
   "metadata": {},
   "outputs": [
    {
     "name": "stdout",
     "output_type": "stream",
     "text": [
      "[-3.79582214e+00 -3.52088822e+00  4.75791362e+00  1.50222647e-19\n",
      "  7.90806763e-04 -3.25301000e+01  8.74101361e-02  8.57659143e-01\n",
      "  8.31325451e-01  6.03416682e-01 -3.60590744e-01  4.45131318e-01\n",
      "  4.26940890e-01  1.86882973e-01 -1.32010167e+00  2.36017001e+00\n",
      "  3.97249631e+03]\n"
     ]
    }
   ],
   "source": [
    "print(theta) "
   ]
  },
  {
   "cell_type": "code",
   "execution_count": 12,
   "metadata": {},
   "outputs": [],
   "source": [
    "prof = theta[ndim-5:]\n",
    "if (proftype == 9):\n",
    "    modP,modT = np.loadtxt(pfile,skiprows=1,usecols=(1,2),unpack=True)\n",
    "    tfit = InterpolatedUnivariateSpline(np.log10(modP),modT,k=1)\n",
    "    prof = tfit(logcoarsePress)\n"
   ]
  },
  {
   "cell_type": "code",
   "execution_count": 13,
   "metadata": {},
   "outputs": [],
   "source": [
    "settings.init()\n",
    "settings.runargs = gases_myP,chemeq,dist, cloudtype,do_clouds,gasnum,cloudnum,inlinetemps,coarsePress,press,inwavenum,linelist,cia,ciatemps,use_disort,fwhm,obspec,proftype,do_fudge, prof,do_bff,bff_raw,ceTgrid,metscale,coscale\n"
   ]
  },
  {
   "cell_type": "code",
   "execution_count": 14,
   "metadata": {},
   "outputs": [
    {
     "name": "stdout",
     "output_type": "stream",
     "text": [
      "[0 1]\n",
      "[1 2]\n",
      "[[5]\n",
      " [5]]\n",
      "[[1]\n",
      " [1]]\n",
      "1.0050568006199632 22.39076173838315\n"
     ]
    }
   ],
   "source": [
    "print(do_clouds)\n",
    "print(gasnum)\n",
    "print(cloudnum)\n",
    "print(cloudtype)\n",
    "#print theta[15]\n",
    "#print theta[16]\n",
    "r2d2= theta[3]\n",
    "logg = theta[2]\n",
    "D = 3.086e+16 * dist\n",
    "R = np.sqrt(r2d2) * D\n",
    "g = (10.**logg)/100.\n",
    "M = (R**2 * g/(6.67E-11))/1.898E27\n",
    "print(R/70000e3, M)"
   ]
  },
  {
   "cell_type": "code",
   "execution_count": 15,
   "metadata": {},
   "outputs": [
    {
     "data": {
      "text/plain": [
       "Text(0.5, 0, 'T/K')"
      ]
     },
     "execution_count": 15,
     "metadata": {},
     "output_type": "execute_result"
    },
    {
     "data": {
      "image/png": "[encoded data removed]",
      "text/plain": [
       "<Figure size 1920x1280 with 1 Axes>"
      ]
     },
     "metadata": {
      "needs_background": "light"
     },
     "output_type": "display_data"
    }
   ],
   "source": [
    "plt.rc('font',family='Times New Roman')\n",
    "fig=plt.figure(dpi=320)\n",
    "plt.axis([-500., 6000.,3.0,-5.0])\n",
    "#plt.plot(prof,logcoarsePress,'k-')\n",
    "plt.plot(modT,np.log10(modP),'g-')\n",
    "logP = np.log10(press)\n",
    "plotT = TPmod.set_prof(proftype,coarsePress,press,prof)\n",
    "plt.plot(plotT,logP, \"r-\")\n",
    "\n",
    "plt.ylabel(r'log(P)')\n",
    "plt.xlabel('T/K')\n"
   ]
  },
  {
   "cell_type": "code",
   "execution_count": 16,
   "metadata": {},
   "outputs": [
    {
     "name": "stdout",
     "output_type": "stream",
     "text": [
      "Rj =  1.0063362853255915\n",
      "M =  22.39076173838315\n",
      "[M/H] =  0.0\n",
      "[C/O] =  1.0\n",
      "logg =  4.757913617535738\n",
      "R2D2 =  1.5022264668593613e-19\n",
      "scale1 =  1.0\n",
      "scale2 =  1.0\n",
      "Rj =  1.0063362853255915\n",
      "dlam =  0.0007908067630957387\n",
      "logf =  -32.53009998493603\n",
      "logf1 =  -32.03178537666361\n",
      "logf2 =  -32.03178537666361\n",
      "logf3 =  -32.03178537666361\n",
      "2.9023761981744357e-37\n",
      "9.294255847363244e-30\n",
      "VMRs =  [-3.79582214 -3.52088822]\n",
      "ng =  2\n",
      "sum VMRs =  0.0004613994833024365\n",
      "cloud_top =  [[-4.        ]\n",
      " [ 0.83132545]]\n",
      "cloud_bot =  [[2.3       ]\n",
      " [1.43474213]]\n",
      "cloud_height =  [[0.1       ]\n",
      " [0.60341668]]\n",
      "loga =  [[ 0.        ]\n",
      " [-0.36059074]]\n",
      "b =  [[0.5       ]\n",
      " [0.44513132]]\n",
      "cloud_tau0 =  [[1.        ]\n",
      " [0.85765914]]\n",
      "w0 =  [[0.5]\n",
      " [0.5]]\n",
      "taupow =  [[0.]\n",
      " [0.]]\n",
      "pcover =  [0.08741014 0.91258986]\n",
      "sum(pcover) =  1.0\n",
      "metscale =  [-1.   -0.75 -0.7  -0.5  -0.3  -0.25  0.    0.5   0.7   1.    1.5   1.7\n",
      "  2.  ]\n",
      "coscale =  [0.25 0.5  1.   1.5  2.   2.5 ]\n",
      "press[press.size-1]  =  199.52623149689074\n",
      "press[0] =  0.0001\n",
      "-51891996.889177926\n"
     ]
    }
   ],
   "source": [
    "LP = testkit.lnprob(theta) #* -2. / (obspec.shape[1] /3.)\n",
    "#print testkit.lnprob(theta2,*runargs) * -2. / (obspec.shape[1] /3.)\n",
    "print(LP)"
   ]
  },
  {
   "cell_type": "code",
   "execution_count": null,
   "metadata": {},
   "outputs": [],
   "source": [
    "[ 0.          0.          0.          0.          0.          0.          0.\n",
    "  0.          0.          0.          0.          0.          0.          0.\n",
    "  0.          0.          0.          0.          0.          0.\n",
    "  0.44268837  0.55731163  0.          0.          0.          0.          0.\n",
    "  0.          0.          0.          0.          0.          0.          0.\n",
    "  0.          0.          0.          0.          0.          0.          0.\n",
    "  0.          0.          0.          0.          0.          0.          0.\n",
    "  0.          0.          0.          0.          0.          0.          0.\n",
    "  0.          0.          0.          0.          0.          0.          0.\n",
    "  0.          0.        ]"
   ]
  },
  {
   "cell_type": "code",
   "execution_count": null,
   "metadata": {},
   "outputs": [],
   "source": [
    "pickle.compatible_formats\n"
   ]
  },
  {
   "cell_type": "code",
   "execution_count": null,
   "metadata": {},
   "outputs": [],
   "source": [
    "#for gas in range (0,ngas):\n",
    "##    test= pickle.load( open(lists[gas], \"rb\" ) )[3]\n",
    "#    test[np.isnan(test)] = 1.0\n",
    "#    print test[np.where(np.less(test,0))]\n",
    "print forwardmodel.marv.__doc__"
   ]
  },
  {
   "cell_type": "code",
   "execution_count": null,
   "metadata": {},
   "outputs": [],
   "source": [
    "plt.rc('font',family='Times New Roman')\n",
    "fig=plt.figure(dpi=320)\n",
    "plt.axis([-8., 2.,3.0,-5.0])\n",
    "logP = np.log10(press)\n",
    "plt.plot(np.log10(cloudprof[0,:,0]),logP, \"r-\")\n",
    "\n",
    "plt.ylabel(r'log(P)')\n",
    "plt.xlabel('log10(dtau)')"
   ]
  },
  {
   "cell_type": "code",
   "execution_count": null,
   "metadata": {},
   "outputs": [],
   "source": [
    "import forwardmodel\n",
    "print forwardmodel.marv.__doc__"
   ]
  },
  {
   "cell_type": "code",
   "execution_count": null,
   "metadata": {},
   "outputs": [],
   "source": []
  },
  {
   "cell_type": "code",
   "execution_count": null,
   "metadata": {},
   "outputs": [],
   "source": []
  }
 ],
 "metadata": {
  "kernelspec": {
   "display_name": "Python 3",
   "language": "python",
   "name": "python3"
  },
  "language_info": {
   "codemirror_mode": {
    "name": "ipython",
    "version": 3
   },
   "file_extension": ".py",
   "mimetype": "text/x-python",
   "name": "python",
   "nbconvert_exporter": "python",
   "pygments_lexer": "ipython3",
   "version": "3.8.5"
  }
 },
 "nbformat": 4,
 "nbformat_minor": 1
}
