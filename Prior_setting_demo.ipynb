{
 "cells": [
  {
   "cell_type": "markdown",
   "id": "20481507",
   "metadata": {},
   "source": [
    "# Updates Summary\n",
    "\n",
    "##  Introduced a `Priors` Class for MCMC and MultiNest\n",
    "\n",
    "- Streamlined the test_module by separating all prior-related components into a dedicated Priors module.\n",
    "- Implemented dedicated classes to improve the organization and management of prior settings.\n",
    "- Enhanced versatility to support different instrument modes and cloud configurations.\n",
    "- Automated the generation of priors based on the retrieval parameter dictionary.\n",
    "- Simplified the process for users to define and modify prior ranges for retrieved parameters.\n",
    "\n",
    "\n"
   ]
  },
  {
   "cell_type": "code",
   "execution_count": 1,
   "id": "15eeebd5",
   "metadata": {},
   "outputs": [],
   "source": [
    "import os \n",
    "# os.chdir(\"/Users/fw23aao/brewsteretrieval/brewster_v2.1\")\n",
    "\n",
    "import test_module\n",
    "import utils\n",
    "from collections import namedtuple\n",
    "import numpy as np\n",
    "import retrieval_run\n",
    "import settings\n",
    "import cloud_dic\n",
    "import Priors\n",
    "import utils"
   ]
  },
  {
   "cell_type": "markdown",
   "id": "4682d0a3",
   "metadata": {},
   "source": [
    "## 1. test_module ---> testkit+nestkit\n",
    "\n",
    "\n",
    "\n",
    "\n",
    "## 2. utils:\n",
    "###  Five new class in utils:\n",
    "utils.Instrument\n",
    "\n",
    "utils.Retrieval_params\n",
    "\n",
    "utils.ModelConfig\n",
    "\n",
    "utils.IOConfig\n",
    "\n",
    "utils.ArgsGen\n",
    "\n",
    "## 3. retrieval_run:\n",
    "satrt mcmc or multinest smapling"
   ]
  },
  {
   "cell_type": "markdown",
   "id": "063f8cbe",
   "metadata": {},
   "source": [
    "# 1. mcmc template"
   ]
  },
  {
   "cell_type": "code",
   "execution_count": 2,
   "id": "aa21a424",
   "metadata": {},
   "outputs": [],
   "source": [
    "# instrument\n",
    "\n",
    "fwhm=555\n",
    "wavelength_range=[0.95,2.85]\n",
    "ndata=1\n",
    "Rfile='./examples/example_data/G570D_R_file.txt'\n",
    "\n",
    "\n",
    "\n",
    "#retrieval_params\n",
    "\n",
    "##gas\n",
    "chemeq=0\n",
    "# gaslist = ['h2o','co','tio','vo','crh','feh','na','k']\n",
    "gaslist = ['h2o','ch4']\n",
    "gastype_list=['U','U']\n",
    "ptype=7  \n",
    "\n",
    "\n",
    "cloudpath='/Users/fw23aao/Downloads/cloud_pickles/'\n",
    "\n",
    "## clouds\n",
    "\n",
    "do_clouds=1\n",
    "npatches=1\n",
    "cloud_name=['MgSiO3.mieff'] #Mg2SiO4 MgSiO3\n",
    "# cloud_name=['grey'] \n",
    "cloud_type=[\"slab\"]\n",
    "particle_dis=[\"hansen\"] #\"hansen\" \"log_normal\"  \"log_normal\"\n",
    "\n",
    "cloudpatch_index=[[1]]\n",
    "\n",
    "\n",
    "# ModelConfig:\n",
    "do_fudge=1\n",
    "samplemode='mcmc'\n",
    "\n",
    "instrument_instance = utils.Instrument(fwhm,wavelength_range,ndata,None, Rfile)\n",
    "re_params = utils.Retrieval_params(samplemode,chemeq,gaslist,gastype_list,fwhm,do_fudge,ptype,do_clouds,npatches,cloud_name,cloud_type,cloudpatch_index,particle_dis, instrument_instance)\n",
    "model_config_instance = utils.ModelConfig(samplemode,do_fudge,cloudpath=cloudpath)\n",
    "io_config_instance = utils.IOConfig()\n",
    "\n",
    "\n",
    "\n",
    "\n",
    "model_config_instance.dist= 5.84\n",
    "model_config_instance.xlist ='data/gaslistRox.dat'\n",
    "model_config_instance.xpath ='../../Linelists/'\n",
    "model_config_instance.do_bff=0\n",
    "model_config_instance.malk=1\n",
    "model_config_instance.ch4=0\n",
    "model_config_instance.update_dictionary()"
   ]
  },
  {
   "cell_type": "code",
   "execution_count": 3,
   "id": "4751f985",
   "metadata": {},
   "outputs": [],
   "source": [
    "obspec = np.asfortranarray(np.loadtxt(\"./examples/example_data/G570D_2MHcalib.dat\",dtype='d',unpack='true')) # G570D_2MassJcalib.dat\n",
    "args_instance = utils.ArgsGen(re_params,model_config_instance,instrument_instance,obspec)\n",
    "settings.init(args_instance)"
   ]
  },
  {
   "cell_type": "code",
   "execution_count": 4,
   "id": "444a4a98",
   "metadata": {},
   "outputs": [
    {
     "name": "stdout",
     "output_type": "stream",
     "text": [
      "retrieval_param: \n",
      "------------\n",
      "- gas : ['h2o', 'ch4']\n",
      "- refinement_params : ['logg', 'r2d2', 'dlambda', 'tolerance_parameter_1']\n",
      "- pt : ['Tint', 'alpha', 'lndelta', 'T1', 'T2', 'T3']\n",
      "- cloud : ['patch 1']\n",
      "  -- patch 1: ['tau_mcs_MgSiO3', 'logp_mcs_MgSiO3', 'dp_mcs_MgSiO3', 'hansen_a_mcs_MgSiO3', 'hansen_b_mcs_MgSiO3']\n",
      "- added_params: []\n",
      "\n"
     ]
    }
   ],
   "source": [
    "print(re_params)"
   ]
  },
  {
   "cell_type": "code",
   "execution_count": 5,
   "id": "fde604b5",
   "metadata": {},
   "outputs": [],
   "source": [
    "args_instance=settings.runargs\n",
    "all_params,all_params_values =utils.get_all_parametres(re_params.dictionary)\n",
    "\n",
    "if re_params.samplemode=='mcmc':\n",
    "    \n",
    "    model_config_instance.ndim=len(all_params)\n",
    "    model_config_instance.nwalkers=len(all_params)*16\n",
    "\n",
    "    r2d2 = (71492e3)**2. / (model_config_instance.dist * 3.086e+16)**2.\n",
    "    re_params.dictionary['refinement_params']['params']['r2d2']['distribution']=['normal',r2d2,0.1*r2d2]\n",
    "\n",
    "\n",
    "    def tolerance_parameter_customized_distribution(x):\n",
    "        return np.log10((np.random.rand(x)* (max(args_instance.obspec[2,:]**2)*(0.1 - 0.01))) + (0.01*min(args_instance.obspec[2,10::3]**2))) \n",
    "\n",
    "    for i in range(len(all_params)):\n",
    "        if all_params[i].startswith('tolerance_parameter'):\n",
    "            re_params.dictionary['refinement_params']['params'][all_params[i]]['distribution']=['customized',tolerance_parameter_customized_distribution]\n",
    "\n",
    "    if model_config_instance.fresh == 0:\n",
    "        p0=utils.MC_P0_gen(re_params.dictionary,model_config_instance,args_instance)"
   ]
  },
  {
   "cell_type": "code",
   "execution_count": 6,
   "id": "c1203a4b",
   "metadata": {},
   "outputs": [
    {
     "data": {
      "text/plain": [
       "params(h2o=-3.92543786562619, ch4=-3.344796353270421, logg=4.633045210960393, r2d2=1.8046109891487813e-19, dlambda=-8.733765098750967e-06, tolerance_parameter_1=-32.26681405557298, Tint=1450.2677045595346, alpha=1.9235671659894775, lndelta=0.28796953422366833, T1=1156.748544201701, T2=976.5767034719229, T3=1545.3399473377183, tau_mcs_MgSiO3=10.77715148076989, logp_mcs_MgSiO3=0.3112234137885745, dp_mcs_MgSiO3=0.06195387232386811, hansen_a_mcs_MgSiO3=-1.2240660890432888, hansen_b_mcs_MgSiO3=0.24678098136061022)"
      ]
     },
     "execution_count": 6,
     "metadata": {},
     "output_type": "execute_result"
    }
   ],
   "source": [
    "params_master = namedtuple('params',all_params)\n",
    "params_instance = params_master(*p0[0,:])\n",
    "params_instance"
   ]
  },
  {
   "cell_type": "code",
   "execution_count": null,
   "id": "92cd6ca3",
   "metadata": {},
   "outputs": [],
   "source": []
  },
  {
   "cell_type": "code",
   "execution_count": 13,
   "id": "dfe83e26",
   "metadata": {},
   "outputs": [],
   "source": [
    "re_params.dictionary['gas']['ch4']['params']['log_abund']['range']=[-10,0]"
   ]
  },
  {
   "cell_type": "code",
   "execution_count": 14,
   "id": "9dc5dee9",
   "metadata": {},
   "outputs": [
    {
     "data": {
      "text/plain": [
       "{'gas': {'h2o': {'gastype': 'U',\n",
       "   'params': {'log_abund': {'initialization': None,\n",
       "     'distribution': ['normal', -4.0, 0.5],\n",
       "     'range': [-12, 0],\n",
       "     'prior': None}}},\n",
       "  'ch4': {'gastype': 'U',\n",
       "   'params': {'log_abund': {'initialization': None,\n",
       "     'distribution': ['normal', -4.0, 0.5],\n",
       "     'range': [-10, 0],\n",
       "     'prior': None}}}},\n",
       " 'refinement_params': {'params': {'logg': {'initialization': None,\n",
       "    'distribution': ['normal', 4.5, 0.1],\n",
       "    'range': [0, 6],\n",
       "    'prior': None},\n",
       "   'r2d2': {'initialization': None,\n",
       "    'distribution': ['normal', 1.5736109019500464e-19, 1.5736109019500464e-20],\n",
       "    'range': [0, 1],\n",
       "    'prior': None},\n",
       "   'dlambda': {'initialization': None,\n",
       "    'distribution': ['normal', 0, 0.001],\n",
       "    'range': [-0.01, 0.01],\n",
       "    'prior': None},\n",
       "   'tolerance_parameter_1': {'initialization': None,\n",
       "    'distribution': ['customized',\n",
       "     <function __main__.tolerance_parameter_customized_distribution(x)>],\n",
       "    'range': None,\n",
       "    'prior': None}}},\n",
       " 'pt': {'ptype': 7,\n",
       "  'params': {'Tint': {'initialization': None,\n",
       "    'distribution': ['normal', 1200, 200],\n",
       "    'range': [0, 5000],\n",
       "    'prior': None},\n",
       "   'alpha': {'initialization': None,\n",
       "    'distribution': ['uniform', 1, 2],\n",
       "    'range': [1, 2],\n",
       "    'prior': None},\n",
       "   'lndelta': {'initialization': None,\n",
       "    'distribution': ['normal', 0.5, 0.5],\n",
       "    'range': [-20, 0],\n",
       "    'prior': None},\n",
       "   'T1': {'initialization': None,\n",
       "    'distribution': ['normal', 1200, 200],\n",
       "    'range': [0, 5000],\n",
       "    'prior': None},\n",
       "   'T2': {'initialization': None,\n",
       "    'distribution': ['normal', 1200, 200],\n",
       "    'range': [0, 5000],\n",
       "    'prior': None},\n",
       "   'T3': {'initialization': None,\n",
       "    'distribution': ['normal', 1200, 200],\n",
       "    'range': [0, 5000],\n",
       "    'prior': None}}},\n",
       " 'cloud': {'patch 1': {'Mie scattering cloud slab--MgSiO3.mieff': {'cloudtype': 1,\n",
       "    'particle_dis': 'hansen',\n",
       "    'params': {'tau_mcs_MgSiO3': {'initialization': None,\n",
       "      'distribution': ['normal', 10, 1],\n",
       "      'range': [0, 100],\n",
       "      'prior': None},\n",
       "     'logp_mcs_MgSiO3': {'initialization': None,\n",
       "      'distribution': ['normal', -0.2, 0.5],\n",
       "      'range': [-4, 2.4],\n",
       "      'prior': None},\n",
       "     'dp_mcs_MgSiO3': {'initialization': None,\n",
       "      'distribution': ['customized',\n",
       "       <function utils.dp_customized_distribution(x)>],\n",
       "      'range': None,\n",
       "      'prior': None},\n",
       "     'hansen_a_mcs_MgSiO3': {'initialization': None,\n",
       "      'distribution': ['normal', -1.4, 0.1],\n",
       "      'range': [-3, 3],\n",
       "      'prior': None},\n",
       "     'hansen_b_mcs_MgSiO3': {'initialization': None,\n",
       "      'distribution': ['customized',\n",
       "       <function utils.hansen_b_customized_distribution(x)>],\n",
       "      'range': [0, 1],\n",
       "      'prior': None}}}}}}"
      ]
     },
     "execution_count": 14,
     "metadata": {},
     "output_type": "execute_result"
    }
   ],
   "source": [
    "re_params.dictionary"
   ]
  },
  {
   "cell_type": "code",
   "execution_count": 15,
   "id": "942f07d0",
   "metadata": {},
   "outputs": [],
   "source": [
    "Priors_instance =Priors.Priors(params_instance,re_params,instrument_instance)"
   ]
  },
  {
   "cell_type": "code",
   "execution_count": 16,
   "id": "a765927a",
   "metadata": {},
   "outputs": [
    {
     "data": {
      "text/plain": [
       "(True, 0.0)"
      ]
     },
     "execution_count": 16,
     "metadata": {},
     "output_type": "execute_result"
    }
   ],
   "source": [
    "Priors_instance.statement, Priors_instance.priors"
   ]
  },
  {
   "cell_type": "code",
   "execution_count": 17,
   "id": "b81fdfd8",
   "metadata": {},
   "outputs": [
    {
     "name": "stdout",
     "output_type": "stream",
     "text": [
      "All priors considered in the retrieval:\n",
      "------------\n",
      "- Parameter Priors: Defined by user ranges\n",
      "  * h2o: [-12, 0]\n",
      "  * ch4: [-10, 0]\n",
      "  * logg: [0, 6]\n",
      "  * r2d2: [0, 1]\n",
      "  * dlambda: [-0.01, 0.01]\n",
      "  * tolerance_parameter_1: No prior range defined\n",
      "  * Tint: [0, 5000]\n",
      "  * alpha: [1, 2]\n",
      "  * lndelta: [-20, 0]\n",
      "  * T1: [0, 5000]\n",
      "  * T2: [0, 5000]\n",
      "  * T3: [0, 5000]\n",
      "  * tau_mcs_MgSiO3: [0, 100]\n",
      "  * logp_mcs_MgSiO3: [-4, 2.4]\n",
      "  * dp_mcs_MgSiO3: No prior range defined\n",
      "  * hansen_a_mcs_MgSiO3: [-3, 3]\n",
      "  * hansen_b_mcs_MgSiO3: [0, 1]\n",
      "--------------------\n",
      "- Post-processing Priors:\n",
      "  * T-profile check: (min(T) > 1.0) and (max(T) < 6000.)\n",
      "  * Gas profile check: (np.sum(10.**(invmr)) < 1.0) and valid gas profiles\n",
      "  * Mass and Radius check: (1.0 < M < 80 and 0.5 < Rj < 2.0)\n",
      "  * Tolerance parameters: ((0.01*np.min(obspec[2,:]**2)) < 10.**tolerance_parameter < (100.*np.max(obspec[2,:]**2)))\n",
      "\n"
     ]
    }
   ],
   "source": [
    "print(Priors_instance)"
   ]
  },
  {
   "cell_type": "markdown",
   "id": "109b7b52",
   "metadata": {},
   "source": [
    "# --------------------------------------------------------\n",
    "# Todo_lsit\n",
    "\n",
    "## 1. if the range of slab cloud thickness (dp_mcs) is no set, correlate it with logp_mcs with the relation of logp_gcs [0, (phi[logp_gcs_index] - np.log10(press[0]))]\n",
    "\n",
    "## 2. flexible post-processing priors range \n",
    "\n"
   ]
  },
  {
   "cell_type": "markdown",
   "id": "80ada4e4",
   "metadata": {},
   "source": [
    "# post_processing priors:\n",
    "    \n",
    "1. T_profile check (min(T) > 1.0) and (max(T) < 6000.) \n",
    "\n",
    "2. gas_profile check\n",
    "\n",
    "3. Mass and R prior   \n",
    "\n",
    "4. Cloud properties check  alrradey done automatically \n",
    "\n",
    "5. tolerance_parameter_1   ((0.01*np.min(obspec[2,:]**2)) < 10.**logf < (100.*np.max(obspec[2,:]**2)))\n",
    "\n"
   ]
  },
  {
   "cell_type": "code",
   "execution_count": null,
   "id": "35d69472",
   "metadata": {},
   "outputs": [],
   "source": []
  },
  {
   "cell_type": "code",
   "execution_count": null,
   "id": "edb29231",
   "metadata": {},
   "outputs": [],
   "source": []
  }
 ],
 "metadata": {
  "kernelspec": {
   "display_name": "Python 3 (ipykernel)",
   "language": "python",
   "name": "python3"
  },
  "language_info": {
   "codemirror_mode": {
    "name": "ipython",
    "version": 3
   },
   "file_extension": ".py",
   "mimetype": "text/x-python",
   "name": "python",
   "nbconvert_exporter": "python",
   "pygments_lexer": "ipython3",
   "version": "3.11.5"
  }
 },
 "nbformat": 4,
 "nbformat_minor": 5
}
