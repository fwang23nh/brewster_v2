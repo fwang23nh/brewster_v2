{
 "cells": [
  {
   "cell_type": "markdown",
   "id": "67ed4cad",
   "metadata": {},
   "source": [
    "# 🧭 Overview\n",
    "\n",
    "This tutorial walks you through generating a synthetic spectrum by manipulating the model parameters."
   ]
  },
  {
   "cell_type": "code",
   "execution_count": 1,
   "id": "ea775ab3",
   "metadata": {},
   "outputs": [],
   "source": [
    "import os \n",
    "import test_module\n",
    "from collections import namedtuple\n",
    "import numpy as np\n",
    "import retrieval_run\n",
    "import settings\n",
    "import cloud_dic\n",
    "import utils\n",
    "import test_module\n",
    "import brewtools\n",
    "import matplotlib.pyplot as plt"
   ]
  },
  {
   "cell_type": "markdown",
   "id": "ec0dbfa4",
   "metadata": {},
   "source": [
    "\n",
    "\n",
    "\n",
    "## 1. Define All Class Setups:\n",
    "Instrument, ModelConfig, IOConfig, Retrieval_params, and ArgsGen."
   ]
  },
  {
   "cell_type": "code",
   "execution_count": 2,
   "id": "1f9cd8ad",
   "metadata": {},
   "outputs": [],
   "source": [
    "# instrument\n",
    "fwhm=555\n",
    "wavelength_range=[1,2.49]\n",
    "ndata=1\n",
    "Rfile='./examples/example_data/G570D_R_file.txt'\n",
    "\n",
    "\n",
    "## gas\n",
    "chemeq=0\n",
    "# gaslist = ['h2o','co','tio','vo','crh','feh','na','k']\n",
    "gaslist = ['h2o','ch4']\n",
    "gastype_list=['U','U']\n",
    "\n",
    "# PT structure\n",
    "ptype=7  \n",
    "\n",
    "## clouds\n",
    "cloudpath='/Users/fw23aao/Downloads/cloud_pickles/'\n",
    "do_clouds=1\n",
    "npatches=1\n",
    "cloud_name=['MgSiO3.mieff'] #Mg2SiO4 MgSiO3\n",
    "cloud_type=[\"slab\"]\n",
    "particle_dis=[\"hansen\"] #\"hansen\" \"log_normal\"\n",
    "cloudpatch_index=[[1]]\n",
    "\n",
    "\n",
    "# ModelConfig:\n",
    "do_fudge=1\n",
    "samplemode='mcmc'\n",
    "\n",
    "\n",
    "instrument_instance = utils.Instrument(fwhm,wavelength_range,ndata,None, Rfile)\n",
    "re_params = utils.Retrieval_params(samplemode,chemeq,gaslist,gastype_list,fwhm,do_fudge,ptype,do_clouds,npatches,cloud_name,cloud_type,cloudpatch_index,particle_dis, instrument_instance)\n",
    "model_config_instance = utils.ModelConfig(samplemode,do_fudge,cloudpath=cloudpath)\n",
    "io_config_instance = utils.IOConfig()\n",
    "\n",
    "model_config_instance.dist= 5.84\n",
    "model_config_instance.xlist ='data/gaslistRox.dat'\n",
    "model_config_instance.xpath ='../../Linelists/'\n",
    "model_config_instance.do_bff=1\n",
    "model_config_instance.malk=0\n",
    "model_config_instance.ch4=0\n",
    "model_config_instance.update_dictionary()"
   ]
  },
  {
   "cell_type": "markdown",
   "id": "96d13061",
   "metadata": {},
   "source": [
    "## 2. Generate the Args Instance\n",
    "Load the opacity data (line lists and cia) and cloud data to prepare for the forward model."
   ]
  },
  {
   "cell_type": "code",
   "execution_count": 3,
   "id": "c1818fc0",
   "metadata": {},
   "outputs": [],
   "source": [
    "obspec = np.asfortranarray(np.loadtxt(\"./examples/example_data/G570D_2MHcalib.dat\",dtype='d',unpack='true')) # G570D_2MassJcalib.dat\n",
    "args_instance = utils.ArgsGen(re_params,model_config_instance,instrument_instance,obspec)\n",
    "settings.init(args_instance)"
   ]
  },
  {
   "cell_type": "markdown",
   "id": "83d3aa52",
   "metadata": {},
   "source": [
    "## 3 check all model parameters"
   ]
  },
  {
   "cell_type": "code",
   "execution_count": 4,
   "id": "25bf5b3c",
   "metadata": {},
   "outputs": [
    {
     "name": "stdout",
     "output_type": "stream",
     "text": [
      "['h2o', 'ch4', 'logg', 'r2d2', 'dlambda', 'tolerance_parameter_1', 'Tint', 'alpha', 'lndelta', 'T1', 'T2', 'T3', 'tau_mcs_MgSiO3', 'logp_mcs_MgSiO3', 'dp_mcs_MgSiO3', 'hansen_a_mcs_MgSiO3', 'hansen_b_mcs_MgSiO3']\n",
      "[None, None, None, None, None, None, None, None, None, None, None, None, None, None, None, None, None]\n"
     ]
    }
   ],
   "source": [
    "args_instance=settings.runargs\n",
    "all_params,all_params_values =utils.get_all_parametres(re_params.dictionary)\n",
    "print(all_params)\n",
    "print(all_params_values)"
   ]
  },
  {
   "cell_type": "markdown",
   "id": "2bd800ff",
   "metadata": {},
   "source": [
    "## 4. Initialize the Retrieval Parameters\n",
    "Here we use the default parameter distributions and create a random initialization.\n"
   ]
  },
  {
   "cell_type": "code",
   "execution_count": 5,
   "id": "5893b2e1",
   "metadata": {},
   "outputs": [],
   "source": [
    "if re_params.samplemode=='mcmc':\n",
    "    \n",
    "    model_config_instance.ndim=len(all_params)\n",
    "    model_config_instance.nwalkers=len(all_params)*16\n",
    "\n",
    "    r2d2 = (71492e3)**2. / (model_config_instance.dist * 3.086e+16)**2.\n",
    "    re_params.dictionary['refinement_params']['params']['r2d2']['distribution']=['normal',r2d2,0.1*r2d2]\n",
    "\n",
    "\n",
    "    def tolerance_parameter_customized_distribution(x):\n",
    "        return np.log10((np.random.rand(x)* (max(args_instance.obspec[2,:]**2)*(0.1 - 0.01))) + (0.01*min(args_instance.obspec[2,10::3]**2))) \n",
    "\n",
    "    for i in range(len(all_params)):\n",
    "        if all_params[i].startswith('tolerance_parameter'):\n",
    "            re_params.dictionary['refinement_params']['params'][all_params[i]]['distribution']=['customized',tolerance_parameter_customized_distribution]\n",
    "\n",
    "    if model_config_instance.fresh == 0:\n",
    "        p0=utils.MC_P0_gen(re_params.dictionary,model_config_instance,args_instance)"
   ]
  },
  {
   "cell_type": "markdown",
   "id": "504cfd47",
   "metadata": {},
   "source": [
    "### 4.1 Create a Parameter Instance \n",
    "wrap the initialized values into a convenient namedtuple structure for use with the forward model."
   ]
  },
  {
   "cell_type": "code",
   "execution_count": 6,
   "id": "834dbb03",
   "metadata": {},
   "outputs": [
    {
     "data": {
      "text/plain": [
       "params(h2o=-3.9550392274228607, ch4=-5.253878883389094, logg=4.63493622414354, r2d2=1.6179128752758206e-19, dlambda=-0.00011157896411641189, tolerance_parameter_1=-32.58099752371837, Tint=1359.3979749654482, alpha=1.2478408205516454, lndelta=0.9114385862801417, T1=956.5022529148521, T2=1586.396807826946, T3=1398.6121953231338, tau_mcs_MgSiO3=9.534070380683236, logp_mcs_MgSiO3=0.23710775020187497, dp_mcs_MgSiO3=0.12976690798653784, hansen_a_mcs_MgSiO3=-1.382627450240686, hansen_b_mcs_MgSiO3=0.17238525786638143)"
      ]
     },
     "execution_count": 6,
     "metadata": {},
     "output_type": "execute_result"
    }
   ],
   "source": [
    "params_master = namedtuple('params',all_params)\n",
    "params_instance = params_master(*p0[0,:])\n",
    "params_instance"
   ]
  },
  {
   "cell_type": "markdown",
   "id": "32c5f605",
   "metadata": {},
   "source": [
    "### 4.2. You Can Also Manually Adjust Parameter Values"
   ]
  },
  {
   "cell_type": "code",
   "execution_count": 7,
   "id": "a5638c0e",
   "metadata": {},
   "outputs": [
    {
     "data": {
      "text/plain": [
       "params(h2o=-4, ch4=-5, logg=4.63493622414354, r2d2=1.6179128752758206e-19, dlambda=-0.00011157896411641189, tolerance_parameter_1=-32.58099752371837, Tint=1359.3979749654482, alpha=1.2478408205516454, lndelta=0.9114385862801417, T1=956.5022529148521, T2=1586.396807826946, T3=1398.6121953231338, tau_mcs_MgSiO3=9.534070380683236, logp_mcs_MgSiO3=0.23710775020187497, dp_mcs_MgSiO3=0.12976690798653784, hansen_a_mcs_MgSiO3=-1.382627450240686, hansen_b_mcs_MgSiO3=0.17238525786638143)"
      ]
     },
     "execution_count": 7,
     "metadata": {},
     "output_type": "execute_result"
    }
   ],
   "source": [
    "params_instance = params_instance._replace(h2o=-4)\n",
    "params_instance = params_instance._replace(ch4=-5)\n",
    "params_instance"
   ]
  },
  {
   "cell_type": "markdown",
   "id": "8a8a0504",
   "metadata": {},
   "source": [
    "## 5. Run the Forward Model to Generate a Spectrum\n",
    "feed the state vector to forward model "
   ]
  },
  {
   "cell_type": "code",
   "execution_count": 8,
   "id": "4f3deecf",
   "metadata": {},
   "outputs": [],
   "source": [
    "gnostics = 0\n",
    "shiftspec, photspec, tauspec,cfunc = test_module.modelspec(params_instance,re_params,args_instance,gnostics)"
   ]
  },
  {
   "cell_type": "code",
   "execution_count": 9,
   "id": "dccc3381",
   "metadata": {},
   "outputs": [
    {
     "data": {
      "text/plain": [
       "<module 'matplotlib.pyplot' from '/Users/fw23aao/anaconda3/lib/python3.11/site-packages/matplotlib/pyplot.py'>"
      ]
     },
     "execution_count": 9,
     "metadata": {},
     "output_type": "execute_result"
    },
    {
     "data": {
      "image/png": "[encoded data removed]",
      "text/plain": [
       "<Figure size 960x600 with 1 Axes>"
      ]
     },
     "metadata": {},
     "output_type": "display_data"
    }
   ],
   "source": [
    "# plot the spectra\n",
    "plt.rc('font',family='Times New Roman')\n",
    "fig=plt.figure(dpi=120,figsize=[8,5])\n",
    "ax=fig.add_subplot(111)\n",
    "ax.plot(shiftspec[0,:],shiftspec[1,:])\n",
    "plt.ylabel(r'$ F_{\\lambda}$ / $Wm^{-2} \\mu m^{-1}$')\n",
    "plt.xlabel('Wavelength / $\\mu m$')\n",
    "plt\n"
   ]
  },
  {
   "cell_type": "code",
   "execution_count": 10,
   "id": "abeb2ab5",
   "metadata": {},
   "outputs": [],
   "source": [
    "# from bensconv import conv_non_uniform_R\n",
    "# modspec = np.array([shiftspec[0,::-1],shiftspec[1,::-1]])\n",
    "# spec = conv_non_uniform_R(modspec[1, :], modspec[0, :], args_instance.R, obspec[0, :])\n"
   ]
  },
  {
   "cell_type": "code",
   "execution_count": null,
   "id": "acc263dd",
   "metadata": {},
   "outputs": [],
   "source": []
  }
 ],
 "metadata": {
  "kernelspec": {
   "display_name": "Python 3 (ipykernel)",
   "language": "python",
   "name": "python3"
  },
  "language_info": {
   "codemirror_mode": {
    "name": "ipython",
    "version": 3
   },
   "file_extension": ".py",
   "mimetype": "text/x-python",
   "name": "python",
   "nbconvert_exporter": "python",
   "pygments_lexer": "ipython3",
   "version": "3.11.5"
  }
 },
 "nbformat": 4,
 "nbformat_minor": 5
}
