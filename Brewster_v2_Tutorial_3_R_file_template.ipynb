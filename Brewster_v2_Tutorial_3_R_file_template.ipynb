{
 "cells": [
  {
   "cell_type": "code",
   "execution_count": 3,
   "id": "81f6aa8e",
   "metadata": {},
   "outputs": [],
   "source": [
    "import numpy as np\n",
    "from jupyterthemes import get_themes\n",
    "import jupyterthemes as jt\n",
    "from jupyterthemes.stylefx import set_nb_theme\n",
    "set_nb_theme('chesterish')\n",
    "import matplotlib.pyplot as plt"
   ]
  },
  {
   "cell_type": "markdown",
   "id": "a898d413",
   "metadata": {},
   "source": [
    "# Example of creating an R file with a flag for tolerance parameters and scale parameters\n",
    "### This specific example contains JWST NIRSpec and MIRI data\n",
    "\n",
    "### for further details, read: https://ui.adsabs.harvard.edu/abs/2023ApJ...951L..48B/abstract"
   ]
  },
  {
   "cell_type": "code",
   "execution_count": 45,
   "id": "66541c43-25d2-4f5f-9d6f-1756e2a32dd3",
   "metadata": {},
   "outputs": [
    {
     "name": "stdout",
     "output_type": "stream",
     "text": [
      "(521, 3)\n"
     ]
    }
   ],
   "source": [
    "obs_data = np.loadtxt('/Users/viki/Desktop/Brewster/brewster_v2/Sinking_Silicates/New_Reductions/GJ499C/GJ499C_spectrum.txt')\n",
    "print(np.shape(obs_data))"
   ]
  },
  {
   "cell_type": "code",
   "execution_count": null,
   "id": "1fdb43ea-64bd-4a0a-950d-2f87f76632fa",
   "metadata": {},
   "outputs": [],
   "source": []
  },
  {
   "cell_type": "code",
   "execution_count": 53,
   "id": "a1aa372e",
   "metadata": {},
   "outputs": [
    {
     "name": "stdout",
     "output_type": "stream",
     "text": [
      "[[ 1.01236069  0.01466787]\n",
      " [ 1.02702856  0.01483363]\n",
      " [ 1.04202795  0.01516396]\n",
      " ...\n",
      " [11.94931889  0.01779175]\n",
      " [11.9670887   0.01774836]\n",
      " [11.9848156   0.0177269 ]]\n"
     ]
    },
    {
     "data": {
      "image/png": "[encoded data removed]",
      "text/plain": [
       "<Figure size 640x480 with 1 Axes>"
      ]
     },
     "metadata": {},
     "output_type": "display_data"
    }
   ],
   "source": [
    "obs_data = np.loadtxt('/Users/viki/Desktop/Brewster/brewster_v2/Sinking_Silicates/New_Reductions/GJ499C/GJ499C_spectrum.txt')\n",
    "\n",
    "#obs_data = np.loadtxt('/Users/viki/Desktop/Brewster/brewster_v2/G570D_2MassJcalib.dat')\n",
    "\n",
    "wl =  obs_data[:, 0]  #lambda in microns\n",
    "\n",
    "\n",
    "d_wl = np.zeros_like(wl)   #pixel width, dispersion\n",
    "d_wl[1:-1] = (wl[2:] - wl[:-2]) / 2\n",
    "d_wl[0] = wl[1] - wl[0]\n",
    "d_wl[-1] = wl[-1] - wl[-2]\n",
    "\n",
    "print(np.array([wl, d_wl]).T)\n",
    "\n",
    "\n",
    "\n",
    "##### Slit limited parameters\n",
    "\n",
    "slit_limited = 1.0  #1.0 yes, 0.0 no\n",
    "\n",
    "resel_slit_lim = 2.2 # resolution element in case of slit limited, i.e. number of pixels per resolution\n",
    "\n",
    "\n",
    "\n",
    "##### Source limited parameters\n",
    "\n",
    "source_limited = 1.0 #1.0 yes, 0.0 no\n",
    "\n",
    "D = 6.5e+6  #mirror size in micrometers\n",
    "\n",
    "theta_pix = 0.11 #angular size of pixel\n",
    "\n",
    "\n",
    "\n",
    "##### Both nirspec miri\n",
    "\n",
    "\n",
    "nirspec_wl_range = [0.0, 4.634954929351806641e+0]  #the wavelength range of the nirspec data in micron\n",
    "\n",
    "miri_wl_range = [4.636688709259033203e+00, 12.0] \n",
    "\n",
    "plt.scatter(wl,d_wl)\n",
    "plt.ylabel('dispersion')\n",
    "plt.xlabel('wl')\n",
    "\n",
    "####### scale factor parameters\n",
    "\n",
    "\n",
    "scale = 0.0  #if there are no scale factors, set it to 0.0, else set it to something else\n",
    "\n",
    "#scale_none = [np.min(obs_data[:, 0]) , np.max(obs_data[:, 0])] #wavelength range of the whole data if there's no scaleparameter\n",
    "#scale_1 = [0.0, 4.63250113]\n",
    "#scale_2 = [4.63684082, 12.0]\n",
    "\n",
    "#plt.xlim(1,4.5)\n",
    "#plt.ylim(0,0.025)"
   ]
  },
  {
   "cell_type": "code",
   "execution_count": 61,
   "id": "6139c217",
   "metadata": {},
   "outputs": [],
   "source": [
    "def instrument_R(wl):\n",
    "    \n",
    "    '''Function that provides the Resolving Power (R) as a function of wavelength (wl) in micron \n",
    "       with flags for the tolerance param and scale param,\n",
    "       depending on jwst instrument'''\n",
    "    \n",
    "    if slit_limited == 1.0 and source_limited == 0.0:\n",
    "        \n",
    "        R = wl/(d_wl * resel_slit_lim)\n",
    "        \n",
    "        log_f_param = np.ones_like(R)\n",
    "\n",
    "        scale_param = np.zeros_like(R)\n",
    "        \n",
    "        return R, wl, log_f_param, scale_param\n",
    "    \n",
    "    \n",
    "    elif source_limited == 1.0 and slit_limited == 0.0:\n",
    "        \n",
    "        theta_lambda = (648000/np.pi) * 1.028 * (wl/D) #FWHM in arcsec\n",
    "        \n",
    "        \n",
    "        R = wl / (d_wl * (theta_lambda / theta_pix))\n",
    "        \n",
    "        log_f_param = np.ones_like(R)\n",
    "\n",
    "        scale_param = np.zeros_like(R)\n",
    "        \n",
    "        return R, wl, log_f_param, scale_param\n",
    "    \n",
    "    \n",
    "    elif source_limited == 1.0 and slit_limited == 1.0:\n",
    "        \n",
    "        ### nirspec\n",
    "        \n",
    "        nirspec_wl = wl[(wl >= nirspec_wl_range[0]) & (wl <= nirspec_wl_range[1])]\n",
    "        \n",
    "        nirspec_d_wl = d_wl[(wl >= nirspec_wl_range[0]) & (wl <= nirspec_wl_range[1])] \n",
    "        \n",
    "        R_nirspec = nirspec_wl/(nirspec_d_wl * resel_slit_lim)\n",
    "\n",
    "        theta_lambda_nirspec = (648000/np.pi) * 1.028 * (nirspec_wl/D)\n",
    "        #print('theta_lambda_nirspec', theta_lambda_nirspec)\n",
    "        \n",
    "        log_f_param_nirspec = np.ones_like(R_nirspec)\n",
    "\n",
    "        scale_param_nirspec = np.zeros_like(R_nirspec)\n",
    "\n",
    "        \n",
    "        \n",
    "        ### miri\n",
    "        \n",
    "        miri_wl = wl[(wl >= miri_wl_range[0]) & (wl <= miri_wl_range[1])]\n",
    "        \n",
    "        miri_d_wl = d_wl[(wl >= miri_wl_range[0]) & (wl <= miri_wl_range[1])]\n",
    "        \n",
    "        theta_lambda = (648000/np.pi) * 1.028 * (miri_wl/D)\n",
    "        #print('theta_lambda_miri', theta_lambda)\n",
    "        \n",
    "        R_miri = miri_wl / (miri_d_wl * (theta_lambda / theta_pix))\n",
    "        #print(np.shape(R_miri),np.shape(R_nirspec))\n",
    "        \n",
    "        log_f_param_miri = np.full_like(R_miri, 2)\n",
    "\n",
    "        if scale == 0.0:\n",
    "            scale_param_miri = np.zeros_like(R_miri)\n",
    "        else:\n",
    "            scale_param_miri = np.ones_like(R_miri)\n",
    "\n",
    "        \n",
    "        #plt.plot(nirspec_wl,R_nirspec)\n",
    "        #plt.plot(miri_wl,R_miri)\n",
    "        \n",
    "        return np.concatenate((R_nirspec, R_miri)), np.concatenate((nirspec_wl, miri_wl)), np.concatenate((log_f_param_nirspec, log_f_param_miri)), np.concatenate((scale_param_nirspec, scale_param_miri))\n",
    "    \n",
    "    else:\n",
    "        \n",
    "        print('Error: incorrect values given for source_limited and slit_limited.')\n",
    "        \n",
    "           \n",
    "        "
   ]
  },
  {
   "cell_type": "code",
   "execution_count": 55,
   "id": "2329f556",
   "metadata": {},
   "outputs": [
    {
     "name": "stdout",
     "output_type": "stream",
     "text": [
      "(521,)\n",
      "(521,)\n",
      "(521,)\n",
      "(521,)\n",
      "[[ 31.37224385   1.01236069   1.           0.        ]\n",
      " [ 31.47113628   1.02702856   1.           0.        ]\n",
      " [ 31.23518715   1.04202795   1.           0.        ]\n",
      " ...\n",
      " [189.52616468  11.94931889   2.           0.        ]\n",
      " [189.98952894  11.9670887    2.           0.        ]\n",
      " [190.21950335  11.9848156    2.           0.        ]]\n",
      "126.55136955726232\n",
      "410.6012731750383\n"
     ]
    }
   ],
   "source": [
    "R, wavelengths, log_f, scale = instrument_R(wl)\n",
    "print(np.shape(R))\n",
    "print(np.shape(wavelengths))\n",
    "print(np.shape(log_f))\n",
    "print(np.shape(scale))\n",
    "#print(np.array([R, wavelengths,log_f, scale]).T)\n",
    "print(np.column_stack((R, wavelengths, log_f, scale)))\n",
    "print(np.mean(R))\n",
    "print(np.max(R))\n",
    "#np.savetxt('SDSS_R.txt',np.array([R, wavelengths]).T )\n",
    "np.savetxt('GJ499C_R_file.txt',np.array([R, wavelengths,log_f, scale]).T )"
   ]
  },
  {
   "cell_type": "code",
   "execution_count": 56,
   "id": "c340f785-34d6-425a-af97-f7e73647a74e",
   "metadata": {},
   "outputs": [
    {
     "name": "stdout",
     "output_type": "stream",
     "text": [
      "(4, 521)\n"
     ]
    }
   ],
   "source": [
    "print(np.shape([R, wavelengths,log_f, scale]))"
   ]
  },
  {
   "cell_type": "code",
   "execution_count": 57,
   "id": "d3328456",
   "metadata": {},
   "outputs": [
    {
     "name": "stdout",
     "output_type": "stream",
     "text": [
      "(521,) (521,)\n"
     ]
    }
   ],
   "source": [
    "print(np.shape(wl),np.shape(R))"
   ]
  },
  {
   "cell_type": "code",
   "execution_count": 58,
   "id": "a017aa5c",
   "metadata": {},
   "outputs": [
    {
     "data": {
      "text/plain": [
       "Text(0, 0.5, 'Resolving Power')"
      ]
     },
     "execution_count": 58,
     "metadata": {},
     "output_type": "execute_result"
    },
    {
     "data": {
      "image/png": "[encoded data removed]",
      "text/plain": [
       "<Figure size 640x480 with 1 Axes>"
      ]
     },
     "metadata": {},
     "output_type": "display_data"
    }
   ],
   "source": [
    "plt.scatter(wl, R)\n",
    "plt.xlabel(f\"Wavelength [$\\mu$m]\")\n",
    "plt.ylabel('Resolving Power')"
   ]
  },
  {
   "cell_type": "code",
   "execution_count": 59,
   "id": "b506d1fc-dd67-4022-ad06-67401ca91056",
   "metadata": {},
   "outputs": [
    {
     "name": "stdout",
     "output_type": "stream",
     "text": [
      "126.08064294736934 127.22366610392096 246.34931597282173 30.323947818864518\n"
     ]
    },
    {
     "data": {
      "image/png": "[encoded data removed]",
      "text/plain": [
       "<Figure size 640x480 with 1 Axes>"
      ]
     },
     "metadata": {},
     "output_type": "display_data"
    }
   ],
   "source": [
    "mask = (wl < 4.63) | (wl > 4.64)\n",
    "wl_masked = wl[mask]\n",
    "R_masked = R[mask]\n",
    "plt.xlabel(f\"Wavelength [$\\mu$m]\")\n",
    "plt.ylabel(\"R\")\n",
    "plt.scatter(wl_masked, R_masked)\n",
    "print(np.mean(R_masked), np.median(R_masked), np.max(R_masked), np.min(R_masked))\n",
    "#plt.xlim(5,10)\n",
    "#plt.yscale('log')\n",
    "#plt.ylim(10,10000)"
   ]
  },
  {
   "cell_type": "code",
   "execution_count": null,
   "id": "d9ff357b",
   "metadata": {},
   "outputs": [],
   "source": []
  },
  {
   "cell_type": "code",
   "execution_count": null,
   "id": "0f8e1175",
   "metadata": {},
   "outputs": [],
   "source": []
  },
  {
   "cell_type": "code",
   "execution_count": null,
   "id": "a3c15aca",
   "metadata": {},
   "outputs": [],
   "source": []
  }
 ],
 "metadata": {
  "kernelspec": {
   "display_name": "Python 3 (ipykernel)",
   "language": "python",
   "name": "python3"
  },
  "language_info": {
   "codemirror_mode": {
    "name": "ipython",
    "version": 3
   },
   "file_extension": ".py",
   "mimetype": "text/x-python",
   "name": "python",
   "nbconvert_exporter": "python",
   "pygments_lexer": "ipython3",
   "version": "3.11.11"
  }
 },
 "nbformat": 4,
 "nbformat_minor": 5
}
