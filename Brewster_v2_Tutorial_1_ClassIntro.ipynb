{
 "cells": [
  {
   "cell_type": "markdown",
   "id": "588b7723",
   "metadata": {},
   "source": [
    "# 🧭 Overview\n",
    "\n",
    "This tutorial introduces the five main classes that structure your atmospheric retrieval setup:\n",
    "\n",
    "### - Instrument -- defines the observing setup (resolution, wavelength range, data files).\n",
    "### - ModelConfig -- configures the underlying physical and chemical model settings.\n",
    "### - IOConfig -- controls input/output and file management for retrieval runs.\n",
    "### - Retrieval_params -- defines which parameters will be retrieved (e.g., gases, P–T structure, clouds).\n",
    "### - ArgsGen -- Combines all configuration instances and the data into one object.\n"
   ]
  },
  {
   "cell_type": "markdown",
   "id": "cbc97790",
   "metadata": {},
   "source": [
    "| Class                  | Purpose                                                                                                             | Example Contents                                                     |\n",
    "| ---------------------- | ------------------------------------------------------------------------------------------------------------------- | -------------------------------------------------------------------- |\n",
    "| **`Instrument`**       | Defines the observational setup (e.g., spectral resolution, wavelength range...).             | `fwhm`, `Rfile`                         |\n",
    "| **`ModelConfig`**      | Controls the physical and chemical modeling configuration, including line lists, distance, and key modeling flags.  | `xpath`, `xlist`, `dist`, `malk`, `do_fudge`                         |\n",
    "| **`IOConfig`**         | Manages input/output settings, filenames, checkpoints, and runtime logs.                                            | `runname`, `outdir`, `finalout`, `chaindump`                         |\n",
    "| **`Retrieval_params`** | Defines the full set of retrievable parameters, including gases, P–T structure, and clouds across multiple patches. | `gaslist`, `ptype`, `cloud_name`, `cloud_type`, `cloudpatch_index`   |\n",
    "| **`ArgsGen`**          | Combines all configuration objects and observational data into a unified argument set for the retrieval run.        | `obspec`, linked configs (`re_params`, `model_config`, `instrument`) |\n"
   ]
  },
  {
   "cell_type": "code",
   "execution_count": 1,
   "id": "3c4797ba",
   "metadata": {},
   "outputs": [],
   "source": [
    "import os \n",
    "import utils\n",
    "import test_module\n",
    "from collections import namedtuple\n",
    "import numpy as np\n",
    "import retrieval_run\n",
    "import settings"
   ]
  },
  {
   "cell_type": "markdown",
   "id": "0372ba54",
   "metadata": {},
   "source": [
    "## 🔭 1. Instrument Configuration\n",
    "The Instrument class describes instrument mode of your data from a user defined R file — specify the data wavelength range, wavelength-dependent resolving power, tolerance parameter and scale factor flags."
   ]
  },
  {
   "cell_type": "code",
   "execution_count": 2,
   "id": "34d1ac89",
   "metadata": {},
   "outputs": [
    {
     "name": "stdout",
     "output_type": "stream",
     "text": [
      "Instrument: \n",
      "------------\n",
      "- fwhm : 555\n",
      "- wavelength_range : [0.95, 2.85]\n",
      "- ndata : 1 \n",
      "- wavpoints : None \n",
      "- R_file : ./examples/example_data/G570D_R_file.txt\n",
      "- R_data : {'R': array([129.52196382, 129.85419355, 130.01930502, 130.18485237,\n",
      "       130.18414322, 130.18598726, 130.18908629, 130.35949367,\n",
      "       130.5290404 , 130.53584906, 130.7076537 , 130.87984981,\n",
      "       131.05243446, 131.06218905, 131.2369727 , 131.41089109,\n",
      "       131.42416769, 131.76231527, 131.93734644, 131.95226438,\n",
      "       132.29095355, 132.46707317, 132.64476886, 132.82160194,\n",
      "       133.        , 133.33857316, 133.51628468, 133.85542169,\n",
      "       134.03245192, 134.21103118, 134.5497006 , 134.72759857,\n",
      "       135.06682578, 135.40524434, 135.58263971, 135.9216152 ,\n",
      "       136.25978648, 136.43668639, 136.77541371, 137.1133412 ,\n",
      "       137.45165094, 137.78916372, 138.12705882, 138.46415981,\n",
      "       138.63892145, 139.13950762, 139.63892145, 139.81169591,\n",
      "       140.14836449, 140.64836449, 140.98366394, 141.31934732,\n",
      "       141.81934732, 142.15366705, 142.65424913, 143.15366705,\n",
      "       143.32055749, 143.82113821, 144.32055749, 144.65313225,\n",
      "       145.15313225, 145.65313225, 145.98377752, 146.48435689,\n",
      "       146.98377752, 147.48435689, 147.98377752, 148.3125    ,\n",
      "       148.8125    , 149.48551564, 149.98493627, 150.31134259,\n",
      "       150.81134259, 151.31134259, 151.98725377, 152.48667439,\n",
      "       152.98725377, 153.48667439, 153.98725377, 154.66589327,\n",
      "       155.16589327, 155.66589327, 104.19117647,  78.71934922,\n",
      "       105.68682171, 159.21536671,  79.90390215,  64.59095149,\n",
      "       108.5194704 ,  81.73508772,  47.25259631,  67.08270677,\n",
      "       168.44352941, 112.80597015, 113.65066876, 171.24468085,\n",
      "       171.94792899, 172.65165877, 173.15165877, 173.85765125,\n",
      "       174.77170036, 175.4797619 , 175.9797619 , 176.69010727,\n",
      "       177.61290323, 178.32535885, 178.82535885, 179.54011976,\n",
      "       180.47178872, 181.18870192, 181.90734055, 182.62650602,\n",
      "       183.34740651, 184.06884058, 184.79201935, 185.74060606,\n",
      "       186.46601942, 187.19319563, 187.92092457, 188.65042631,\n",
      "       189.3804878 , 190.11233211, 191.07833537, 192.04785276,\n",
      "       192.54723926, 193.28501229, 194.26108374, 195.00123305,\n",
      "       195.98393078, 196.72648515, 197.22648515, 198.21712159,\n",
      "       199.210199  , 199.710199  , 200.70947631, 201.45942572,\n",
      "       202.2125    , 203.21929825, 203.9749059 , 204.98867925,\n",
      "       205.74685139, 206.50693569, 207.26767677, 208.03034134,\n",
      "       209.05830165, 209.82360406, 210.85877863, 211.62675159,\n",
      "       212.39795918, 213.44117647, 214.21510883, 214.98974359,\n",
      "       215.76636714, 216.82239382, 217.60180412, 218.38322581,\n",
      "       219.44890039, 220.23316062, 221.01945525, 222.09492848,\n",
      "       222.88411458, 223.67535854, 224.46736292, 225.26143791,\n",
      "       226.3525557 , 227.44809461, 228.24736842, 229.04874835,\n",
      "       229.85092348, 230.65521797, 231.76688742, 232.57427056,\n",
      "       233.38379814, 234.50599201, 235.31866667, 236.13351135,\n",
      "       236.94919786, 237.76706827, 238.90604027, 239.72715054,\n",
      "       240.55047106, 241.70040486, 242.52702703, 243.35588633,\n",
      "       244.18563686, 245.01763908, 245.85054348, 247.02179837,\n",
      "       247.85811733, 248.69808743, 249.87945205, 250.37945205,\n",
      "       251.22359396, 252.41540578, 253.2630854 , 254.11310345,\n",
      "       254.9640884 , 170.78116343, 171.76410731, 172.57606679,\n",
      "       173.40297122, 261.33240223, 175.04295051, 175.87383178,\n",
      "       264.80477528, 265.67791842, 266.9280677 , 267.80508475,\n",
      "       268.30508475, 269.18528996, 270.44964539, 271.33380682,\n",
      "       272.22048364, 273.10826211, 273.99857347, 274.89      ,\n",
      "       275.78397711, 276.67908309, 277.57675753, 278.47557471,\n",
      "       279.37697842, 280.2795389 , 281.18470418, 282.09104046,\n",
      "       283.        , 283.91014493, 284.82293179, 285.7369186 ,\n",
      "       286.2369186 , 287.15429403, 288.49343066, 289.41520468,\n",
      "       290.33967789, 291.26539589, 291.76539589, 292.69456681,\n",
      "       294.05743741, 294.99115044, 295.49115044, 296.42836041,\n",
      "       297.36686391, 298.30814815, 299.25074184, 300.1961367 ,\n",
      "       301.14285714, 302.0923994 , 303.04328358, 303.54328358,\n",
      "       304.49775785, 305.45359281, 306.41229385, 307.83458647,\n",
      "       308.33383459, 309.2996988 , 310.26546003, 311.23564955,\n",
      "       312.20574887, 312.7065053 , 314.15629742, 315.1337386 ,\n",
      "       315.6337386 , 316.61491629, 317.59756098, 318.58320611,\n",
      "       319.57033639, 320.56049005, 321.55214724, 322.05214724,\n",
      "       323.04761905, 324.54391371, 325.54475309, 326.04475309,\n",
      "       327.04945904, 328.05572755, 329.06511628, 330.07608696,\n",
      "       331.09020218, 332.105919  , 333.12480499, 334.1453125 ,\n",
      "       334.6453125 , 335.66979656, 337.2244898 , 338.25471698,\n",
      "       338.75471698, 339.78897638, 340.82492114, 341.86413902,\n",
      "       343.44849445, 343.94770206, 344.9952381 , 346.04292528,\n",
      "       347.0955414 , 348.14832536, 349.20607029, 350.264     ,\n",
      "       350.7648    , 352.39165329, 353.45819936, 177.55      ,\n",
      "       178.58723748, 358.25242718, 359.33387358, 361.00325203,\n",
      "       362.09120521, 363.18270799, 364.27614379, 365.37315876,\n",
      "       366.47213115, 366.97213115, 368.68092105, 369.78747941,\n",
      "       370.28830313, 186.31456954, 187.37396352, 251.13651498,\n",
      "       252.36262514, 380.52428811, 254.44183445, 255.39417693,\n",
      "       384.45117845, 257.50112613, 194.11685013, 260.00226244,\n",
      "       392.05451448, 393.22354949, 393.72354949, 263.71575342,\n",
      "       264.98627002, 399.12048193, 400.30862069, 267.5132336 ,\n",
      "       268.79815456, 162.37717467, 163.40418118, 411.15761821,\n",
      "       412.37894737, 412.87894737, 414.10544815, 415.33450704,\n",
      "       416.56790123, 278.86438679, 210.14361702, 281.52251185,\n",
      "       212.01960784, 142.26877235, 214.66308244, 430.5978456 ,\n",
      "       431.87230216, 433.15135135, 173.89884393, 109.20641373]), 'wl': array([1.0025 , 1.00637, 1.01025, 1.01414, 1.01804, 1.02196, 1.02589,\n",
      "       1.02984, 1.03379, 1.03776, 1.04174, 1.04573, 1.04973, 1.05374,\n",
      "       1.05777, 1.0618 , 1.06585, 1.06991, 1.07397, 1.07805, 1.08214,\n",
      "       1.08623, 1.09034, 1.09445, 1.09858, 1.10271, 1.10685, 1.111  ,\n",
      "       1.11515, 1.11932, 1.12349, 1.12767, 1.13186, 1.13605, 1.14025,\n",
      "       1.14446, 1.14867, 1.15289, 1.15712, 1.16135, 1.16559, 1.16983,\n",
      "       1.17408, 1.17833, 1.18259, 1.18686, 1.19112, 1.19539, 1.19967,\n",
      "       1.20395, 1.20823, 1.21252, 1.21681, 1.2211 , 1.2254 , 1.22969,\n",
      "       1.23399, 1.2383 , 1.2426 , 1.24691, 1.25122, 1.25553, 1.25984,\n",
      "       1.26416, 1.26847, 1.27279, 1.2771 , 1.28142, 1.28574, 1.29006,\n",
      "       1.29437, 1.29869, 1.30301, 1.30733, 1.31165, 1.31596, 1.32028,\n",
      "       1.32459, 1.32891, 1.33322, 1.33753, 1.34184, 1.34615, 1.35476,\n",
      "       1.36336, 1.36766, 1.37195, 1.38483, 1.39339, 1.39767, 1.41049,\n",
      "       1.42752, 1.43177, 1.43602, 1.4445 , 1.44873, 1.45296, 1.45718,\n",
      "       1.4614 , 1.46562, 1.46983, 1.47403, 1.47823, 1.48243, 1.48662,\n",
      "       1.4908 , 1.49498, 1.49916, 1.50333, 1.50749, 1.51165, 1.5158 ,\n",
      "       1.51995, 1.52409, 1.52823, 1.53236, 1.53648, 1.5406 , 1.54471,\n",
      "       1.54882, 1.55292, 1.55702, 1.56111, 1.56519, 1.56926, 1.57334,\n",
      "       1.5774 , 1.58146, 1.58551, 1.58955, 1.59359, 1.59763, 1.60165,\n",
      "       1.60567, 1.60969, 1.61369, 1.6177 , 1.62169, 1.62568, 1.62966,\n",
      "       1.63363, 1.6376 , 1.64156, 1.64552, 1.64947, 1.65341, 1.65735,\n",
      "       1.66127, 1.6652 , 1.66911, 1.67302, 1.67692, 1.68082, 1.68471,\n",
      "       1.68859, 1.69247, 1.69634, 1.7002 , 1.70406, 1.70791, 1.71175,\n",
      "       1.71559, 1.71942, 1.72325, 1.72707, 1.73088, 1.73468, 1.73848,\n",
      "       1.74227, 1.74606, 1.74984, 1.75361, 1.75738, 1.76114, 1.76489,\n",
      "       1.76864, 1.77238, 1.77612, 1.77985, 1.78357, 1.78729, 1.791  ,\n",
      "       1.7947 , 1.7984 , 1.80209, 1.80578, 1.80946, 1.81314, 1.8168 ,\n",
      "       1.82047, 1.82412, 1.82777, 1.83142, 1.83506, 1.83869, 1.84232,\n",
      "       1.84594, 1.84956, 1.85677, 1.86037, 1.86755, 1.87114, 1.87471,\n",
      "       1.88185, 1.88541, 1.88897, 1.89252, 1.89606, 1.8996 , 1.90314,\n",
      "       1.90667, 1.91019, 1.91371, 1.91722, 1.92073, 1.92423, 1.92773,\n",
      "       1.93122, 1.93471, 1.93819, 1.94167, 1.94514, 1.94861, 1.95207,\n",
      "       1.95553, 1.95898, 1.96243, 1.96587, 1.96931, 1.97275, 1.97618,\n",
      "       1.9796 , 1.98302, 1.98643, 1.98984, 1.99325, 1.99665, 2.00004,\n",
      "       2.00343, 2.00682, 2.0102 , 2.01358, 2.01695, 2.02032, 2.02368,\n",
      "       2.02704, 2.03039, 2.03374, 2.03709, 2.04043, 2.04377, 2.0471 ,\n",
      "       2.05042, 2.05375, 2.05706, 2.06038, 2.06368, 2.06699, 2.07029,\n",
      "       2.07358, 2.07687, 2.08016, 2.08344, 2.08672, 2.08999, 2.09326,\n",
      "       2.09652, 2.09978, 2.10304, 2.10629, 2.10953, 2.11277, 2.11601,\n",
      "       2.11924, 2.12247, 2.12569, 2.12891, 2.13212, 2.13533, 2.13853,\n",
      "       2.14173, 2.14493, 2.14812, 2.1513 , 2.15448, 2.15766, 2.16083,\n",
      "       2.164  , 2.16716, 2.17031, 2.17347, 2.17661, 2.17976, 2.18289,\n",
      "       2.18603, 2.18915, 2.19228, 2.1954 , 2.19851, 2.20162, 2.21091,\n",
      "       2.214  , 2.21709, 2.22017, 2.22324, 2.22631, 2.22937, 2.23243,\n",
      "       2.23548, 2.23853, 2.24158, 2.24461, 2.24765, 2.25068, 2.25973,\n",
      "       2.26274, 2.26874, 2.27173, 2.27471, 2.28067, 2.28364, 2.28661,\n",
      "       2.29252, 2.29842, 2.30136, 2.30429, 2.30722, 2.31015, 2.31598,\n",
      "       2.31889, 2.32179, 2.32469, 2.33048, 2.33336, 2.34485, 2.34771,\n",
      "       2.35056, 2.35341, 2.35626, 2.3591 , 2.36194, 2.36477, 2.37042,\n",
      "       2.37605, 2.37886, 2.38727, 2.39564, 2.39843, 2.40121, 2.40399,\n",
      "       2.40676, 2.41783]), 'logf_flag': array([1., 1., 1., 1., 1., 1., 1., 1., 1., 1., 1., 1., 1., 1., 1., 1., 1.,\n",
      "       1., 1., 1., 1., 1., 1., 1., 1., 1., 1., 1., 1., 1., 1., 1., 1., 1.,\n",
      "       1., 1., 1., 1., 1., 1., 1., 1., 1., 1., 1., 1., 1., 1., 1., 1., 1.,\n",
      "       1., 1., 1., 1., 1., 1., 1., 1., 1., 1., 1., 1., 1., 1., 1., 1., 1.,\n",
      "       1., 1., 1., 1., 1., 1., 1., 1., 1., 1., 1., 1., 1., 1., 1., 1., 1.,\n",
      "       1., 1., 1., 1., 1., 1., 1., 1., 1., 1., 1., 1., 1., 1., 1., 1., 1.,\n",
      "       1., 1., 1., 1., 1., 1., 1., 1., 1., 1., 1., 1., 1., 1., 1., 1., 1.,\n",
      "       1., 1., 1., 1., 1., 1., 1., 1., 1., 1., 1., 1., 1., 1., 1., 1., 1.,\n",
      "       1., 1., 1., 1., 1., 1., 1., 1., 1., 1., 1., 1., 1., 1., 1., 1., 1.,\n",
      "       1., 1., 1., 1., 1., 1., 1., 1., 1., 1., 1., 1., 1., 1., 1., 1., 1.,\n",
      "       1., 1., 1., 1., 1., 1., 1., 1., 1., 1., 1., 1., 1., 1., 1., 1., 1.,\n",
      "       1., 1., 1., 1., 1., 1., 1., 1., 1., 1., 1., 1., 1., 1., 1., 1., 1.,\n",
      "       1., 1., 1., 1., 1., 1., 1., 1., 1., 1., 1., 1., 1., 1., 1., 1., 1.,\n",
      "       1., 1., 1., 1., 1., 1., 1., 1., 1., 1., 1., 1., 1., 1., 1., 1., 1.,\n",
      "       1., 1., 1., 1., 1., 1., 1., 1., 1., 1., 1., 1., 1., 1., 1., 1., 1.,\n",
      "       1., 1., 1., 1., 1., 1., 1., 1., 1., 1., 1., 1., 1., 1., 1., 1., 1.,\n",
      "       1., 1., 1., 1., 1., 1., 1., 1., 1., 1., 1., 1., 1., 1., 1., 1., 1.,\n",
      "       1., 1., 1., 1., 1., 1., 1., 1., 1., 1., 1., 1., 1., 1., 1., 1., 1.,\n",
      "       1., 1., 1., 1., 1., 1., 1., 1., 1., 1., 1., 1., 1., 1., 1., 1., 1.,\n",
      "       1., 1., 1., 1., 1., 1., 1., 1., 1., 1., 1., 1., 1., 1., 1., 1., 1.,\n",
      "       1., 1., 1., 1., 1., 1., 1., 1., 1., 1., 1., 1.]), 'scales': array([0., 0., 0., 0., 0., 0., 0., 0., 0., 0., 0., 0., 0., 0., 0., 0., 0.,\n",
      "       0., 0., 0., 0., 0., 0., 0., 0., 0., 0., 0., 0., 0., 0., 0., 0., 0.,\n",
      "       0., 0., 0., 0., 0., 0., 0., 0., 0., 0., 0., 0., 0., 0., 0., 0., 0.,\n",
      "       0., 0., 0., 0., 0., 0., 0., 0., 0., 0., 0., 0., 0., 0., 0., 0., 0.,\n",
      "       0., 0., 0., 0., 0., 0., 0., 0., 0., 0., 0., 0., 0., 0., 0., 0., 0.,\n",
      "       0., 0., 0., 0., 0., 0., 0., 0., 0., 0., 0., 0., 0., 0., 0., 0., 0.,\n",
      "       0., 0., 0., 0., 0., 0., 0., 0., 0., 0., 0., 0., 0., 0., 0., 0., 0.,\n",
      "       0., 0., 0., 0., 0., 0., 0., 0., 0., 0., 0., 0., 0., 0., 0., 0., 0.,\n",
      "       0., 0., 0., 0., 0., 0., 0., 0., 0., 0., 0., 0., 0., 0., 0., 0., 0.,\n",
      "       0., 0., 0., 0., 0., 0., 0., 0., 0., 0., 0., 0., 0., 0., 0., 0., 0.,\n",
      "       0., 0., 0., 0., 0., 0., 0., 0., 0., 0., 0., 0., 0., 0., 0., 0., 0.,\n",
      "       0., 0., 0., 0., 0., 0., 0., 0., 0., 0., 0., 0., 0., 0., 0., 0., 0.,\n",
      "       0., 0., 0., 0., 0., 0., 0., 0., 0., 0., 0., 0., 0., 0., 0., 0., 0.,\n",
      "       0., 0., 0., 0., 0., 0., 0., 0., 0., 0., 0., 0., 0., 0., 0., 0., 0.,\n",
      "       0., 0., 0., 0., 0., 0., 0., 0., 0., 0., 0., 0., 0., 0., 0., 0., 0.,\n",
      "       0., 0., 0., 0., 0., 0., 0., 0., 0., 0., 0., 0., 0., 0., 0., 0., 0.,\n",
      "       0., 0., 0., 0., 0., 0., 0., 0., 0., 0., 0., 0., 0., 0., 0., 0., 0.,\n",
      "       0., 0., 0., 0., 0., 0., 0., 0., 0., 0., 0., 0., 0., 0., 0., 0., 0.,\n",
      "       0., 0., 0., 0., 0., 0., 0., 0., 0., 0., 0., 0., 0., 0., 0., 0., 0.,\n",
      "       0., 0., 0., 0., 0., 0., 0., 0., 0., 0., 0., 0., 0., 0., 0., 0., 0.,\n",
      "       0., 0., 0., 0., 0., 0., 0., 0., 0., 0., 0., 0.])} \n",
      "\n"
     ]
    }
   ],
   "source": [
    "# Define basic instrument parameters\n",
    "fwhm = 555                            # Instrumental full width at half maximum\n",
    "wavelength_range = [0.95, 2.85]       # Wavelength coverage in microns\n",
    "ndata = 1                             # Number of datasets\n",
    "Rfile = './examples/example_data/G570D_R_file.txt'  # File with resolving power data\n",
    "\n",
    "# Create an Instrument instance\n",
    "instrument_instance = utils.Instrument(\n",
    "    fwhm, wavelength_range, ndata, None, Rfile\n",
    ")\n",
    "\n",
    "# Display the instrument configuration\n",
    "print(instrument_instance)\n"
   ]
  },
  {
   "cell_type": "markdown",
   "id": "5a3776fc",
   "metadata": {},
   "source": [
    "## 🪐 2. Model Configuration\n",
    "The ModelConfig class defines global physical and numerical settings used by the forward model — e.g., where to find opacity files, whether to include alkali broadening, or how to treat cloud properties."
   ]
  },
  {
   "cell_type": "code",
   "execution_count": 3,
   "id": "df4b2fe9",
   "metadata": {},
   "outputs": [
    {
     "name": "stdout",
     "output_type": "stream",
     "text": [
      "ModelConfig: \n",
      "------------\n",
      "- use_disort : 0\n",
      "- do_fudge : 1\n",
      "- malk : 1\n",
      "- mch4 : 0\n",
      "- do_bff : 0\n",
      "- fresh : 0\n",
      "- xpath : ../../Linelists/\n",
      "- xlist : data/gaslistRox.dat\n",
      "- dist : 5.84\n",
      "- pfile : data/LSR1835_eqpt.dat\n",
      "- cloudpath : /Users/fw23aao/Downloads/cloud_pickles/\n",
      "\n",
      "(MCMC): \n",
      "------------\n",
      "- ndim : None\n",
      "- nwalkers : None\n",
      "- nburn : 10000\n",
      "- niter : 30000\n",
      "\n"
     ]
    }
   ],
   "source": [
    "# Define basic model parameters\n",
    "\n",
    "samplemode='mcmc'\n",
    "do_fudge=1\n",
    "cloudpath='/Users/fw23aao/Downloads/cloud_pickles/'\n",
    "\n",
    "\n",
    "# Create a ModelConfig instance\n",
    "model_config_instance = utils.ModelConfig(\n",
    "    samplemode, do_fudge, cloudpath=cloudpath\n",
    ")\n",
    "\n",
    "# Additional settings\n",
    "model_config_instance.dist = 5.84\n",
    "model_config_instance.xlist = 'data/gaslistRox.dat'\n",
    "model_config_instance.xpath = '../../Linelists/'\n",
    "model_config_instance.do_bff = 0\n",
    "model_config_instance.malk = 1\n",
    "model_config_instance.ch4 = 0\n",
    "model_config_instance.update_dictionary()\n",
    "\n",
    "print(model_config_instance)\n"
   ]
  },
  {
   "cell_type": "markdown",
   "id": "224ec510",
   "metadata": {},
   "source": [
    "## 💾 3. I/O Configuration\n",
    "The IOConfig class handles filenames and output management.\n",
    "It ensures every run produces consistent file outputs, checkpoints, and logs."
   ]
  },
  {
   "cell_type": "code",
   "execution_count": 4,
   "id": "b15f805d",
   "metadata": {},
   "outputs": [
    {
     "name": "stdout",
     "output_type": "stream",
     "text": [
      "IOConfig: \n",
      "------------\n",
      "- runname : new_test\n",
      "- outdir : /beegfs/car/fei/lsr1835/\n",
      "- finalout : new_test.pk1\n",
      "- chaindump : new_test_last_nc.pic\n",
      "- picdump : new_test_snapshot.pic\n",
      "- statfile : status_ball_new_test.txt\n",
      "- rfile : runtimes_new_test.dat\n",
      "- runtest : 1\n",
      "- make_arg_pickle : 2\n",
      "\n"
     ]
    }
   ],
   "source": [
    "# Create a IO_config instance\n",
    "io_config_instance = utils.IOConfig()\n",
    "\n",
    "# Additional settings\n",
    "io_config_instance.outdir=\"/beegfs/car/fei/lsr1835/\"\n",
    "io_config_instance.runname='new_test'\n",
    "io_config_instance.update_dictionary()\n",
    "\n",
    "print(io_config_instance)\n"
   ]
  },
  {
   "cell_type": "markdown",
   "id": "30430a67",
   "metadata": {},
   "source": [
    "## ☁️ 4. Retrieval Parameter Configuration\n",
    "The Retrieval_params class defines all the parameters that will be explored by the retrieval sampler — from gases and P–T structure to clouds and spatial patches."
   ]
  },
  {
   "cell_type": "code",
   "execution_count": 15,
   "id": "7e2992c6",
   "metadata": {},
   "outputs": [
    {
     "name": "stdout",
     "output_type": "stream",
     "text": [
      "retrieval_param: \n",
      "------------\n",
      "- gas : ['h2o', 'co', 'tio', 'vo', 'crh', 'feh', 'na', 'k']\n",
      "- refinement_params : ['logg', 'r2d2', 'dlambda', 'tolerance_parameter_1']\n",
      "- pt : ['gamma', 'Tint', 'alpha', 'lndelta', 'T1', 'T2', 'T3']\n",
      "- cloud : ['fcld', 'patch 1', 'patch 2']\n",
      "  -- patch 1: ['tau_pcs', 'logp_pcs', 'dp_pcs', 'omega_pcs', 'alpha_pcs', 'logp_gcd', 'dp_gcd', 'omega_gcd', 'tau_mcs_MgSiO3', 'logp_mcs_MgSiO3', 'dp_mcs_MgSiO3', 'hansen_a_mcs_MgSiO3', 'hansen_b_mcs_MgSiO3']\n",
      "  -- patch 2: ['logp_gcd', 'dp_gcd', 'omega_gcd', 'tau_mcs_MgSiO3', 'logp_mcs_MgSiO3', 'dp_mcs_MgSiO3', 'hansen_a_mcs_MgSiO3', 'hansen_b_mcs_MgSiO3']\n",
      "- added_params: []\n",
      "\n"
     ]
    }
   ],
   "source": [
    "# Chemistry setup\n",
    "chemeq = 0  # 0 = free chemistry, 1 = chemical equilibrium\n",
    "gaslist = ['h2o', 'co', 'tio', 'vo', 'crh', 'feh', 'na', 'k'] # List of gases included in the retrieval\n",
    "\n",
    "# Gas type list:\n",
    "#   'U' = uniform mixing ratio\n",
    "#   'N' = parameterized vertically varying profile\n",
    "# This allows different gases to have different vertical distributions\n",
    "\n",
    "gastype_list = ['U', 'U', 'U', 'U', 'U', 'N', 'U', 'U']\n",
    "\n",
    "# PT structure\n",
    "ptype = 77\n",
    "\n",
    "# Clouds\n",
    "do_clouds = 1 # Enable or disable cloud modeling, 1 = include clouds, 0 = clear atmosphere\n",
    "npatches = 2 # Number of atmospheric patches \n",
    "\n",
    "# List of all cloud species or parameterized cloud models.\n",
    "# You can mix empirical clouds (e.g. 'powerlaw', 'grey') and physical Mie scattering clouds.\n",
    "cloud_name = ['powerlaw', 'grey', 'MgSiO3.mieff']\n",
    "\n",
    "# Cloud type specifies the geometrical setup:\n",
    "cloud_type = ['slab', 'deck', 'slab']\n",
    "\n",
    "\n",
    "\n",
    "# Specify which patch each cloud appears in.\n",
    "# Each entry in the list corresponds to the same index in `cloud_name`.\n",
    "# Example:\n",
    "#   [1]    → only in patch 1\n",
    "#   [2]    → only in patch 2\n",
    "#   [1, 2] → appears in both patches\n",
    "\n",
    "cloudpatch_index = [\n",
    "    [1],      # 'powerlaw' cloud only in patch 1\n",
    "    [1, 2],   # 'grey' cloud in both patches\n",
    "    [1, 2]    # 'MgSiO3.mieff' cloud in both patches\n",
    "]\n",
    "\n",
    "# Particle size distribution for each cloud. Use 'None' for parameterized or grey clouds.\n",
    "# For Mie scattering clouds, specify:'hansen' or 'log_normal' distributions.\n",
    "particle_dis = ['None', 'None', 'hansen']\n",
    "\n",
    "\n",
    "\n",
    "#===Clear+Cloudy PATCHY CLOUD SETUP========\n",
    "\n",
    "\"\"\"\n",
    "# Example of a simpler two-patch setup:\n",
    "#   - Patch 1: clear\n",
    "#   - Patch 2: Mie scattering MgSiO3 cloud\n",
    "\n",
    "npatches = 2\n",
    "cloud_name = ['clear', 'MgSiO3.mieff']\n",
    "cloud_type = ['None', 'slab']\n",
    "\n",
    "cloudpatch_index = [\n",
    "    [1],  # Clear patch 1\n",
    "    [2]   # Cloudy patch 2\n",
    "]\n",
    "\n",
    "particle_dis = [\n",
    "    'None',   # Clear atmosphere\n",
    "    'hansen'  # Mie scattering distribution\n",
    "]\n",
    "\"\"\"\n",
    "# ============================\n",
    "\n",
    "\n",
    "# Create retrieval parameter object\n",
    "\n",
    "re_params = utils.Retrieval_params(\n",
    "    samplemode, chemeq, gaslist, gastype_list,\n",
    "    fwhm, do_fudge, ptype, do_clouds,\n",
    "    npatches, cloud_name, cloud_type,\n",
    "    cloudpatch_index, particle_dis,\n",
    "    instrument_instance\n",
    ")\n",
    "\n",
    "print(re_params)\n"
   ]
  },
  {
   "cell_type": "markdown",
   "id": "0621c8e7",
   "metadata": {},
   "source": [
    "### 4.1 check all retrieval parameters"
   ]
  },
  {
   "cell_type": "code",
   "execution_count": 16,
   "id": "32746b82",
   "metadata": {},
   "outputs": [
    {
     "name": "stdout",
     "output_type": "stream",
     "text": [
      "['h2o', 'co', 'tio', 'vo', 'crh', 'feh', 'p_ref_feh', 'alpha_feh', 'na', 'k', 'logg', 'r2d2', 'dlambda', 'tolerance_parameter_1', 'gamma', 'Tint', 'alpha', 'lndelta', 'T1', 'T2', 'T3', 'fcld', 'tau_pcs', 'logp_pcs', 'dp_pcs', 'omega_pcs', 'alpha_pcs', 'logp_gcd', 'dp_gcd', 'omega_gcd', 'tau_mcs_MgSiO3', 'logp_mcs_MgSiO3', 'dp_mcs_MgSiO3', 'hansen_a_mcs_MgSiO3', 'hansen_b_mcs_MgSiO3']\n"
     ]
    }
   ],
   "source": [
    "# re_params.dictionary\n",
    "all_params,all_params_values =utils.get_all_parametres(re_params.dictionary) \n",
    "print(all_params)"
   ]
  },
  {
   "cell_type": "markdown",
   "id": "1df76e3b",
   "metadata": {},
   "source": [
    "### 4.2 initialize the parameters\n",
    "You can modify or customize the initialization of all retrieval parameters like this:"
   ]
  },
  {
   "cell_type": "code",
   "execution_count": 17,
   "id": "d9e12e67",
   "metadata": {},
   "outputs": [],
   "source": [
    "re_params.dictionary['gas']['h2o']['params']['log_abund']['distribution']=['normal',-3.5,0.5]\n",
    "re_params.dictionary['gas']['co']['params']['log_abund']['distribution']=['normal',-8.0,0.5]\n",
    "re_params.dictionary['refinement_params']['params']['logg']['distribution']=['normal',4.9,0.1]"
   ]
  },
  {
   "cell_type": "markdown",
   "id": "e5d1c31e",
   "metadata": {},
   "source": [
    "## ⚙️ 5. Generating the Retrieval Arguments\n",
    "Once all configuration objects are set up, the next step is to bundle them together into a unified args_instance.\n",
    "This object holds everything the retrieval engine needs — model parameters, instrument details, observed data, and model options.\n",
    "This is handled by the ArgsGen class."
   ]
  },
  {
   "cell_type": "code",
   "execution_count": 18,
   "id": "5391b6c0",
   "metadata": {},
   "outputs": [],
   "source": [
    "obspec = np.asfortranarray(np.loadtxt(\"examples/example_data/G570D_2MHcalib.dat\",dtype='d',unpack='true'))\n",
    "args_instance = utils.ArgsGen(re_params,model_config_instance,instrument_instance,obspec)\n",
    "settings.init(args_instance)"
   ]
  },
  {
   "cell_type": "code",
   "execution_count": 19,
   "id": "55dd4c5b",
   "metadata": {},
   "outputs": [
    {
     "data": {
      "text/plain": [
       "array(['powerlaw', 'grey', 'MgSiO3.mieff'], dtype=object)"
      ]
     },
     "execution_count": 19,
     "metadata": {},
     "output_type": "execute_result"
    }
   ],
   "source": [
    "args_instance.cloud_opaname"
   ]
  },
  {
   "cell_type": "code",
   "execution_count": 20,
   "id": "49d0170c",
   "metadata": {},
   "outputs": [
    {
     "data": {
      "text/plain": [
       "array([[1, 1, 1],\n",
       "       [0, 1, 1]])"
      ]
     },
     "execution_count": 20,
     "metadata": {},
     "output_type": "execute_result"
    }
   ],
   "source": [
    "args_instance.cloudmap"
   ]
  },
  {
   "cell_type": "markdown",
   "id": "66fb1676",
   "metadata": {},
   "source": [
    "## 🚀 6. Start the retrieval ! (on cluster...)\n",
    "Once all configuration objects and arguments have been initialized, you’re ready to run the retrieval.\n",
    "This is done through the brewster_reterieval_run function in the retrieval_run module.\n",
    "This function takes care of:\n",
    "Building the forward model\n",
    "Initializing the sampler (e.g., MCMC)\n",
    "Running the retrieval loop\n",
    "Saving outputs and diagnostics"
   ]
  },
  {
   "cell_type": "code",
   "execution_count": 21,
   "id": "7aad4afd",
   "metadata": {},
   "outputs": [],
   "source": [
    "# retrieval_run.brewster_reterieval_run(re_params,model_config_instance,io_config_instance)"
   ]
  },
  {
   "cell_type": "code",
   "execution_count": null,
   "id": "f5be4b56",
   "metadata": {},
   "outputs": [],
   "source": []
  }
 ],
 "metadata": {
  "kernelspec": {
   "display_name": "Python 3 (ipykernel)",
   "language": "python",
   "name": "python3"
  },
  "language_info": {
   "codemirror_mode": {
    "name": "ipython",
    "version": 3
   },
   "file_extension": ".py",
   "mimetype": "text/x-python",
   "name": "python",
   "nbconvert_exporter": "python",
   "pygments_lexer": "ipython3",
   "version": "3.11.5"
  }
 },
 "nbformat": 4,
 "nbformat_minor": 5
}
